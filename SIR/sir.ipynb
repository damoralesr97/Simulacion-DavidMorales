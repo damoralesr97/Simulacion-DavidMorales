{
 "cells": [
  {
   "cell_type": "markdown",
   "metadata": {},
   "source": [
    "## Generar la prediccion del modelos SIR\n",
    "\n",
    " Se debe  estimar el valor de \n",
    "- β \n",
    "- γ\n",
    "\n",
    "Para ajustar el modelo SIR con los casos confirmados reales (el número de personas infecciosas) del Ecuador.\n",
    " \n",
    " Para ello deben seguir el siguiente tutorial \n",
    " https://www.lewuathe.com/covid-19-dynamics-with-sir-model.html\n",
    " \n"
   ]
  },
  {
   "cell_type": "code",
   "execution_count": 49,
   "metadata": {},
   "outputs": [],
   "source": [
    "import pandas as pd\n",
    "import numpy as np\n",
    "import scipy.integrate as spi\n",
    "from scipy.optimize import minimize\n",
    "from scipy.integrate import solve_ivp\n",
    "from datetime import timedelta, datetime\n",
    "import matplotlib.pyplot as plt"
   ]
  },
  {
   "cell_type": "markdown",
   "metadata": {},
   "source": [
    "### Variables iniciales\n",
    "Para esta simulacion se va a suponer que existen existen 300 contagiados, 0 recuperados y 3500 de personas suceptibles a contagiarse.\n",
    "El tiempo de la simulacion sera para un año."
   ]
  },
  {
   "cell_type": "code",
   "execution_count": 50,
   "metadata": {},
   "outputs": [],
   "source": [
    "I0=300\n",
    "R0=0\n",
    "S0 = 3500\n",
    "t = 365\n",
    "y0 = S0,I0,R0"
   ]
  },
  {
   "cell_type": "markdown",
   "metadata": {},
   "source": [
    "Obtenemos la informacion de recuperados y confirmados en Ecuador desde el 13 de abril del 2020"
   ]
  },
  {
   "cell_type": "code",
   "execution_count": 64,
   "metadata": {},
   "outputs": [],
   "source": [
    "def cargar_confirmados(pais,fecha):\n",
    "      df = pd.read_csv('time_series_covid19_confirmed_global.csv')\n",
    "      df = df[df['Country/Region'] == pais]\n",
    "      return df.iloc[0].loc[fecha:]"
   ]
  },
  {
   "cell_type": "code",
   "execution_count": 65,
   "metadata": {},
   "outputs": [],
   "source": [
    "def cargar_recuperados(pais,fecha):\n",
    "      df = pd.read_csv('time_series_covid19_recovered_global.csv')\n",
    "      df = df[df['Country/Region'] == pais]\n",
    "      return df.iloc[0].loc[fecha:]"
   ]
  },
  {
   "cell_type": "code",
   "execution_count": 66,
   "metadata": {},
   "outputs": [],
   "source": [
    "confirmados=cargar_confirmados('Ecuador','4/13/20');\n",
    "recuperados=cargar_recuperados('Ecuador','4/13/20');"
   ]
  },
  {
   "cell_type": "markdown",
   "metadata": {},
   "source": [
    "Hacemos uso de las funciones definidas en el tutorial, estas funciones nos daran los valores de beta y gamma"
   ]
  },
  {
   "cell_type": "code",
   "execution_count": 54,
   "metadata": {},
   "outputs": [],
   "source": [
    "def loss_confirmed_recovered(point, data, recovered):\n",
    "    size = len(data)\n",
    "    beta, gamma = point\n",
    "    def SIR(t, y):\n",
    "        S = y[0]\n",
    "        I = y[1]\n",
    "        R = y[2]\n",
    "        return [-beta*S*I, beta*S*I-gamma*I, gamma*I]\n",
    "    solution = solve_ivp(SIR, [0, size], [S0,I0,R0], t_eval=np.arange(0, size, 1), vectorized=True)\n",
    "    l1 = np.sqrt(np.mean((solution.y[1] - data)**2))\n",
    "    l2 = np.sqrt(np.mean((solution.y[2] - recovered)**2))\n",
    "    alpha = 0.1\n",
    "    return alpha * l1 + (1 - alpha) * l2"
   ]
  },
  {
   "cell_type": "code",
   "execution_count": 55,
   "metadata": {},
   "outputs": [],
   "source": [
    "def loss_confirmed(point, data):\n",
    "    size = len(data)\n",
    "    beta, gamma = point\n",
    "    def SIR(t, y):\n",
    "        S = y[0]\n",
    "        I = y[1]\n",
    "        R = y[2]\n",
    "        return [-beta*S*I, beta*S*I-gamma*I, gamma*I]\n",
    "    solution = solve_ivp(SIR, [0, size], [S0,I0,R0], t_eval=np.arange(0, size, 1), vectorized=True)\n",
    "    return np.sqrt(np.mean((solution.y[1] - data)**2))"
   ]
  },
  {
   "cell_type": "code",
   "execution_count": 56,
   "metadata": {},
   "outputs": [],
   "source": [
    "def extend_index(index, new_size):\n",
    "        values = index.values\n",
    "        current = datetime.strptime(index[-1], '%m/%d/%y')\n",
    "        while len(values) < new_size:\n",
    "            current = current + timedelta(days=1)\n",
    "            values = np.append(values, datetime.strftime(current, '%m/%d/%y'))\n",
    "        return values"
   ]
  },
  {
   "cell_type": "code",
   "execution_count": 57,
   "metadata": {},
   "outputs": [],
   "source": [
    "def predict(beta, gamma, data):\n",
    "        predict_range = t\n",
    "        new_index = extend_index(data.index, predict_range)\n",
    "        size = len(new_index)\n",
    "        def SIR(t, y):\n",
    "            S = y[0]\n",
    "            I = y[1]\n",
    "            R = y[2]\n",
    "            return [-beta*S*I, beta*S*I-gamma*I, gamma*I]\n",
    "        extended_actual = np.concatenate((data.values, [None] * (size - len(data.values))))\n",
    "        return new_index, extended_actual, solve_ivp(SIR, [0, size], [S0,I0,R0], t_eval=np.arange(0, size, 1))"
   ]
  },
  {
   "cell_type": "markdown",
   "metadata": {},
   "source": [
    "# Confirmados"
   ]
  },
  {
   "cell_type": "code",
   "execution_count": 58,
   "metadata": {},
   "outputs": [],
   "source": [
    "data = data_confirmed\n",
    "optimal = minimize(\n",
    "    loss_confirmed,\n",
    "    [0.001, 0.001],\n",
    "    args=(data),\n",
    "    method='L-BFGS-B',\n",
    "    bounds=[(0.00000001, 0.4), (0.00000001, 0.4)]\n",
    ")\n",
    "beta, gamma = optimal.x"
   ]
  },
  {
   "cell_type": "markdown",
   "metadata": {},
   "source": [
    "### Predicción"
   ]
  },
  {
   "cell_type": "code",
   "execution_count": 59,
   "metadata": {},
   "outputs": [],
   "source": [
    "new_index, extended_actual, prediction = predict(beta, gamma, data)"
   ]
  },
  {
   "cell_type": "code",
   "execution_count": 60,
   "metadata": {},
   "outputs": [
    {
     "data": {
      "text/plain": [
       "<AxesSubplot:title={'center':'Ecuador'}>"
      ]
     },
     "execution_count": 60,
     "metadata": {},
     "output_type": "execute_result"
    },
    {
     "data": {
      "image/png": "[encoded data removed]",
      "text/plain": [
       "<Figure size 1080x720 with 1 Axes>"
      ]
     },
     "metadata": {
      "needs_background": "light"
     },
     "output_type": "display_data"
    }
   ],
   "source": [
    "df = pd.DataFrame({\n",
    "    'S': prediction.y[0],\n",
    "    'I': prediction.y[1],\n",
    "    'R': prediction.y[2]\n",
    "}, index=new_index)\n",
    "fig, ax = plt.subplots(figsize=(15, 10))\n",
    "ax.set_title('Ecuador')\n",
    "df.plot(ax=ax)"
   ]
  },
  {
   "cell_type": "markdown",
   "metadata": {},
   "source": [
    "Al tratarse unicamente del analisis SIR para casos confirmados podemos ver que no existen recuperados, y por este motivo las personas infeccionas no reducen su cantidad en el transcurso del tiempo."
   ]
  },
  {
   "cell_type": "markdown",
   "metadata": {},
   "source": [
    "# Confirmados y Recuperados"
   ]
  },
  {
   "cell_type": "code",
   "execution_count": 61,
   "metadata": {},
   "outputs": [],
   "source": [
    "dataConfirmed = data_confirmed\n",
    "dataRecovered = data_recovered\n",
    "optimal = minimize(\n",
    "    loss_confirmed_recovered,\n",
    "    [0.001, 0.001],\n",
    "    args=(dataConfirmed, dataRecovered),\n",
    "    method='L-BFGS-B',\n",
    "    bounds=[(0.00000001, 0.4), (0.00000001, 0.4)]\n",
    ")\n",
    "betaC, gammaC = optimal.x"
   ]
  },
  {
   "cell_type": "markdown",
   "metadata": {},
   "source": [
    "### Predicción"
   ]
  },
  {
   "cell_type": "code",
   "execution_count": 62,
   "metadata": {},
   "outputs": [],
   "source": [
    "new_indexC, extended_actualC, predictionC = predict(betaC, gammaC, dataConfirmed)"
   ]
  },
  {
   "cell_type": "code",
   "execution_count": 63,
   "metadata": {},
   "outputs": [
    {
     "data": {
      "image/png": "[encoded data removed]",
      "text/plain": [
       "<Figure size 1080x720 with 1 Axes>"
      ]
     },
     "metadata": {
      "needs_background": "light"
     },
     "output_type": "display_data"
    }
   ],
   "source": [
    "df = pd.DataFrame({\n",
    "    'S': predictionC.y[0],\n",
    "    'I': predictionC.y[1],\n",
    "    'R': predictionC.y[2]\n",
    "}, index=new_index)\n",
    "fig, ax = plt.subplots(figsize=(15, 10))\n",
    "ax.set_title('Ecuador')\n",
    "df.plot(ax=ax)"
   ]
  },
  {
   "cell_type": "markdown",
   "metadata": {},
   "source": [
    "En esta grafica a diferencia de la anterior nos podemos dar cuenta que los infecciosos disminuyen su valor mientras que los recuperados aumentan, sin embargo las personas suceptibles no sufren ningun cambio con respecto al anterior grafico"
   ]
  }
 ],
 "metadata": {
  "kernelspec": {
   "display_name": "Python 3",
   "language": "python",
   "name": "python3"
  },
  "language_info": {
   "codemirror_mode": {
    "name": "ipython",
    "version": 3
   },
   "file_extension": ".py",
   "mimetype": "text/x-python",
   "name": "python",
   "nbconvert_exporter": "python",
   "pygments_lexer": "ipython3",
   "version": "3.9.4"
  }
 },
 "nbformat": 4,
 "nbformat_minor": 2
}
