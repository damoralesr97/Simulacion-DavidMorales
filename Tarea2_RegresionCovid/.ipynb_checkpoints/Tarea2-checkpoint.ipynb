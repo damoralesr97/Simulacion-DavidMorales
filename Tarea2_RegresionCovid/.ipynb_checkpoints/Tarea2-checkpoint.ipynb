{
 "cells": [
  {
   "cell_type": "markdown",
   "id": "e22f9f6f",
   "metadata": {},
   "source": [
    "## Tarea 2: Regresión de los casos COVID\n",
    "Generar un modelo de regresión de los casos confirmados de COVID dentro del Ecuador, el mismo que permita predecir el comportamiento y/o predicción de la pandemia, tomar los datos desde el inicio e identificar etapas: Confinamiento, Toques de Queda, Feriados, etc."
   ]
  },
  {
   "cell_type": "code",
   "execution_count": 423,
   "id": "cf6a1926",
   "metadata": {},
   "outputs": [],
   "source": [
    "# Importar las librerias para el analasis\n",
    "import pandas as pd\n",
    "import numpy as np\n",
    "from datetime import datetime,timedelta\n",
    "from sklearn.metrics import mean_squared_error\n",
    "from scipy.optimize import curve_fit\n",
    "from scipy.optimize import fsolve\n",
    "from sklearn import linear_model\n",
    "from sklearn.preprocessing import PolynomialFeatures \n",
    "import matplotlib.pyplot as plt"
   ]
  },
  {
   "cell_type": "code",
   "execution_count": 424,
   "id": "485f19ee",
   "metadata": {},
   "outputs": [
    {
     "data": {
      "text/html": [
       "<div>\n",
       "<style scoped>\n",
       "    .dataframe tbody tr th:only-of-type {\n",
       "        vertical-align: middle;\n",
       "    }\n",
       "\n",
       "    .dataframe tbody tr th {\n",
       "        vertical-align: top;\n",
       "    }\n",
       "\n",
       "    .dataframe thead th {\n",
       "        text-align: right;\n",
       "    }\n",
       "</style>\n",
       "<table border=\"1\" class=\"dataframe\">\n",
       "  <thead>\n",
       "    <tr style=\"text-align: right;\">\n",
       "      <th></th>\n",
       "      <th>date</th>\n",
       "      <th>World</th>\n",
       "      <th>Afghanistan</th>\n",
       "      <th>Albania</th>\n",
       "      <th>Algeria</th>\n",
       "      <th>Andorra</th>\n",
       "      <th>Angola</th>\n",
       "      <th>Anguilla</th>\n",
       "      <th>Antigua and Barbuda</th>\n",
       "      <th>Argentina</th>\n",
       "      <th>...</th>\n",
       "      <th>Uzbekistan</th>\n",
       "      <th>Vanuatu</th>\n",
       "      <th>Vatican</th>\n",
       "      <th>Venezuela</th>\n",
       "      <th>Vietnam</th>\n",
       "      <th>Wallis and Futuna</th>\n",
       "      <th>Western Sahara</th>\n",
       "      <th>Yemen</th>\n",
       "      <th>Zambia</th>\n",
       "      <th>Zimbabwe</th>\n",
       "    </tr>\n",
       "  </thead>\n",
       "  <tbody>\n",
       "    <tr>\n",
       "      <th>74</th>\n",
       "      <td>2020-03-14</td>\n",
       "      <td>10464</td>\n",
       "      <td>NaN</td>\n",
       "      <td>10.0</td>\n",
       "      <td>1.0</td>\n",
       "      <td>1.0</td>\n",
       "      <td>NaN</td>\n",
       "      <td>NaN</td>\n",
       "      <td>NaN</td>\n",
       "      <td>3.0</td>\n",
       "      <td>...</td>\n",
       "      <td>NaN</td>\n",
       "      <td>NaN</td>\n",
       "      <td>NaN</td>\n",
       "      <td>NaN</td>\n",
       "      <td>9.0</td>\n",
       "      <td>NaN</td>\n",
       "      <td>NaN</td>\n",
       "      <td>NaN</td>\n",
       "      <td>NaN</td>\n",
       "      <td>NaN</td>\n",
       "    </tr>\n",
       "    <tr>\n",
       "      <th>14</th>\n",
       "      <td>2020-01-14</td>\n",
       "      <td>1</td>\n",
       "      <td>0.0</td>\n",
       "      <td>NaN</td>\n",
       "      <td>0.0</td>\n",
       "      <td>NaN</td>\n",
       "      <td>NaN</td>\n",
       "      <td>NaN</td>\n",
       "      <td>NaN</td>\n",
       "      <td>NaN</td>\n",
       "      <td>...</td>\n",
       "      <td>NaN</td>\n",
       "      <td>NaN</td>\n",
       "      <td>NaN</td>\n",
       "      <td>NaN</td>\n",
       "      <td>0.0</td>\n",
       "      <td>NaN</td>\n",
       "      <td>NaN</td>\n",
       "      <td>NaN</td>\n",
       "      <td>NaN</td>\n",
       "      <td>NaN</td>\n",
       "    </tr>\n",
       "    <tr>\n",
       "      <th>247</th>\n",
       "      <td>2020-09-03</td>\n",
       "      <td>284989</td>\n",
       "      <td>38.0</td>\n",
       "      <td>122.0</td>\n",
       "      <td>325.0</td>\n",
       "      <td>15.0</td>\n",
       "      <td>75.0</td>\n",
       "      <td>0.0</td>\n",
       "      <td>0.0</td>\n",
       "      <td>10504.0</td>\n",
       "      <td>...</td>\n",
       "      <td>170.0</td>\n",
       "      <td>NaN</td>\n",
       "      <td>0.0</td>\n",
       "      <td>1127.0</td>\n",
       "      <td>2.0</td>\n",
       "      <td>NaN</td>\n",
       "      <td>0.0</td>\n",
       "      <td>14.0</td>\n",
       "      <td>34.0</td>\n",
       "      <td>79.0</td>\n",
       "    </tr>\n",
       "    <tr>\n",
       "      <th>311</th>\n",
       "      <td>2020-11-06</td>\n",
       "      <td>612387</td>\n",
       "      <td>40.0</td>\n",
       "      <td>421.0</td>\n",
       "      <td>642.0</td>\n",
       "      <td>90.0</td>\n",
       "      <td>236.0</td>\n",
       "      <td>0.0</td>\n",
       "      <td>0.0</td>\n",
       "      <td>11100.0</td>\n",
       "      <td>...</td>\n",
       "      <td>360.0</td>\n",
       "      <td>NaN</td>\n",
       "      <td>0.0</td>\n",
       "      <td>821.0</td>\n",
       "      <td>0.0</td>\n",
       "      <td>0.0</td>\n",
       "      <td>0.0</td>\n",
       "      <td>0.0</td>\n",
       "      <td>72.0</td>\n",
       "      <td>17.0</td>\n",
       "    </tr>\n",
       "    <tr>\n",
       "      <th>232</th>\n",
       "      <td>2020-08-19</td>\n",
       "      <td>258063</td>\n",
       "      <td>0.0</td>\n",
       "      <td>155.0</td>\n",
       "      <td>419.0</td>\n",
       "      <td>0.0</td>\n",
       "      <td>60.0</td>\n",
       "      <td>0.0</td>\n",
       "      <td>0.0</td>\n",
       "      <td>4557.0</td>\n",
       "      <td>...</td>\n",
       "      <td>660.0</td>\n",
       "      <td>NaN</td>\n",
       "      <td>0.0</td>\n",
       "      <td>895.0</td>\n",
       "      <td>6.0</td>\n",
       "      <td>NaN</td>\n",
       "      <td>0.0</td>\n",
       "      <td>4.0</td>\n",
       "      <td>142.0</td>\n",
       "      <td>70.0</td>\n",
       "    </tr>\n",
       "    <tr>\n",
       "      <th>305</th>\n",
       "      <td>2020-10-31</td>\n",
       "      <td>542158</td>\n",
       "      <td>157.0</td>\n",
       "      <td>319.0</td>\n",
       "      <td>319.0</td>\n",
       "      <td>98.0</td>\n",
       "      <td>195.0</td>\n",
       "      <td>0.0</td>\n",
       "      <td>3.0</td>\n",
       "      <td>13955.0</td>\n",
       "      <td>...</td>\n",
       "      <td>86.0</td>\n",
       "      <td>NaN</td>\n",
       "      <td>0.0</td>\n",
       "      <td>309.0</td>\n",
       "      <td>0.0</td>\n",
       "      <td>0.0</td>\n",
       "      <td>0.0</td>\n",
       "      <td>0.0</td>\n",
       "      <td>90.0</td>\n",
       "      <td>13.0</td>\n",
       "    </tr>\n",
       "    <tr>\n",
       "      <th>109</th>\n",
       "      <td>2020-04-18</td>\n",
       "      <td>82272</td>\n",
       "      <td>51.0</td>\n",
       "      <td>21.0</td>\n",
       "      <td>150.0</td>\n",
       "      <td>14.0</td>\n",
       "      <td>0.0</td>\n",
       "      <td>0.0</td>\n",
       "      <td>0.0</td>\n",
       "      <td>98.0</td>\n",
       "      <td>...</td>\n",
       "      <td>70.0</td>\n",
       "      <td>NaN</td>\n",
       "      <td>0.0</td>\n",
       "      <td>23.0</td>\n",
       "      <td>0.0</td>\n",
       "      <td>NaN</td>\n",
       "      <td>NaN</td>\n",
       "      <td>0.0</td>\n",
       "      <td>4.0</td>\n",
       "      <td>0.0</td>\n",
       "    </tr>\n",
       "    <tr>\n",
       "      <th>205</th>\n",
       "      <td>2020-07-23</td>\n",
       "      <td>283889</td>\n",
       "      <td>188.0</td>\n",
       "      <td>68.0</td>\n",
       "      <td>594.0</td>\n",
       "      <td>5.0</td>\n",
       "      <td>30.0</td>\n",
       "      <td>0.0</td>\n",
       "      <td>0.0</td>\n",
       "      <td>5344.0</td>\n",
       "      <td>...</td>\n",
       "      <td>360.0</td>\n",
       "      <td>NaN</td>\n",
       "      <td>0.0</td>\n",
       "      <td>0.0</td>\n",
       "      <td>7.0</td>\n",
       "      <td>NaN</td>\n",
       "      <td>0.0</td>\n",
       "      <td>11.0</td>\n",
       "      <td>257.0</td>\n",
       "      <td>214.0</td>\n",
       "    </tr>\n",
       "    <tr>\n",
       "      <th>59</th>\n",
       "      <td>2020-02-28</td>\n",
       "      <td>1271</td>\n",
       "      <td>0.0</td>\n",
       "      <td>NaN</td>\n",
       "      <td>0.0</td>\n",
       "      <td>NaN</td>\n",
       "      <td>NaN</td>\n",
       "      <td>NaN</td>\n",
       "      <td>NaN</td>\n",
       "      <td>NaN</td>\n",
       "      <td>...</td>\n",
       "      <td>NaN</td>\n",
       "      <td>NaN</td>\n",
       "      <td>NaN</td>\n",
       "      <td>NaN</td>\n",
       "      <td>0.0</td>\n",
       "      <td>NaN</td>\n",
       "      <td>NaN</td>\n",
       "      <td>NaN</td>\n",
       "      <td>NaN</td>\n",
       "      <td>NaN</td>\n",
       "    </tr>\n",
       "    <tr>\n",
       "      <th>224</th>\n",
       "      <td>2020-08-11</td>\n",
       "      <td>221187</td>\n",
       "      <td>0.0</td>\n",
       "      <td>125.0</td>\n",
       "      <td>498.0</td>\n",
       "      <td>7.0</td>\n",
       "      <td>100.0</td>\n",
       "      <td>0.0</td>\n",
       "      <td>0.0</td>\n",
       "      <td>4688.0</td>\n",
       "      <td>...</td>\n",
       "      <td>725.0</td>\n",
       "      <td>NaN</td>\n",
       "      <td>0.0</td>\n",
       "      <td>0.0</td>\n",
       "      <td>5.0</td>\n",
       "      <td>NaN</td>\n",
       "      <td>0.0</td>\n",
       "      <td>27.0</td>\n",
       "      <td>125.0</td>\n",
       "      <td>99.0</td>\n",
       "    </tr>\n",
       "  </tbody>\n",
       "</table>\n",
       "<p>10 rows × 216 columns</p>\n",
       "</div>"
      ],
      "text/plain": [
       "           date   World  Afghanistan  Albania  Algeria  Andorra  Angola  \\\n",
       "74   2020-03-14   10464          NaN     10.0      1.0      1.0     NaN   \n",
       "14   2020-01-14       1          0.0      NaN      0.0      NaN     NaN   \n",
       "247  2020-09-03  284989         38.0    122.0    325.0     15.0    75.0   \n",
       "311  2020-11-06  612387         40.0    421.0    642.0     90.0   236.0   \n",
       "232  2020-08-19  258063          0.0    155.0    419.0      0.0    60.0   \n",
       "305  2020-10-31  542158        157.0    319.0    319.0     98.0   195.0   \n",
       "109  2020-04-18   82272         51.0     21.0    150.0     14.0     0.0   \n",
       "205  2020-07-23  283889        188.0     68.0    594.0      5.0    30.0   \n",
       "59   2020-02-28    1271          0.0      NaN      0.0      NaN     NaN   \n",
       "224  2020-08-11  221187          0.0    125.0    498.0      7.0   100.0   \n",
       "\n",
       "     Anguilla  Antigua and Barbuda  Argentina  ...  Uzbekistan  Vanuatu  \\\n",
       "74        NaN                  NaN        3.0  ...         NaN      NaN   \n",
       "14        NaN                  NaN        NaN  ...         NaN      NaN   \n",
       "247       0.0                  0.0    10504.0  ...       170.0      NaN   \n",
       "311       0.0                  0.0    11100.0  ...       360.0      NaN   \n",
       "232       0.0                  0.0     4557.0  ...       660.0      NaN   \n",
       "305       0.0                  3.0    13955.0  ...        86.0      NaN   \n",
       "109       0.0                  0.0       98.0  ...        70.0      NaN   \n",
       "205       0.0                  0.0     5344.0  ...       360.0      NaN   \n",
       "59        NaN                  NaN        NaN  ...         NaN      NaN   \n",
       "224       0.0                  0.0     4688.0  ...       725.0      NaN   \n",
       "\n",
       "     Vatican  Venezuela  Vietnam  Wallis and Futuna  Western Sahara  Yemen  \\\n",
       "74       NaN        NaN      9.0                NaN             NaN    NaN   \n",
       "14       NaN        NaN      0.0                NaN             NaN    NaN   \n",
       "247      0.0     1127.0      2.0                NaN             0.0   14.0   \n",
       "311      0.0      821.0      0.0                0.0             0.0    0.0   \n",
       "232      0.0      895.0      6.0                NaN             0.0    4.0   \n",
       "305      0.0      309.0      0.0                0.0             0.0    0.0   \n",
       "109      0.0       23.0      0.0                NaN             NaN    0.0   \n",
       "205      0.0        0.0      7.0                NaN             0.0   11.0   \n",
       "59       NaN        NaN      0.0                NaN             NaN    NaN   \n",
       "224      0.0        0.0      5.0                NaN             0.0   27.0   \n",
       "\n",
       "     Zambia  Zimbabwe  \n",
       "74      NaN       NaN  \n",
       "14      NaN       NaN  \n",
       "247    34.0      79.0  \n",
       "311    72.0      17.0  \n",
       "232   142.0      70.0  \n",
       "305    90.0      13.0  \n",
       "109     4.0       0.0  \n",
       "205   257.0     214.0  \n",
       "59      NaN       NaN  \n",
       "224   125.0      99.0  \n",
       "\n",
       "[10 rows x 216 columns]"
      ]
     },
     "execution_count": 424,
     "metadata": {},
     "output_type": "execute_result"
    }
   ],
   "source": [
    "# Datos de contagios por COVID\n",
    "url = 'https://covid.ourworldindata.org/data/ecdc/new_cases.csv'\n",
    "df = pd.read_csv(url)\n",
    "df.sample(10)"
   ]
  },
  {
   "cell_type": "code",
   "execution_count": 425,
   "id": "4192893b",
   "metadata": {},
   "outputs": [
    {
     "data": {
      "text/html": [
       "<div>\n",
       "<style scoped>\n",
       "    .dataframe tbody tr th:only-of-type {\n",
       "        vertical-align: middle;\n",
       "    }\n",
       "\n",
       "    .dataframe tbody tr th {\n",
       "        vertical-align: top;\n",
       "    }\n",
       "\n",
       "    .dataframe thead th {\n",
       "        text-align: right;\n",
       "    }\n",
       "</style>\n",
       "<table border=\"1\" class=\"dataframe\">\n",
       "  <thead>\n",
       "    <tr style=\"text-align: right;\">\n",
       "      <th></th>\n",
       "      <th>date</th>\n",
       "      <th>Ecuador</th>\n",
       "    </tr>\n",
       "  </thead>\n",
       "  <tbody>\n",
       "    <tr>\n",
       "      <th>61</th>\n",
       "      <td>60</td>\n",
       "      <td>1.0</td>\n",
       "    </tr>\n",
       "    <tr>\n",
       "      <th>62</th>\n",
       "      <td>61</td>\n",
       "      <td>5.0</td>\n",
       "    </tr>\n",
       "    <tr>\n",
       "      <th>63</th>\n",
       "      <td>62</td>\n",
       "      <td>1.0</td>\n",
       "    </tr>\n",
       "    <tr>\n",
       "      <th>65</th>\n",
       "      <td>64</td>\n",
       "      <td>3.0</td>\n",
       "    </tr>\n",
       "    <tr>\n",
       "      <th>66</th>\n",
       "      <td>65</td>\n",
       "      <td>3.0</td>\n",
       "    </tr>\n",
       "    <tr>\n",
       "      <th>...</th>\n",
       "      <td>...</td>\n",
       "      <td>...</td>\n",
       "    </tr>\n",
       "    <tr>\n",
       "      <th>330</th>\n",
       "      <td>329</td>\n",
       "      <td>492.0</td>\n",
       "    </tr>\n",
       "    <tr>\n",
       "      <th>331</th>\n",
       "      <td>330</td>\n",
       "      <td>794.0</td>\n",
       "    </tr>\n",
       "    <tr>\n",
       "      <th>332</th>\n",
       "      <td>331</td>\n",
       "      <td>908.0</td>\n",
       "    </tr>\n",
       "    <tr>\n",
       "      <th>333</th>\n",
       "      <td>332</td>\n",
       "      <td>1396.0</td>\n",
       "    </tr>\n",
       "    <tr>\n",
       "      <th>334</th>\n",
       "      <td>333</td>\n",
       "      <td>1375.0</td>\n",
       "    </tr>\n",
       "  </tbody>\n",
       "</table>\n",
       "<p>256 rows × 2 columns</p>\n",
       "</div>"
      ],
      "text/plain": [
       "     date  Ecuador\n",
       "61     60      1.0\n",
       "62     61      5.0\n",
       "63     62      1.0\n",
       "65     64      3.0\n",
       "66     65      3.0\n",
       "..    ...      ...\n",
       "330   329    492.0\n",
       "331   330    794.0\n",
       "332   331    908.0\n",
       "333   332   1396.0\n",
       "334   333   1375.0\n",
       "\n",
       "[256 rows x 2 columns]"
      ]
     },
     "execution_count": 425,
     "metadata": {},
     "output_type": "execute_result"
    }
   ],
   "source": [
    "df = df.loc[:,['date','Ecuador']] #Seleccionar la columna correspondiente a la información de Ecuador\n",
    "\n",
    "# Expresar las fechas en numero de dias desde el 01 Enero del 2020\n",
    "FMT = '%Y-%m-%d'\n",
    "date = df['date']\n",
    "df['date'] = date.map(lambda x : (datetime.strptime(x, FMT) - datetime.strptime(\"2020-01-01\", FMT)).days)\n",
    "\n",
    "# Analizando la información correspondiente a Ecuador, me di cuenta que el primer caso confirmado según el DataSet,\n",
    "# corresponde al 01-03-2020 que corresponde al dia 60, por esto obtenemos la informacion para realizar el analisis\n",
    "# desde este dia, tambien eliminamos las filas con valores que no estan acorde al analisis, como por ejemplo,\n",
    "# valores nulos o iguales a 0, e información que esta fuera de contexto.\n",
    "\n",
    "primerCaso = df.loc[:, 'date'] >= 60 \n",
    "df = df.loc[primerCaso,]\n",
    "df = df.dropna()\n",
    "df = df.drop(df[df['Ecuador']<1].index)\n",
    "df = df.drop(df[df['Ecuador']>10000].index)\n",
    "df"
   ]
  },
  {
   "cell_type": "markdown",
   "id": "c411e3e3",
   "metadata": {},
   "source": [
    "#### Gráfica de la información de contagios en Ecuador desde el 01/03/2020 hasta el 29/11/2020"
   ]
  },
  {
   "cell_type": "code",
   "execution_count": 426,
   "id": "fd6a5ad2",
   "metadata": {},
   "outputs": [
    {
     "data": {
      "text/plain": [
       "<AxesSubplot:xlabel='date'>"
      ]
     },
     "execution_count": 426,
     "metadata": {},
     "output_type": "execute_result"
    },
    {
     "data": {
      "image/png": "[encoded data removed]",
      "text/plain": [
       "<Figure size 504x504 with 1 Axes>"
      ]
     },
     "metadata": {
      "needs_background": "light"
     },
     "output_type": "display_data"
    }
   ],
   "source": [
    "df.plot(x ='date', y='Ecuador')"
   ]
  },
  {
   "cell_type": "code",
   "execution_count": 427,
   "id": "523fa402",
   "metadata": {},
   "outputs": [],
   "source": [
    "x = list(df.iloc [:, 0]) # Fecha\n",
    "y = list(df.iloc [:, 1]) # Numero de casos"
   ]
  },
  {
   "cell_type": "markdown",
   "id": "1423e299",
   "metadata": {},
   "source": [
    "## Regresión lineal\n",
    "\n",
    "La regresión lineal es un algoritmo de aprendizaje supervisado que se utiliza en Machine Learning y en estadística. En su versión más sencilla, lo que haremos es «dibujar una recta» que nos indicará la tendencia de un conjunto de datos continuos.\n",
    "\n",
    "Recordemos rápidamente la fórmula de la recta:\n",
    "\n",
    "Y = mX + b\n",
    "\n",
    "Donde Y es el resultado, X es la variable, m la pendiente (o coeficiente) de la recta y b la constante o también conocida como el «punto de corte con el eje Y» en la gráfica (cuando X=0)."
   ]
  },
  {
   "cell_type": "code",
   "execution_count": 428,
   "id": "02dda8a1",
   "metadata": {},
   "outputs": [
    {
     "name": "stdout",
     "output_type": "stream",
     "text": [
      "Coefficients: \n",
      " [3.07017619]\n",
      "Independent term: \n",
      " 129.71476028519646\n"
     ]
    }
   ],
   "source": [
    "# Creamos el objeto de Regresión Lineal\n",
    "regr = linear_model.LinearRegression()\n",
    " \n",
    "# Entrenamos nuestro modelo\n",
    "regr.fit(np.array(x).reshape(-1, 1) ,y)\n",
    "\n",
    "# Veamos los coeficienetes obtenidos, En nuestro caso, serán la Tangente\n",
    "print('Coefficients: \\n', regr.coef_)\n",
    "# Este es el valor donde corta el eje Y (en X=0)\n",
    "print('Independent term: \\n', regr.intercept_)"
   ]
  },
  {
   "cell_type": "code",
   "execution_count": 429,
   "id": "475dda2e",
   "metadata": {},
   "outputs": [
    {
     "name": "stdout",
     "output_type": "stream",
     "text": [
      "Prediccion para la fecha 24/04/2021:\n",
      "1600\n"
     ]
    }
   ],
   "source": [
    "#Vamos a comprobar:\n",
    "# Quiero predecir cuántos \"Casos\" hay en la fecha actual 24/04/2021,\n",
    "# según nuestro modelo, hacemos:\n",
    "y_prediccion = regr.predict([[479]])\n",
    "print(\"Prediccion para la fecha 24/04/2021:\")\n",
    "print(int(y_prediccion))"
   ]
  },
  {
   "cell_type": "code",
   "execution_count": 430,
   "id": "21acc5c0",
   "metadata": {},
   "outputs": [
    {
     "data": {
      "image/png": "[encoded data removed]",
      "text/plain": [
       "<Figure size 504x504 with 1 Axes>"
      ]
     },
     "metadata": {
      "needs_background": "light"
     },
     "output_type": "display_data"
    }
   ],
   "source": [
    "#Graficar\n",
    "plt.scatter(x, y)\n",
    "x_real = np.array(range(min(x), max(x)+100))\n",
    "plt.plot(x_real, regr.predict(x_real.reshape(-1, 1)), color='green')\n",
    "plt.show()"
   ]
  },
  {
   "cell_type": "markdown",
   "id": "7c9f84cf",
   "metadata": {},
   "source": [
    "## Regresión logística\n",
    "\n",
    "El modelo logístico se ha utilizado ampliamente para describir el crecimiento de una población. Una infección puede describirse como el crecimiento de la población de un agente patógeno, por lo que un modelo logístico parece razonable. La expresión más genérica de una función logística es:\n",
    "\n",
    "a + b * log(x)\n",
    "\n",
    "En esta fórmula, tenemos la variable x que es el tiempo y tres parámetros: a, b, c .\n",
    "\n",
    "* a se refiere a la velocidad de infección\n",
    "* b es el día en que ocurrieron las infecciones máximas\n",
    "* c es el número total de personas infectadas registradas al final de la infección"
   ]
  },
  {
   "cell_type": "code",
   "execution_count": 431,
   "id": "de02d3e8",
   "metadata": {},
   "outputs": [
    {
     "name": "stdout",
     "output_type": "stream",
     "text": [
      "(array([-2290.65922776,   582.88046454]), array([[ 94591.70270868, -18005.18603871],\n",
      "       [-18005.18603871,   3453.17534799]]))\n"
     ]
    }
   ],
   "source": [
    "def modelo_logistico(x,a,b):\n",
    "    return a+b*np.log(x)\n",
    "\n",
    "log_fit = curve_fit(modelo_logistico,x,y) #Extraemos los valores de los paramatros\n",
    "print(log_fit)"
   ]
  },
  {
   "cell_type": "code",
   "execution_count": 432,
   "id": "8382b980",
   "metadata": {},
   "outputs": [
    {
     "name": "stdout",
     "output_type": "stream",
     "text": [
      "Prediccion para la fecha 24/04/2021:\n",
      "1306\n"
     ]
    }
   ],
   "source": [
    "#Vamos a comprobar:\n",
    "# Quiero predecir cuántos \"Casos\" hay en la fecha actual 24/04/2021,\n",
    "# según nuestro modelo, hacemos:\n",
    "prediccion_reg = modelo_logistico(479,log_fit[0][0],log_fit[0][1])\n",
    "print(\"Prediccion para la fecha 24/04/2021:\")\n",
    "print(int(prediccion_reg))"
   ]
  },
  {
   "cell_type": "code",
   "execution_count": 433,
   "id": "ccc5a162",
   "metadata": {},
   "outputs": [
    {
     "data": {
      "image/png": "[encoded data removed]",
      "text/plain": [
       "<Figure size 504x504 with 1 Axes>"
      ]
     },
     "metadata": {
      "needs_background": "light"
     },
     "output_type": "display_data"
    }
   ],
   "source": [
    "pred_x = list(range(min(x),max(x)+100)) # Predecir 50 dias mas\n",
    "plt.rcParams['figure.figsize'] = [7, 7]\n",
    "plt.rc('font', size=14)\n",
    "# Real data\n",
    "plt.scatter(x,y,label=\"Datos Reales\",color=\"red\")\n",
    "# Predicted exponential curve\n",
    "plt.plot(pred_x, [modelo_logistico(i,log_fit[0][0],log_fit[0][1]) for i in pred_x], label=\"Modelo Logistico\" )\n",
    "plt.legend()\n",
    "plt.xlabel(\"Desde el 1 Enero 2020\")\n",
    "plt.ylabel(\"Total de personas infectadas\")\n",
    "plt.ylim((min(y)*0.9,max(y)*3.1)) # Definir los limites de Y\n",
    "plt.show()"
   ]
  },
  {
   "cell_type": "markdown",
   "id": "84498c40",
   "metadata": {},
   "source": [
    "## Regresión polinómica\n",
    "\n",
    "Predicción de una variable de respuesta cuantitativa a partir de una variable predictora cuantitativa, donde la relación se modela como una función polinomial de orden n (esto significa que pueden tener de diferentes exponenciales o grados y se debe ir probando)\n",
    "\n",
    "Se puede tener una ecuacion con diferentes grados\n",
    "\n",
    "y = a0 + a1x + a2x^2 + a3x^3 + … + anx^n + ε"
   ]
  },
  {
   "cell_type": "code",
   "execution_count": 434,
   "id": "cd3ef6e3",
   "metadata": {},
   "outputs": [
    {
     "name": "stdout",
     "output_type": "stream",
     "text": [
      "w = [ 0.00000000e+00 -3.63004093e-09  5.80215143e-09  5.16136486e-07\n",
      "  2.57485413e-05 -3.63358685e-07  1.97816137e-09 -4.84078587e-12\n",
      "  4.45113448e-15], b = -127.96741197713709\n"
     ]
    }
   ],
   "source": [
    "pf = PolynomialFeatures(degree = 8)\n",
    "XPoly = pf.fit_transform(np.array(x).reshape(-1, 1))\n",
    "regresion_lineal = linear_model.LinearRegression()\n",
    "regresion_lineal.fit(XPoly, y)\n",
    "print('w = ' + str(regresion_lineal.coef_) + ', b = ' + str(regresion_lineal.intercept_))"
   ]
  },
  {
   "cell_type": "code",
   "execution_count": 435,
   "id": "36a81200",
   "metadata": {},
   "outputs": [
    {
     "name": "stdout",
     "output_type": "stream",
     "text": [
      "Prediccion para la fecha 24/04/2021:\n",
      "414740\n"
     ]
    }
   ],
   "source": [
    "#Vamos a comprobar:\n",
    "# Quiero predecir cuántos \"Casos\" hay en la fecha actual 24/04/2021,\n",
    "# según nuestro modelo, hacemos:\n",
    "yPoly_prediccion = regresion_lineal.predict(pf.fit_transform([[479]]))\n",
    "print(\"Prediccion para la fecha 24/04/2021:\")\n",
    "print(int(yPoly_prediccion))"
   ]
  },
  {
   "cell_type": "code",
   "execution_count": 436,
   "id": "a90ec2f6",
   "metadata": {},
   "outputs": [
    {
     "data": {
      "image/png": "[encoded data removed]",
      "text/plain": [
       "<Figure size 504x504 with 1 Axes>"
      ]
     },
     "metadata": {
      "needs_background": "light"
     },
     "output_type": "display_data"
    }
   ],
   "source": [
    "#Graficar\n",
    "plt.scatter(x, y)\n",
    "x_real = np.array(range(min(x), max(x)+50))\n",
    "plt.plot(x_real, regresion_lineal.predict(pf.fit_transform(x_real.reshape(-1, 1))), color='red')\n",
    "plt.show()"
   ]
  }
 ],
 "metadata": {
  "kernelspec": {
   "display_name": "Python 3",
   "language": "python",
   "name": "python3"
  },
  "language_info": {
   "codemirror_mode": {
    "name": "ipython",
    "version": 3
   },
   "file_extension": ".py",
   "mimetype": "text/x-python",
   "name": "python",
   "nbconvert_exporter": "python",
   "pygments_lexer": "ipython3",
   "version": "3.9.4"
  }
 },
 "nbformat": 4,
 "nbformat_minor": 5
}
