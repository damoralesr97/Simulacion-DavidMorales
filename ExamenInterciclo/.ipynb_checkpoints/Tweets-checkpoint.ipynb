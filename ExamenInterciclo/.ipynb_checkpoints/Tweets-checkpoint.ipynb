{
 "cells": [
  {
   "cell_type": "code",
   "execution_count": 23,
   "id": "9b583bdc",
   "metadata": {},
   "outputs": [],
   "source": [
    "import pandas as pd\n",
    "import twint"
   ]
  },
  {
   "cell_type": "code",
   "execution_count": 24,
   "id": "beecd9d3",
   "metadata": {},
   "outputs": [],
   "source": [
    "get = 0\n",
    "if get!=0:\n",
    "    c = twint.Config()\n",
    "    c.Username = 'LassoGuillermo'\n",
    "    c.Since = '2020-01-01'\n",
    "    c.Store_json=True\n",
    "    c.Output='./data.json'\n",
    "    twint.run.Search(c)"
   ]
  },
  {
   "cell_type": "code",
   "execution_count": null,
   "id": "f36cb174",
   "metadata": {},
   "outputs": [],
   "source": [
    "df = pd.read_json('./data.json',lines=True)\n",
    "df.to_csv(\"tweets.csv\")"
   ]
  }
 ],
 "metadata": {
  "kernelspec": {
   "display_name": "Python 3",
   "language": "python",
   "name": "python3"
  },
  "language_info": {
   "codemirror_mode": {
    "name": "ipython",
    "version": 3
   },
   "file_extension": ".py",
   "mimetype": "text/x-python",
   "name": "python",
   "nbconvert_exporter": "python",
   "pygments_lexer": "ipython3",
   "version": "3.9.4"
  }
 },
 "nbformat": 4,
 "nbformat_minor": 5
}
