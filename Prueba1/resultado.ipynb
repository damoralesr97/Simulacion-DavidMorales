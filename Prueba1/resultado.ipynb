{
 "cells": [
  {
   "cell_type": "code",
   "execution_count": 1,
   "id": "f00902da",
   "metadata": {
    "execution": {
     "iopub.execute_input": "2021-05-10T00:48:00.022758Z",
     "iopub.status.busy": "2021-05-10T00:48:00.021660Z",
     "iopub.status.idle": "2021-05-10T00:48:02.045071Z",
     "shell.execute_reply": "2021-05-10T00:48:02.045584Z"
    },
    "papermill": {
     "duration": 2.074081,
     "end_time": "2021-05-10T00:48:02.045922",
     "exception": false,
     "start_time": "2021-05-10T00:47:59.971841",
     "status": "completed"
    },
    "tags": []
   },
   "outputs": [],
   "source": [
    "# Importar las librerias para el analasis\n",
    "import pandas as pd\n",
    "import numpy as np\n",
    "from datetime import datetime,timedelta\n",
    "from sklearn.metrics import mean_squared_error\n",
    "from scipy.optimize import curve_fit\n",
    "from scipy.optimize import fsolve\n",
    "from sklearn import linear_model\n",
    "from sklearn.ensemble import RandomForestRegressor\n",
    "from sklearn.model_selection import train_test_split \n",
    "import matplotlib.pyplot as plt\n",
    "import datetime"
   ]
  },
  {
   "cell_type": "code",
   "execution_count": 2,
   "id": "2e1b211a",
   "metadata": {
    "execution": {
     "iopub.execute_input": "2021-05-10T00:48:02.099543Z",
     "iopub.status.busy": "2021-05-10T00:48:02.098816Z",
     "iopub.status.idle": "2021-05-10T00:48:02.101088Z",
     "shell.execute_reply": "2021-05-10T00:48:02.101569Z"
    },
    "papermill": {
     "duration": 0.030901,
     "end_time": "2021-05-10T00:48:02.101792",
     "exception": false,
     "start_time": "2021-05-10T00:48:02.070891",
     "status": "completed"
    },
    "tags": [
     "parameters"
    ]
   },
   "outputs": [],
   "source": [
    "inicio = ''\n",
    "fin = ''"
   ]
  },
  {
   "cell_type": "code",
   "execution_count": 3,
   "id": "55dee583",
   "metadata": {
    "execution": {
     "iopub.execute_input": "2021-05-10T00:48:02.158169Z",
     "iopub.status.busy": "2021-05-10T00:48:02.157522Z",
     "iopub.status.idle": "2021-05-10T00:48:02.159571Z",
     "shell.execute_reply": "2021-05-10T00:48:02.160023Z"
    },
    "papermill": {
     "duration": 0.030898,
     "end_time": "2021-05-10T00:48:02.160234",
     "exception": false,
     "start_time": "2021-05-10T00:48:02.129336",
     "status": "completed"
    },
    "tags": [
     "injected-parameters"
    ]
   },
   "outputs": [],
   "source": [
    "# Parameters\n",
    "inicio = \"2021-02-01\"\n",
    "fin = \"2021-03-12\"\n"
   ]
  },
  {
   "cell_type": "code",
   "execution_count": 4,
   "id": "cc1bc84f",
   "metadata": {
    "execution": {
     "iopub.execute_input": "2021-05-10T00:48:02.219715Z",
     "iopub.status.busy": "2021-05-10T00:48:02.219085Z",
     "iopub.status.idle": "2021-05-10T00:48:02.224906Z",
     "shell.execute_reply": "2021-05-10T00:48:02.225408Z"
    },
    "papermill": {
     "duration": 0.037209,
     "end_time": "2021-05-10T00:48:02.225649",
     "exception": false,
     "start_time": "2021-05-10T00:48:02.188440",
     "status": "completed"
    },
    "tags": []
   },
   "outputs": [],
   "source": [
    "vacunados = pd.read_csv('./datos_crudos/vacunas/vacunas.csv')"
   ]
  },
  {
   "cell_type": "code",
   "execution_count": 5,
   "id": "d578910f",
   "metadata": {
    "execution": {
     "iopub.execute_input": "2021-05-10T00:48:02.284618Z",
     "iopub.status.busy": "2021-05-10T00:48:02.283972Z",
     "iopub.status.idle": "2021-05-10T00:48:02.286059Z",
     "shell.execute_reply": "2021-05-10T00:48:02.286515Z"
    },
    "papermill": {
     "duration": 0.034647,
     "end_time": "2021-05-10T00:48:02.286831",
     "exception": false,
     "start_time": "2021-05-10T00:48:02.252184",
     "status": "completed"
    },
    "tags": []
   },
   "outputs": [],
   "source": [
    "vacunados['fecha'] = pd.to_datetime(vacunados['fecha'],format='%d/%m/%Y')\n",
    "vacunados = vacunados[(vacunados['fecha']>=inicio)&(vacunados['fecha']<=fin)]"
   ]
  },
  {
   "cell_type": "markdown",
   "id": "a7cd1c56",
   "metadata": {
    "papermill": {
     "duration": 0.025103,
     "end_time": "2021-05-10T00:48:02.337107",
     "exception": false,
     "start_time": "2021-05-10T00:48:02.312004",
     "status": "completed"
    },
    "tags": []
   },
   "source": [
    "Datos con fecha de corte al: 06/05/2021"
   ]
  },
  {
   "cell_type": "markdown",
   "id": "5f32a9ac",
   "metadata": {
    "papermill": {
     "duration": 0.026295,
     "end_time": "2021-05-10T00:48:02.388859",
     "exception": false,
     "start_time": "2021-05-10T00:48:02.362564",
     "status": "completed"
    },
    "tags": []
   },
   "source": [
    "## Personas vacunadas"
   ]
  },
  {
   "cell_type": "code",
   "execution_count": 6,
   "id": "65906e87",
   "metadata": {
    "execution": {
     "iopub.execute_input": "2021-05-10T00:48:02.444835Z",
     "iopub.status.busy": "2021-05-10T00:48:02.444175Z",
     "iopub.status.idle": "2021-05-10T00:48:02.454834Z",
     "shell.execute_reply": "2021-05-10T00:48:02.455337Z"
    },
    "papermill": {
     "duration": 0.042057,
     "end_time": "2021-05-10T00:48:02.455565",
     "exception": false,
     "start_time": "2021-05-10T00:48:02.413508",
     "status": "completed"
    },
    "tags": []
   },
   "outputs": [
    {
     "data": {
      "text/html": [
       "<div>\n",
       "<style scoped>\n",
       "    .dataframe tbody tr th:only-of-type {\n",
       "        vertical-align: middle;\n",
       "    }\n",
       "\n",
       "    .dataframe tbody tr th {\n",
       "        vertical-align: top;\n",
       "    }\n",
       "\n",
       "    .dataframe thead th {\n",
       "        text-align: right;\n",
       "    }\n",
       "</style>\n",
       "<table border=\"1\" class=\"dataframe\">\n",
       "  <thead>\n",
       "    <tr style=\"text-align: right;\">\n",
       "      <th></th>\n",
       "      <th>fecha</th>\n",
       "      <th>dosis_total</th>\n",
       "      <th>primera_dosis</th>\n",
       "      <th>segunda_dosis</th>\n",
       "    </tr>\n",
       "  </thead>\n",
       "  <tbody>\n",
       "    <tr>\n",
       "      <th>3</th>\n",
       "      <td>2021-02-04</td>\n",
       "      <td>6228</td>\n",
       "      <td>6228</td>\n",
       "      <td>0</td>\n",
       "    </tr>\n",
       "    <tr>\n",
       "      <th>4</th>\n",
       "      <td>2021-02-17</td>\n",
       "      <td>8190</td>\n",
       "      <td>6228</td>\n",
       "      <td>1962</td>\n",
       "    </tr>\n",
       "    <tr>\n",
       "      <th>5</th>\n",
       "      <td>2021-02-24</td>\n",
       "      <td>24492</td>\n",
       "      <td>20784</td>\n",
       "      <td>3708</td>\n",
       "    </tr>\n",
       "    <tr>\n",
       "      <th>6</th>\n",
       "      <td>2021-03-01</td>\n",
       "      <td>42114</td>\n",
       "      <td>35886</td>\n",
       "      <td>6228</td>\n",
       "    </tr>\n",
       "    <tr>\n",
       "      <th>7</th>\n",
       "      <td>2021-03-04</td>\n",
       "      <td>59316</td>\n",
       "      <td>53088</td>\n",
       "      <td>6228</td>\n",
       "    </tr>\n",
       "  </tbody>\n",
       "</table>\n",
       "</div>"
      ],
      "text/plain": [
       "       fecha  dosis_total  primera_dosis  segunda_dosis\n",
       "3 2021-02-04         6228           6228              0\n",
       "4 2021-02-17         8190           6228           1962\n",
       "5 2021-02-24        24492          20784           3708\n",
       "6 2021-03-01        42114          35886           6228\n",
       "7 2021-03-04        59316          53088           6228"
      ]
     },
     "execution_count": 6,
     "metadata": {},
     "output_type": "execute_result"
    }
   ],
   "source": [
    "vacunados.head()"
   ]
  },
  {
   "cell_type": "code",
   "execution_count": 7,
   "id": "b843c991",
   "metadata": {
    "execution": {
     "iopub.execute_input": "2021-05-10T00:48:02.510877Z",
     "iopub.status.busy": "2021-05-10T00:48:02.510182Z",
     "iopub.status.idle": "2021-05-10T00:48:02.755268Z",
     "shell.execute_reply": "2021-05-10T00:48:02.755800Z"
    },
    "papermill": {
     "duration": 0.274989,
     "end_time": "2021-05-10T00:48:02.756019",
     "exception": false,
     "start_time": "2021-05-10T00:48:02.481030",
     "status": "completed"
    },
    "tags": []
   },
   "outputs": [
    {
     "data": {
      "text/plain": [
       "<AxesSubplot:xlabel='fecha'>"
      ]
     },
     "execution_count": 7,
     "metadata": {},
     "output_type": "execute_result"
    },
    {
     "data": {
      "image/png": "[encoded data removed]",
      "text/plain": [
       "<Figure size 432x288 with 1 Axes>"
      ]
     },
     "metadata": {
      "needs_background": "light"
     },
     "output_type": "display_data"
    }
   ],
   "source": [
    "vacunados.plot(x='fecha', rot=60, grid=True)"
   ]
  },
  {
   "cell_type": "markdown",
   "id": "8a0a0cc4",
   "metadata": {
    "papermill": {
     "duration": 0.025889,
     "end_time": "2021-05-10T00:48:02.807730",
     "exception": false,
     "start_time": "2021-05-10T00:48:02.781841",
     "status": "completed"
    },
    "tags": []
   },
   "source": [
    "## Fabricantes"
   ]
  },
  {
   "cell_type": "code",
   "execution_count": 8,
   "id": "11190006",
   "metadata": {
    "execution": {
     "iopub.execute_input": "2021-05-10T00:48:02.866567Z",
     "iopub.status.busy": "2021-05-10T00:48:02.865929Z",
     "iopub.status.idle": "2021-05-10T00:48:02.877121Z",
     "shell.execute_reply": "2021-05-10T00:48:02.877612Z"
    },
    "papermill": {
     "duration": 0.042473,
     "end_time": "2021-05-10T00:48:02.877830",
     "exception": false,
     "start_time": "2021-05-10T00:48:02.835357",
     "status": "completed"
    },
    "tags": []
   },
   "outputs": [
    {
     "data": {
      "text/html": [
       "<div>\n",
       "<style scoped>\n",
       "    .dataframe tbody tr th:only-of-type {\n",
       "        vertical-align: middle;\n",
       "    }\n",
       "\n",
       "    .dataframe tbody tr th {\n",
       "        vertical-align: top;\n",
       "    }\n",
       "\n",
       "    .dataframe thead th {\n",
       "        text-align: right;\n",
       "    }\n",
       "</style>\n",
       "<table border=\"1\" class=\"dataframe\">\n",
       "  <thead>\n",
       "    <tr style=\"text-align: right;\">\n",
       "      <th></th>\n",
       "      <th>vaccine</th>\n",
       "      <th>total</th>\n",
       "      <th>arrived_at</th>\n",
       "    </tr>\n",
       "  </thead>\n",
       "  <tbody>\n",
       "    <tr>\n",
       "      <th>1</th>\n",
       "      <td>Pfizer/BioNTech</td>\n",
       "      <td>16380</td>\n",
       "      <td>2021-02-17</td>\n",
       "    </tr>\n",
       "    <tr>\n",
       "      <th>2</th>\n",
       "      <td>Pfizer/BioNTech</td>\n",
       "      <td>17550</td>\n",
       "      <td>2021-02-24</td>\n",
       "    </tr>\n",
       "    <tr>\n",
       "      <th>3</th>\n",
       "      <td>Pfizer/BioNTech</td>\n",
       "      <td>31590</td>\n",
       "      <td>2021-03-03</td>\n",
       "    </tr>\n",
       "    <tr>\n",
       "      <th>4</th>\n",
       "      <td>Sinovac</td>\n",
       "      <td>20000</td>\n",
       "      <td>2021-03-06</td>\n",
       "    </tr>\n",
       "    <tr>\n",
       "      <th>5</th>\n",
       "      <td>Pfizer/BioNTech</td>\n",
       "      <td>73710</td>\n",
       "      <td>2021-03-10</td>\n",
       "    </tr>\n",
       "  </tbody>\n",
       "</table>\n",
       "</div>"
      ],
      "text/plain": [
       "           vaccine  total arrived_at\n",
       "1  Pfizer/BioNTech  16380 2021-02-17\n",
       "2  Pfizer/BioNTech  17550 2021-02-24\n",
       "3  Pfizer/BioNTech  31590 2021-03-03\n",
       "4          Sinovac  20000 2021-03-06\n",
       "5  Pfizer/BioNTech  73710 2021-03-10"
      ]
     },
     "execution_count": 8,
     "metadata": {},
     "output_type": "execute_result"
    }
   ],
   "source": [
    "# Datos vacunas de fabricantes por fecha de llegada\n",
    "fab = pd.read_csv('./datos_crudos/vacunas/fabricantes.csv')\n",
    "fab['arrived_at'] = pd.to_datetime(fab['arrived_at'],format='%d/%m/%Y')\n",
    "fab = fab[(fab['arrived_at']>=inicio)&(fab['arrived_at']<=fin)]\n",
    "fab.head()"
   ]
  },
  {
   "cell_type": "code",
   "execution_count": 9,
   "id": "efaab6c1",
   "metadata": {
    "execution": {
     "iopub.execute_input": "2021-05-10T00:48:02.938488Z",
     "iopub.status.busy": "2021-05-10T00:48:02.937537Z",
     "iopub.status.idle": "2021-05-10T00:48:02.941453Z",
     "shell.execute_reply": "2021-05-10T00:48:02.942482Z"
    },
    "papermill": {
     "duration": 0.038003,
     "end_time": "2021-05-10T00:48:02.942759",
     "exception": false,
     "start_time": "2021-05-10T00:48:02.904756",
     "status": "completed"
    },
    "tags": []
   },
   "outputs": [],
   "source": [
    "fabAgr = fab.groupby(['vaccine'], as_index=False)['total'].sum()"
   ]
  },
  {
   "cell_type": "code",
   "execution_count": 10,
   "id": "159c13a9",
   "metadata": {
    "execution": {
     "iopub.execute_input": "2021-05-10T00:48:03.048552Z",
     "iopub.status.busy": "2021-05-10T00:48:03.047229Z",
     "iopub.status.idle": "2021-05-10T00:48:03.150538Z",
     "shell.execute_reply": "2021-05-10T00:48:03.151012Z"
    },
    "papermill": {
     "duration": 0.173506,
     "end_time": "2021-05-10T00:48:03.151236",
     "exception": false,
     "start_time": "2021-05-10T00:48:02.977730",
     "status": "completed"
    },
    "tags": []
   },
   "outputs": [
    {
     "data": {
      "image/png": "[encoded data removed]",
      "text/plain": [
       "<Figure size 864x432 with 1 Axes>"
      ]
     },
     "metadata": {},
     "output_type": "display_data"
    }
   ],
   "source": [
    "# Pie chart: Fabricantes Total\n",
    "fig, ax = plt.subplots(figsize=(12, 6), subplot_kw=dict(aspect=\"equal\"))\n",
    "\n",
    "def func(pct, allvals):\n",
    "    absolute = int(round(pct/100.*np.sum(allvals)))\n",
    "    return \"{:.1f}%\\n({:d})\".format(pct, absolute)\n",
    "\n",
    "wedges, texts, autotexts = ax.pie(fabAgr['total'], autopct=lambda pct: func(pct, fabAgr['total']),\n",
    "                                  textprops=dict(color=\"w\"))\n",
    "\n",
    "ax.legend(wedges, fabAgr['vaccine'],\n",
    "          title=\"Fabricante\",\n",
    "          loc=\"center left\",\n",
    "          bbox_to_anchor=(1, 0, 0.5, 1))\n",
    "\n",
    "plt.setp(autotexts, size=8, weight=\"bold\")\n",
    "ax.set_title(\"Vacunas totales por fabricante\")\n",
    "plt.show()"
   ]
  },
  {
   "cell_type": "markdown",
   "id": "566fcc74",
   "metadata": {
    "papermill": {
     "duration": 0.028579,
     "end_time": "2021-05-10T00:48:03.208560",
     "exception": false,
     "start_time": "2021-05-10T00:48:03.179981",
     "status": "completed"
    },
    "tags": []
   },
   "source": [
    "## Vacunas: Mes de llegada y fabricante"
   ]
  },
  {
   "cell_type": "code",
   "execution_count": 11,
   "id": "dcbd5328",
   "metadata": {
    "execution": {
     "iopub.execute_input": "2021-05-10T00:48:03.280929Z",
     "iopub.status.busy": "2021-05-10T00:48:03.280152Z",
     "iopub.status.idle": "2021-05-10T00:48:03.282959Z",
     "shell.execute_reply": "2021-05-10T00:48:03.283414Z"
    },
    "papermill": {
     "duration": 0.044883,
     "end_time": "2021-05-10T00:48:03.283632",
     "exception": false,
     "start_time": "2021-05-10T00:48:03.238749",
     "status": "completed"
    },
    "tags": []
   },
   "outputs": [
    {
     "data": {
      "text/html": [
       "<div>\n",
       "<style scoped>\n",
       "    .dataframe tbody tr th:only-of-type {\n",
       "        vertical-align: middle;\n",
       "    }\n",
       "\n",
       "    .dataframe tbody tr th {\n",
       "        vertical-align: top;\n",
       "    }\n",
       "\n",
       "    .dataframe thead th {\n",
       "        text-align: right;\n",
       "    }\n",
       "</style>\n",
       "<table border=\"1\" class=\"dataframe\">\n",
       "  <thead>\n",
       "    <tr style=\"text-align: right;\">\n",
       "      <th></th>\n",
       "      <th>vaccine</th>\n",
       "      <th>arrived_at</th>\n",
       "      <th>total</th>\n",
       "    </tr>\n",
       "  </thead>\n",
       "  <tbody>\n",
       "    <tr>\n",
       "      <th>0</th>\n",
       "      <td>Pfizer/BioNTech</td>\n",
       "      <td>2021-02</td>\n",
       "      <td>33930</td>\n",
       "    </tr>\n",
       "    <tr>\n",
       "      <th>1</th>\n",
       "      <td>Pfizer/BioNTech</td>\n",
       "      <td>2021-03</td>\n",
       "      <td>105300</td>\n",
       "    </tr>\n",
       "    <tr>\n",
       "      <th>2</th>\n",
       "      <td>Sinovac</td>\n",
       "      <td>2021-03</td>\n",
       "      <td>20000</td>\n",
       "    </tr>\n",
       "  </tbody>\n",
       "</table>\n",
       "</div>"
      ],
      "text/plain": [
       "           vaccine arrived_at   total\n",
       "0  Pfizer/BioNTech    2021-02   33930\n",
       "1  Pfizer/BioNTech    2021-03  105300\n",
       "2          Sinovac    2021-03   20000"
      ]
     },
     "execution_count": 11,
     "metadata": {},
     "output_type": "execute_result"
    }
   ],
   "source": [
    "fabAgrMonth = fab.copy()\n",
    "fabAgrMonth['arrived_at'] = fabAgrMonth['arrived_at'].astype(str).str.slice(0,7)\n",
    "fabAgrMonth = fabAgrMonth.groupby(['vaccine','arrived_at'], as_index=False)['total'].sum()\n",
    "fabAgrMonth.head()"
   ]
  },
  {
   "cell_type": "code",
   "execution_count": 12,
   "id": "74f9474e",
   "metadata": {
    "execution": {
     "iopub.execute_input": "2021-05-10T00:48:03.376914Z",
     "iopub.status.busy": "2021-05-10T00:48:03.366243Z",
     "iopub.status.idle": "2021-05-10T00:48:03.544420Z",
     "shell.execute_reply": "2021-05-10T00:48:03.544882Z"
    },
    "papermill": {
     "duration": 0.233803,
     "end_time": "2021-05-10T00:48:03.545107",
     "exception": false,
     "start_time": "2021-05-10T00:48:03.311304",
     "status": "completed"
    },
    "tags": []
   },
   "outputs": [
    {
     "data": {
      "image/png": "[encoded data removed]",
      "text/plain": [
       "<Figure size 432x288 with 1 Axes>"
      ]
     },
     "metadata": {
      "needs_background": "light"
     },
     "output_type": "display_data"
    },
    {
     "data": {
      "image/png": "[encoded data removed]",
      "text/plain": [
       "<Figure size 432x288 with 1 Axes>"
      ]
     },
     "metadata": {
      "needs_background": "light"
     },
     "output_type": "display_data"
    }
   ],
   "source": [
    "for i in fabAgrMonth.groupby(['vaccine'], as_index=False).mean()['vaccine']:\n",
    "    fabGroupss = fabAgrMonth.loc[(fabAgrMonth['vaccine'] == i)]\n",
    "    plt.bar(np.arange(len(fabGroupss['arrived_at'])), fabGroupss['total'])\n",
    "    plt.xticks(np.arange(len(fabGroupss['arrived_at'])), fabGroupss['arrived_at'],rotation=60)\n",
    "    plt.title('Fabricante: ' + i)\n",
    "    plt.show()"
   ]
  },
  {
   "cell_type": "markdown",
   "id": "7a9bd588",
   "metadata": {
    "papermill": {
     "duration": 0.028667,
     "end_time": "2021-05-10T00:48:03.601796",
     "exception": false,
     "start_time": "2021-05-10T00:48:03.573129",
     "status": "completed"
    },
    "tags": []
   },
   "source": [
    "# Generar un modelo matemático de predicción basado en regresión, del procesos de vacunación en base al numero actual de vacunados (1 y 2 dosis) y a la llegada de nuevas vacunas."
   ]
  },
  {
   "cell_type": "code",
   "execution_count": 13,
   "id": "0c96771c",
   "metadata": {
    "execution": {
     "iopub.execute_input": "2021-05-10T00:48:03.675606Z",
     "iopub.status.busy": "2021-05-10T00:48:03.674895Z",
     "iopub.status.idle": "2021-05-10T00:48:03.678287Z",
     "shell.execute_reply": "2021-05-10T00:48:03.678744Z"
    },
    "papermill": {
     "duration": 0.047925,
     "end_time": "2021-05-10T00:48:03.678964",
     "exception": false,
     "start_time": "2021-05-10T00:48:03.631039",
     "status": "completed"
    },
    "tags": []
   },
   "outputs": [
    {
     "name": "stdout",
     "output_type": "stream",
     "text": [
      "Primera fecha valida en Ecuador  2021-01-21 00:00:00\n"
     ]
    },
    {
     "data": {
      "text/html": [
       "<div>\n",
       "<style scoped>\n",
       "    .dataframe tbody tr th:only-of-type {\n",
       "        vertical-align: middle;\n",
       "    }\n",
       "\n",
       "    .dataframe tbody tr th {\n",
       "        vertical-align: top;\n",
       "    }\n",
       "\n",
       "    .dataframe thead th {\n",
       "        text-align: right;\n",
       "    }\n",
       "</style>\n",
       "<table border=\"1\" class=\"dataframe\">\n",
       "  <thead>\n",
       "    <tr style=\"text-align: right;\">\n",
       "      <th></th>\n",
       "      <th>fecha</th>\n",
       "      <th>dosis_total</th>\n",
       "      <th>primera_dosis</th>\n",
       "      <th>segunda_dosis</th>\n",
       "    </tr>\n",
       "  </thead>\n",
       "  <tbody>\n",
       "    <tr>\n",
       "      <th>0</th>\n",
       "      <td>0</td>\n",
       "      <td>0</td>\n",
       "      <td>0</td>\n",
       "      <td>0</td>\n",
       "    </tr>\n",
       "    <tr>\n",
       "      <th>1</th>\n",
       "      <td>1</td>\n",
       "      <td>108</td>\n",
       "      <td>108</td>\n",
       "      <td>0</td>\n",
       "    </tr>\n",
       "    <tr>\n",
       "      <th>2</th>\n",
       "      <td>6</td>\n",
       "      <td>2982</td>\n",
       "      <td>2982</td>\n",
       "      <td>0</td>\n",
       "    </tr>\n",
       "    <tr>\n",
       "      <th>3</th>\n",
       "      <td>14</td>\n",
       "      <td>6228</td>\n",
       "      <td>6228</td>\n",
       "      <td>0</td>\n",
       "    </tr>\n",
       "    <tr>\n",
       "      <th>4</th>\n",
       "      <td>27</td>\n",
       "      <td>8190</td>\n",
       "      <td>6228</td>\n",
       "      <td>1962</td>\n",
       "    </tr>\n",
       "  </tbody>\n",
       "</table>\n",
       "</div>"
      ],
      "text/plain": [
       "   fecha  dosis_total  primera_dosis  segunda_dosis\n",
       "0      0            0              0              0\n",
       "1      1          108            108              0\n",
       "2      6         2982           2982              0\n",
       "3     14         6228           6228              0\n",
       "4     27         8190           6228           1962"
      ]
     },
     "execution_count": 13,
     "metadata": {},
     "output_type": "execute_result"
    }
   ],
   "source": [
    "totalVacunados = pd.read_csv('./datos_crudos/vacunas/vacunas.csv')\n",
    "totalVacunados['fecha'] = pd.to_datetime(totalVacunados['fecha'],format='%d/%m/%Y')\n",
    "primeraFechaValida = totalVacunados['fecha'].iloc[0]\n",
    "\n",
    "print('Primera fecha valida en Ecuador ', primeraFechaValida)\n",
    "\n",
    "# Expresar las fechas en numero de dias\n",
    "FMT = '%d/%m/%Y'\n",
    "date = totalVacunados['fecha']\n",
    "totalVacunados['fecha'] = date.map(lambda x : (x - primeraFechaValida).days)\n",
    "\n",
    "totalVacunados.head()"
   ]
  },
  {
   "cell_type": "markdown",
   "id": "fef839b1",
   "metadata": {
    "papermill": {
     "duration": 0.029603,
     "end_time": "2021-05-10T00:48:03.738878",
     "exception": false,
     "start_time": "2021-05-10T00:48:03.709275",
     "status": "completed"
    },
    "tags": []
   },
   "source": [
    "### 1ra Dosis"
   ]
  },
  {
   "cell_type": "code",
   "execution_count": 14,
   "id": "a9122361",
   "metadata": {
    "execution": {
     "iopub.execute_input": "2021-05-10T00:48:03.802170Z",
     "iopub.status.busy": "2021-05-10T00:48:03.801430Z",
     "iopub.status.idle": "2021-05-10T00:48:03.804451Z",
     "shell.execute_reply": "2021-05-10T00:48:03.804876Z"
    },
    "papermill": {
     "duration": 0.036608,
     "end_time": "2021-05-10T00:48:03.805103",
     "exception": false,
     "start_time": "2021-05-10T00:48:03.768495",
     "status": "completed"
    },
    "tags": []
   },
   "outputs": [],
   "source": [
    "x1 = totalVacunados['fecha'].values.reshape(-1,1)\n",
    "y1 = totalVacunados['primera_dosis'].values.reshape(-1,1)"
   ]
  },
  {
   "cell_type": "markdown",
   "id": "b934f609",
   "metadata": {
    "papermill": {
     "duration": 0.029681,
     "end_time": "2021-05-10T00:48:03.864481",
     "exception": false,
     "start_time": "2021-05-10T00:48:03.834800",
     "status": "completed"
    },
    "tags": []
   },
   "source": [
    "Regresion Lineal"
   ]
  },
  {
   "cell_type": "code",
   "execution_count": 15,
   "id": "a17cfbaf",
   "metadata": {
    "execution": {
     "iopub.execute_input": "2021-05-10T00:48:03.929429Z",
     "iopub.status.busy": "2021-05-10T00:48:03.928262Z",
     "iopub.status.idle": "2021-05-10T00:48:03.933754Z",
     "shell.execute_reply": "2021-05-10T00:48:03.934388Z"
    },
    "papermill": {
     "duration": 0.040491,
     "end_time": "2021-05-10T00:48:03.934614",
     "exception": false,
     "start_time": "2021-05-10T00:48:03.894123",
     "status": "completed"
    },
    "tags": []
   },
   "outputs": [
    {
     "data": {
      "text/plain": [
       "LinearRegression()"
      ]
     },
     "execution_count": 15,
     "metadata": {},
     "output_type": "execute_result"
    }
   ],
   "source": [
    "# Creamos el objeto de Regresión Lineal\n",
    "regr = linear_model.LinearRegression()\n",
    " \n",
    "# Entrenamos nuestro modelo\n",
    "regr.fit(np.array(x1).reshape(-1, 1) ,y1)"
   ]
  },
  {
   "cell_type": "code",
   "execution_count": 16,
   "id": "db28b993",
   "metadata": {
    "execution": {
     "iopub.execute_input": "2021-05-10T00:48:04.012627Z",
     "iopub.status.busy": "2021-05-10T00:48:04.011839Z",
     "iopub.status.idle": "2021-05-10T00:48:04.015937Z",
     "shell.execute_reply": "2021-05-10T00:48:04.016470Z"
    },
    "papermill": {
     "duration": 0.048435,
     "end_time": "2021-05-10T00:48:04.016682",
     "exception": false,
     "start_time": "2021-05-10T00:48:03.968247",
     "status": "completed"
    },
    "tags": []
   },
   "outputs": [
    {
     "data": {
      "text/html": [
       "<div>\n",
       "<style scoped>\n",
       "    .dataframe tbody tr th:only-of-type {\n",
       "        vertical-align: middle;\n",
       "    }\n",
       "\n",
       "    .dataframe tbody tr th {\n",
       "        vertical-align: top;\n",
       "    }\n",
       "\n",
       "    .dataframe thead th {\n",
       "        text-align: right;\n",
       "    }\n",
       "</style>\n",
       "<table border=\"1\" class=\"dataframe\">\n",
       "  <thead>\n",
       "    <tr style=\"text-align: right;\">\n",
       "      <th></th>\n",
       "      <th>Real</th>\n",
       "      <th>Predicción Lineal</th>\n",
       "    </tr>\n",
       "  </thead>\n",
       "  <tbody>\n",
       "    <tr>\n",
       "      <th>0</th>\n",
       "      <td>0</td>\n",
       "      <td>-254674.105882</td>\n",
       "    </tr>\n",
       "    <tr>\n",
       "      <th>1</th>\n",
       "      <td>108</td>\n",
       "      <td>-246255.489659</td>\n",
       "    </tr>\n",
       "    <tr>\n",
       "      <th>2</th>\n",
       "      <td>2982</td>\n",
       "      <td>-204162.408543</td>\n",
       "    </tr>\n",
       "    <tr>\n",
       "      <th>3</th>\n",
       "      <td>6228</td>\n",
       "      <td>-136813.478758</td>\n",
       "    </tr>\n",
       "    <tr>\n",
       "      <th>4</th>\n",
       "      <td>6228</td>\n",
       "      <td>-27371.467857</td>\n",
       "    </tr>\n",
       "  </tbody>\n",
       "</table>\n",
       "</div>"
      ],
      "text/plain": [
       "   Real  Predicción Lineal\n",
       "0     0     -254674.105882\n",
       "1   108     -246255.489659\n",
       "2  2982     -204162.408543\n",
       "3  6228     -136813.478758\n",
       "4  6228      -27371.467857"
      ]
     },
     "execution_count": 16,
     "metadata": {},
     "output_type": "execute_result"
    }
   ],
   "source": [
    "#Vamos a comprobar:\n",
    "predLi = regr.predict(x1)\n",
    "pd.DataFrame({'Real': y1.flatten(), 'Predicción Lineal': predLi.flatten()}).head()"
   ]
  },
  {
   "cell_type": "code",
   "execution_count": 17,
   "id": "20e31ddf",
   "metadata": {
    "execution": {
     "iopub.execute_input": "2021-05-10T00:48:04.128659Z",
     "iopub.status.busy": "2021-05-10T00:48:04.128010Z",
     "iopub.status.idle": "2021-05-10T00:48:04.278484Z",
     "shell.execute_reply": "2021-05-10T00:48:04.278943Z"
    },
    "papermill": {
     "duration": 0.229912,
     "end_time": "2021-05-10T00:48:04.279162",
     "exception": false,
     "start_time": "2021-05-10T00:48:04.049250",
     "status": "completed"
    },
    "tags": []
   },
   "outputs": [
    {
     "data": {
      "image/png": "[encoded data removed]",
      "text/plain": [
       "<Figure size 1080x504 with 1 Axes>"
      ]
     },
     "metadata": {
      "needs_background": "light"
     },
     "output_type": "display_data"
    }
   ],
   "source": [
    "#Graficar\n",
    "plt.figure(figsize = (15,7))\n",
    "plt.plot(x1, y1, '-', label ='Real')\n",
    "plt.plot(x1, regr.predict(x1),  '-', label = 'Predicción', linewidth = 2, color='r')\n",
    "plt.title('Linear Regression - 1ra Dosis')\n",
    "plt.xlabel('Fecha en días')\n",
    "plt.ylabel('# Vacunados')\n",
    "plt.legend()\n",
    "plt.show()"
   ]
  },
  {
   "cell_type": "markdown",
   "id": "73257e0c",
   "metadata": {
    "papermill": {
     "duration": 0.032184,
     "end_time": "2021-05-10T00:48:04.344968",
     "exception": false,
     "start_time": "2021-05-10T00:48:04.312784",
     "status": "completed"
    },
    "tags": []
   },
   "source": [
    "Random Forest Regression"
   ]
  },
  {
   "cell_type": "code",
   "execution_count": 18,
   "id": "b5d9f341",
   "metadata": {
    "execution": {
     "iopub.execute_input": "2021-05-10T00:48:04.423979Z",
     "iopub.status.busy": "2021-05-10T00:48:04.418026Z",
     "iopub.status.idle": "2021-05-10T00:48:04.440587Z",
     "shell.execute_reply": "2021-05-10T00:48:04.441043Z"
    },
    "papermill": {
     "duration": 0.06087,
     "end_time": "2021-05-10T00:48:04.441262",
     "exception": false,
     "start_time": "2021-05-10T00:48:04.380392",
     "status": "completed"
    },
    "tags": []
   },
   "outputs": [
    {
     "data": {
      "text/html": [
       "<div>\n",
       "<style scoped>\n",
       "    .dataframe tbody tr th:only-of-type {\n",
       "        vertical-align: middle;\n",
       "    }\n",
       "\n",
       "    .dataframe tbody tr th {\n",
       "        vertical-align: top;\n",
       "    }\n",
       "\n",
       "    .dataframe thead th {\n",
       "        text-align: right;\n",
       "    }\n",
       "</style>\n",
       "<table border=\"1\" class=\"dataframe\">\n",
       "  <thead>\n",
       "    <tr style=\"text-align: right;\">\n",
       "      <th></th>\n",
       "      <th>Real</th>\n",
       "      <th>Predicción RF</th>\n",
       "    </tr>\n",
       "  </thead>\n",
       "  <tbody>\n",
       "    <tr>\n",
       "      <th>0</th>\n",
       "      <td>0</td>\n",
       "      <td>319.8</td>\n",
       "    </tr>\n",
       "    <tr>\n",
       "      <th>1</th>\n",
       "      <td>108</td>\n",
       "      <td>384.6</td>\n",
       "    </tr>\n",
       "    <tr>\n",
       "      <th>2</th>\n",
       "      <td>2982</td>\n",
       "      <td>2407.2</td>\n",
       "    </tr>\n",
       "    <tr>\n",
       "      <th>3</th>\n",
       "      <td>6228</td>\n",
       "      <td>4929.6</td>\n",
       "    </tr>\n",
       "    <tr>\n",
       "      <th>4</th>\n",
       "      <td>6228</td>\n",
       "      <td>16791.0</td>\n",
       "    </tr>\n",
       "  </tbody>\n",
       "</table>\n",
       "</div>"
      ],
      "text/plain": [
       "   Real  Predicción RF\n",
       "0     0          319.8\n",
       "1   108          384.6\n",
       "2  2982         2407.2\n",
       "3  6228         4929.6\n",
       "4  6228        16791.0"
      ]
     },
     "execution_count": 18,
     "metadata": {},
     "output_type": "execute_result"
    }
   ],
   "source": [
    "RF1 = RandomForestRegressor(n_estimators=10, random_state=0)\n",
    "RF1.fit(np.array(x1).reshape(-1, 1) ,y1.ravel())\n",
    "\n",
    "predRF1 = RF1.predict(x1)\n",
    "pd.DataFrame({'Real': y1.flatten(), 'Predicción RF': predRF1.flatten()}).head()"
   ]
  },
  {
   "cell_type": "code",
   "execution_count": 19,
   "id": "a887adf1",
   "metadata": {
    "execution": {
     "iopub.execute_input": "2021-05-10T00:48:04.531416Z",
     "iopub.status.busy": "2021-05-10T00:48:04.530667Z",
     "iopub.status.idle": "2021-05-10T00:48:04.698310Z",
     "shell.execute_reply": "2021-05-10T00:48:04.698769Z"
    },
    "papermill": {
     "duration": 0.223389,
     "end_time": "2021-05-10T00:48:04.698988",
     "exception": false,
     "start_time": "2021-05-10T00:48:04.475599",
     "status": "completed"
    },
    "tags": []
   },
   "outputs": [
    {
     "data": {
      "image/png": "[encoded data removed]",
      "text/plain": [
       "<Figure size 1080x504 with 1 Axes>"
      ]
     },
     "metadata": {
      "needs_background": "light"
     },
     "output_type": "display_data"
    }
   ],
   "source": [
    "plt.figure(figsize = (15,7))\n",
    "plt.plot(x1, y1, '-', label ='Real')\n",
    "plt.plot(x1, RF1.predict(x1),  '-', label = 'Predicción', linewidth = 2, color='r')\n",
    "plt.title('Random Forest Regression - 1ra Dosis')\n",
    "plt.xlabel('Fecha en días')\n",
    "plt.ylabel('# Vacunados')\n",
    "plt.legend()\n",
    "plt.show()"
   ]
  },
  {
   "cell_type": "markdown",
   "id": "f6358dff",
   "metadata": {
    "papermill": {
     "duration": 0.03239,
     "end_time": "2021-05-10T00:48:04.764010",
     "exception": false,
     "start_time": "2021-05-10T00:48:04.731620",
     "status": "completed"
    },
    "tags": []
   },
   "source": [
    "### 2da Dosis"
   ]
  },
  {
   "cell_type": "code",
   "execution_count": 20,
   "id": "c7be52b6",
   "metadata": {
    "execution": {
     "iopub.execute_input": "2021-05-10T00:48:04.835786Z",
     "iopub.status.busy": "2021-05-10T00:48:04.834744Z",
     "iopub.status.idle": "2021-05-10T00:48:04.837237Z",
     "shell.execute_reply": "2021-05-10T00:48:04.837691Z"
    },
    "papermill": {
     "duration": 0.039552,
     "end_time": "2021-05-10T00:48:04.837912",
     "exception": false,
     "start_time": "2021-05-10T00:48:04.798360",
     "status": "completed"
    },
    "tags": []
   },
   "outputs": [],
   "source": [
    "x2 = totalVacunados['fecha'].values.reshape(-1,1)\n",
    "y2 = totalVacunados['segunda_dosis'].values.reshape(-1,1)"
   ]
  },
  {
   "cell_type": "markdown",
   "id": "afa002c5",
   "metadata": {
    "papermill": {
     "duration": 0.032218,
     "end_time": "2021-05-10T00:48:04.902816",
     "exception": false,
     "start_time": "2021-05-10T00:48:04.870598",
     "status": "completed"
    },
    "tags": []
   },
   "source": [
    "Regresion Lineal"
   ]
  },
  {
   "cell_type": "code",
   "execution_count": 21,
   "id": "84ca0e9f",
   "metadata": {
    "execution": {
     "iopub.execute_input": "2021-05-10T00:48:04.975250Z",
     "iopub.status.busy": "2021-05-10T00:48:04.974471Z",
     "iopub.status.idle": "2021-05-10T00:48:04.977657Z",
     "shell.execute_reply": "2021-05-10T00:48:04.977217Z"
    },
    "papermill": {
     "duration": 0.04074,
     "end_time": "2021-05-10T00:48:04.977820",
     "exception": false,
     "start_time": "2021-05-10T00:48:04.937080",
     "status": "completed"
    },
    "tags": []
   },
   "outputs": [
    {
     "data": {
      "text/plain": [
       "LinearRegression()"
      ]
     },
     "execution_count": 21,
     "metadata": {},
     "output_type": "execute_result"
    }
   ],
   "source": [
    "# Creamos el objeto de Regresión Lineal\n",
    "regr = linear_model.LinearRegression()\n",
    " \n",
    "# Entrenamos nuestro modelo\n",
    "regr.fit(np.array(x2).reshape(-1, 1) ,y2)"
   ]
  },
  {
   "cell_type": "code",
   "execution_count": 22,
   "id": "4f81a5f8",
   "metadata": {
    "execution": {
     "iopub.execute_input": "2021-05-10T00:48:05.057540Z",
     "iopub.status.busy": "2021-05-10T00:48:05.056763Z",
     "iopub.status.idle": "2021-05-10T00:48:05.059737Z",
     "shell.execute_reply": "2021-05-10T00:48:05.060190Z"
    },
    "papermill": {
     "duration": 0.048034,
     "end_time": "2021-05-10T00:48:05.060411",
     "exception": false,
     "start_time": "2021-05-10T00:48:05.012377",
     "status": "completed"
    },
    "tags": []
   },
   "outputs": [
    {
     "data": {
      "text/html": [
       "<div>\n",
       "<style scoped>\n",
       "    .dataframe tbody tr th:only-of-type {\n",
       "        vertical-align: middle;\n",
       "    }\n",
       "\n",
       "    .dataframe tbody tr th {\n",
       "        vertical-align: top;\n",
       "    }\n",
       "\n",
       "    .dataframe thead th {\n",
       "        text-align: right;\n",
       "    }\n",
       "</style>\n",
       "<table border=\"1\" class=\"dataframe\">\n",
       "  <thead>\n",
       "    <tr style=\"text-align: right;\">\n",
       "      <th></th>\n",
       "      <th>Real</th>\n",
       "      <th>Predicción Lineal</th>\n",
       "    </tr>\n",
       "  </thead>\n",
       "  <tbody>\n",
       "    <tr>\n",
       "      <th>0</th>\n",
       "      <td>0</td>\n",
       "      <td>-93288.419631</td>\n",
       "    </tr>\n",
       "    <tr>\n",
       "      <th>1</th>\n",
       "      <td>0</td>\n",
       "      <td>-90305.125542</td>\n",
       "    </tr>\n",
       "    <tr>\n",
       "      <th>2</th>\n",
       "      <td>0</td>\n",
       "      <td>-75388.655094</td>\n",
       "    </tr>\n",
       "    <tr>\n",
       "      <th>3</th>\n",
       "      <td>0</td>\n",
       "      <td>-51522.302378</td>\n",
       "    </tr>\n",
       "    <tr>\n",
       "      <th>4</th>\n",
       "      <td>1962</td>\n",
       "      <td>-12739.479214</td>\n",
       "    </tr>\n",
       "  </tbody>\n",
       "</table>\n",
       "</div>"
      ],
      "text/plain": [
       "   Real  Predicción Lineal\n",
       "0     0      -93288.419631\n",
       "1     0      -90305.125542\n",
       "2     0      -75388.655094\n",
       "3     0      -51522.302378\n",
       "4  1962      -12739.479214"
      ]
     },
     "execution_count": 22,
     "metadata": {},
     "output_type": "execute_result"
    }
   ],
   "source": [
    "#Vamos a comprobar:\n",
    "predLi = regr.predict(x2)\n",
    "pd.DataFrame({'Real': y2.flatten(), 'Predicción Lineal': predLi.flatten()}).head()"
   ]
  },
  {
   "cell_type": "code",
   "execution_count": 23,
   "id": "d7224f9c",
   "metadata": {
    "execution": {
     "iopub.execute_input": "2021-05-10T00:48:05.239036Z",
     "iopub.status.busy": "2021-05-10T00:48:05.238388Z",
     "iopub.status.idle": "2021-05-10T00:48:05.397089Z",
     "shell.execute_reply": "2021-05-10T00:48:05.396534Z"
    },
    "papermill": {
     "duration": 0.301292,
     "end_time": "2021-05-10T00:48:05.397285",
     "exception": false,
     "start_time": "2021-05-10T00:48:05.095993",
     "status": "completed"
    },
    "tags": []
   },
   "outputs": [
    {
     "data": {
      "image/png": "[encoded data removed]",
      "text/plain": [
       "<Figure size 1080x504 with 1 Axes>"
      ]
     },
     "metadata": {
      "needs_background": "light"
     },
     "output_type": "display_data"
    }
   ],
   "source": [
    "#Graficar\n",
    "plt.figure(figsize = (15,7))\n",
    "plt.plot(x2, y2, '-', label ='Real')\n",
    "plt.plot(x2, regr.predict(x2),  '-', label = 'Predicción', linewidth = 2, color='r')\n",
    "plt.title('Linear Regression - 2da Dosis')\n",
    "plt.xlabel('Fecha en días')\n",
    "plt.ylabel('# Vacunados')\n",
    "plt.legend()\n",
    "plt.show()"
   ]
  },
  {
   "cell_type": "markdown",
   "id": "aca9d2ac",
   "metadata": {
    "papermill": {
     "duration": 0.035939,
     "end_time": "2021-05-10T00:48:05.470457",
     "exception": false,
     "start_time": "2021-05-10T00:48:05.434518",
     "status": "completed"
    },
    "tags": []
   },
   "source": [
    "Random Forest Regression"
   ]
  },
  {
   "cell_type": "code",
   "execution_count": 24,
   "id": "b323aec1",
   "metadata": {
    "execution": {
     "iopub.execute_input": "2021-05-10T00:48:05.554159Z",
     "iopub.status.busy": "2021-05-10T00:48:05.553475Z",
     "iopub.status.idle": "2021-05-10T00:48:05.569960Z",
     "shell.execute_reply": "2021-05-10T00:48:05.570416Z"
    },
    "papermill": {
     "duration": 0.064735,
     "end_time": "2021-05-10T00:48:05.570636",
     "exception": false,
     "start_time": "2021-05-10T00:48:05.505901",
     "status": "completed"
    },
    "tags": []
   },
   "outputs": [
    {
     "data": {
      "text/html": [
       "<div>\n",
       "<style scoped>\n",
       "    .dataframe tbody tr th:only-of-type {\n",
       "        vertical-align: middle;\n",
       "    }\n",
       "\n",
       "    .dataframe tbody tr th {\n",
       "        vertical-align: top;\n",
       "    }\n",
       "\n",
       "    .dataframe thead th {\n",
       "        text-align: right;\n",
       "    }\n",
       "</style>\n",
       "<table border=\"1\" class=\"dataframe\">\n",
       "  <thead>\n",
       "    <tr style=\"text-align: right;\">\n",
       "      <th></th>\n",
       "      <th>Real</th>\n",
       "      <th>Predicción RF</th>\n",
       "    </tr>\n",
       "  </thead>\n",
       "  <tbody>\n",
       "    <tr>\n",
       "      <th>0</th>\n",
       "      <td>0</td>\n",
       "      <td>0.0</td>\n",
       "    </tr>\n",
       "    <tr>\n",
       "      <th>1</th>\n",
       "      <td>0</td>\n",
       "      <td>0.0</td>\n",
       "    </tr>\n",
       "    <tr>\n",
       "      <th>2</th>\n",
       "      <td>0</td>\n",
       "      <td>0.0</td>\n",
       "    </tr>\n",
       "    <tr>\n",
       "      <th>3</th>\n",
       "      <td>0</td>\n",
       "      <td>0.0</td>\n",
       "    </tr>\n",
       "    <tr>\n",
       "      <th>4</th>\n",
       "      <td>1962</td>\n",
       "      <td>3164.4</td>\n",
       "    </tr>\n",
       "  </tbody>\n",
       "</table>\n",
       "</div>"
      ],
      "text/plain": [
       "   Real  Predicción RF\n",
       "0     0            0.0\n",
       "1     0            0.0\n",
       "2     0            0.0\n",
       "3     0            0.0\n",
       "4  1962         3164.4"
      ]
     },
     "execution_count": 24,
     "metadata": {},
     "output_type": "execute_result"
    }
   ],
   "source": [
    "RF2 = RandomForestRegressor(n_estimators=10, random_state=0)\n",
    "RF2.fit(np.array(x2).reshape(-1, 1) ,y2.ravel())\n",
    "\n",
    "predRF2 = RF2.predict(x2)\n",
    "pd.DataFrame({'Real': y2.flatten(), 'Predicción RF': predRF2.flatten()}).head()"
   ]
  },
  {
   "cell_type": "code",
   "execution_count": 25,
   "id": "0815598c",
   "metadata": {
    "execution": {
     "iopub.execute_input": "2021-05-10T00:48:05.689980Z",
     "iopub.status.busy": "2021-05-10T00:48:05.661095Z",
     "iopub.status.idle": "2021-05-10T00:48:05.837669Z",
     "shell.execute_reply": "2021-05-10T00:48:05.838236Z"
    },
    "papermill": {
     "duration": 0.231755,
     "end_time": "2021-05-10T00:48:05.838469",
     "exception": false,
     "start_time": "2021-05-10T00:48:05.606714",
     "status": "completed"
    },
    "tags": []
   },
   "outputs": [
    {
     "data": {
      "image/png": "[encoded data removed]",
      "text/plain": [
       "<Figure size 1080x504 with 1 Axes>"
      ]
     },
     "metadata": {
      "needs_background": "light"
     },
     "output_type": "display_data"
    }
   ],
   "source": [
    "plt.figure(figsize = (15,7))\n",
    "plt.plot(x2, y2, '-', label ='Real')\n",
    "plt.plot(x2, RF2.predict(x2),  '-', label = 'Predicción', linewidth = 2, color='r')\n",
    "plt.title('Random Forest Regression - 2da Dosis')\n",
    "plt.xlabel('Fecha en días')\n",
    "plt.ylabel('# Vacunados')\n",
    "plt.legend()\n",
    "plt.show()"
   ]
  },
  {
   "cell_type": "markdown",
   "id": "240f6fc9",
   "metadata": {
    "papermill": {
     "duration": 0.06657,
     "end_time": "2021-05-10T00:48:05.942389",
     "exception": false,
     "start_time": "2021-05-10T00:48:05.875819",
     "status": "completed"
    },
    "tags": []
   },
   "source": [
    "Podemos notar que el modelo de Random Forest Regression, es mas preciso por ese motivo las siguientes comparaciones las realizaremos con ese modelo."
   ]
  },
  {
   "cell_type": "markdown",
   "id": "90320693",
   "metadata": {
    "papermill": {
     "duration": 0.042678,
     "end_time": "2021-05-10T00:48:06.023242",
     "exception": false,
     "start_time": "2021-05-10T00:48:05.980564",
     "status": "completed"
    },
    "tags": []
   },
   "source": [
    "# Desarrollar y generar un proceso de comparación con al menos dos países (1. Latinoamérica, 1. Europa)."
   ]
  },
  {
   "cell_type": "markdown",
   "id": "05408658",
   "metadata": {
    "papermill": {
     "duration": 0.038645,
     "end_time": "2021-05-10T00:48:06.106053",
     "exception": false,
     "start_time": "2021-05-10T00:48:06.067408",
     "status": "completed"
    },
    "tags": []
   },
   "source": [
    "### Perú"
   ]
  },
  {
   "cell_type": "code",
   "execution_count": 26,
   "id": "8db36ca8",
   "metadata": {
    "execution": {
     "iopub.execute_input": "2021-05-10T00:48:06.191771Z",
     "iopub.status.busy": "2021-05-10T00:48:06.191069Z",
     "iopub.status.idle": "2021-05-10T00:48:06.206756Z",
     "shell.execute_reply": "2021-05-10T00:48:06.207223Z"
    },
    "papermill": {
     "duration": 0.061463,
     "end_time": "2021-05-10T00:48:06.207456",
     "exception": false,
     "start_time": "2021-05-10T00:48:06.145993",
     "status": "completed"
    },
    "scrolled": true,
    "tags": []
   },
   "outputs": [
    {
     "data": {
      "text/html": [
       "<div>\n",
       "<style scoped>\n",
       "    .dataframe tbody tr th:only-of-type {\n",
       "        vertical-align: middle;\n",
       "    }\n",
       "\n",
       "    .dataframe tbody tr th {\n",
       "        vertical-align: top;\n",
       "    }\n",
       "\n",
       "    .dataframe thead th {\n",
       "        text-align: right;\n",
       "    }\n",
       "</style>\n",
       "<table border=\"1\" class=\"dataframe\">\n",
       "  <thead>\n",
       "    <tr style=\"text-align: right;\">\n",
       "      <th></th>\n",
       "      <th>location</th>\n",
       "      <th>date</th>\n",
       "      <th>vaccine</th>\n",
       "      <th>source_url</th>\n",
       "      <th>total_vaccinations</th>\n",
       "      <th>people_vaccinated</th>\n",
       "      <th>people_fully_vaccinated</th>\n",
       "    </tr>\n",
       "  </thead>\n",
       "  <tbody>\n",
       "    <tr>\n",
       "      <th>0</th>\n",
       "      <td>Peru</td>\n",
       "      <td>19</td>\n",
       "      <td>Oxford/AstraZeneca, Pfizer/BioNTech, Sinopharm...</td>\n",
       "      <td>https://www.datosabiertos.gob.pe/dataset/vacun...</td>\n",
       "      <td>3842</td>\n",
       "      <td>3842</td>\n",
       "      <td>0</td>\n",
       "    </tr>\n",
       "    <tr>\n",
       "      <th>1</th>\n",
       "      <td>Peru</td>\n",
       "      <td>20</td>\n",
       "      <td>Oxford/AstraZeneca, Pfizer/BioNTech, Sinopharm...</td>\n",
       "      <td>https://www.datosabiertos.gob.pe/dataset/vacun...</td>\n",
       "      <td>20431</td>\n",
       "      <td>20431</td>\n",
       "      <td>0</td>\n",
       "    </tr>\n",
       "    <tr>\n",
       "      <th>2</th>\n",
       "      <td>Peru</td>\n",
       "      <td>21</td>\n",
       "      <td>Oxford/AstraZeneca, Pfizer/BioNTech, Sinopharm...</td>\n",
       "      <td>https://www.datosabiertos.gob.pe/dataset/vacun...</td>\n",
       "      <td>54281</td>\n",
       "      <td>54281</td>\n",
       "      <td>0</td>\n",
       "    </tr>\n",
       "    <tr>\n",
       "      <th>3</th>\n",
       "      <td>Peru</td>\n",
       "      <td>22</td>\n",
       "      <td>Oxford/AstraZeneca, Pfizer/BioNTech, Sinopharm...</td>\n",
       "      <td>https://www.datosabiertos.gob.pe/dataset/vacun...</td>\n",
       "      <td>86629</td>\n",
       "      <td>86629</td>\n",
       "      <td>0</td>\n",
       "    </tr>\n",
       "    <tr>\n",
       "      <th>4</th>\n",
       "      <td>Peru</td>\n",
       "      <td>23</td>\n",
       "      <td>Oxford/AstraZeneca, Pfizer/BioNTech, Sinopharm...</td>\n",
       "      <td>https://www.datosabiertos.gob.pe/dataset/vacun...</td>\n",
       "      <td>105532</td>\n",
       "      <td>105532</td>\n",
       "      <td>0</td>\n",
       "    </tr>\n",
       "  </tbody>\n",
       "</table>\n",
       "</div>"
      ],
      "text/plain": [
       "  location  date                                            vaccine  \\\n",
       "0     Peru    19  Oxford/AstraZeneca, Pfizer/BioNTech, Sinopharm...   \n",
       "1     Peru    20  Oxford/AstraZeneca, Pfizer/BioNTech, Sinopharm...   \n",
       "2     Peru    21  Oxford/AstraZeneca, Pfizer/BioNTech, Sinopharm...   \n",
       "3     Peru    22  Oxford/AstraZeneca, Pfizer/BioNTech, Sinopharm...   \n",
       "4     Peru    23  Oxford/AstraZeneca, Pfizer/BioNTech, Sinopharm...   \n",
       "\n",
       "                                          source_url  total_vaccinations  \\\n",
       "0  https://www.datosabiertos.gob.pe/dataset/vacun...                3842   \n",
       "1  https://www.datosabiertos.gob.pe/dataset/vacun...               20431   \n",
       "2  https://www.datosabiertos.gob.pe/dataset/vacun...               54281   \n",
       "3  https://www.datosabiertos.gob.pe/dataset/vacun...               86629   \n",
       "4  https://www.datosabiertos.gob.pe/dataset/vacun...              105532   \n",
       "\n",
       "   people_vaccinated  people_fully_vaccinated  \n",
       "0               3842                        0  \n",
       "1              20431                        0  \n",
       "2              54281                        0  \n",
       "3              86629                        0  \n",
       "4             105532                        0  "
      ]
     },
     "execution_count": 26,
     "metadata": {},
     "output_type": "execute_result"
    }
   ],
   "source": [
    "peru = pd.read_csv('./Peru.csv')\n",
    "peru['date'] = pd.to_datetime(peru['date'],format='%Y-%m-%d')\n",
    "\n",
    "# Expresar las fechas en numero de dias\n",
    "date = peru['date']\n",
    "peru['date'] = date.map(lambda x : (x - primeraFechaValida).days)\n",
    "\n",
    "peru.head()"
   ]
  },
  {
   "cell_type": "markdown",
   "id": "dc7a3f09",
   "metadata": {
    "papermill": {
     "duration": 0.039778,
     "end_time": "2021-05-10T00:48:06.284806",
     "exception": false,
     "start_time": "2021-05-10T00:48:06.245028",
     "status": "completed"
    },
    "tags": []
   },
   "source": [
    "#### Primera Dosis"
   ]
  },
  {
   "cell_type": "code",
   "execution_count": 27,
   "id": "1050b324",
   "metadata": {
    "execution": {
     "iopub.execute_input": "2021-05-10T00:48:06.383046Z",
     "iopub.status.busy": "2021-05-10T00:48:06.381848Z",
     "iopub.status.idle": "2021-05-10T00:48:06.401520Z",
     "shell.execute_reply": "2021-05-10T00:48:06.401955Z"
    },
    "papermill": {
     "duration": 0.078787,
     "end_time": "2021-05-10T00:48:06.402148",
     "exception": false,
     "start_time": "2021-05-10T00:48:06.323361",
     "status": "completed"
    },
    "tags": []
   },
   "outputs": [
    {
     "data": {
      "text/html": [
       "<div>\n",
       "<style scoped>\n",
       "    .dataframe tbody tr th:only-of-type {\n",
       "        vertical-align: middle;\n",
       "    }\n",
       "\n",
       "    .dataframe tbody tr th {\n",
       "        vertical-align: top;\n",
       "    }\n",
       "\n",
       "    .dataframe thead th {\n",
       "        text-align: right;\n",
       "    }\n",
       "</style>\n",
       "<table border=\"1\" class=\"dataframe\">\n",
       "  <thead>\n",
       "    <tr style=\"text-align: right;\">\n",
       "      <th></th>\n",
       "      <th>Real</th>\n",
       "      <th>Predicción RF</th>\n",
       "    </tr>\n",
       "  </thead>\n",
       "  <tbody>\n",
       "    <tr>\n",
       "      <th>0</th>\n",
       "      <td>3842</td>\n",
       "      <td>8885.9</td>\n",
       "    </tr>\n",
       "    <tr>\n",
       "      <th>1</th>\n",
       "      <td>20431</td>\n",
       "      <td>22157.1</td>\n",
       "    </tr>\n",
       "    <tr>\n",
       "      <th>2</th>\n",
       "      <td>54281</td>\n",
       "      <td>47511.0</td>\n",
       "    </tr>\n",
       "    <tr>\n",
       "      <th>3</th>\n",
       "      <td>86629</td>\n",
       "      <td>67070.0</td>\n",
       "    </tr>\n",
       "    <tr>\n",
       "      <th>4</th>\n",
       "      <td>105532</td>\n",
       "      <td>105836.5</td>\n",
       "    </tr>\n",
       "  </tbody>\n",
       "</table>\n",
       "</div>"
      ],
      "text/plain": [
       "     Real  Predicción RF\n",
       "0    3842         8885.9\n",
       "1   20431        22157.1\n",
       "2   54281        47511.0\n",
       "3   86629        67070.0\n",
       "4  105532       105836.5"
      ]
     },
     "execution_count": 27,
     "metadata": {},
     "output_type": "execute_result"
    }
   ],
   "source": [
    "xPe1 = peru['date'].values.reshape(-1,1)\n",
    "yPe1 = peru['people_vaccinated'].values.reshape(-1,1)\n",
    "\n",
    "RFPer1 = RandomForestRegressor(n_estimators=10, random_state=0)\n",
    "RFPer1.fit(xPe1, yPe1.ravel())\n",
    "\n",
    "predRFPer1 = RFPer1.predict(xPe1)\n",
    "pd.DataFrame({'Real': yPe1.flatten(), 'Predicción RF': predRFPer1.flatten()}).head()"
   ]
  },
  {
   "cell_type": "markdown",
   "id": "7934b73c",
   "metadata": {
    "papermill": {
     "duration": 0.038726,
     "end_time": "2021-05-10T00:48:06.481984",
     "exception": false,
     "start_time": "2021-05-10T00:48:06.443258",
     "status": "completed"
    },
    "tags": []
   },
   "source": [
    "#### Segunda dosis"
   ]
  },
  {
   "cell_type": "code",
   "execution_count": 28,
   "id": "c51b2b18",
   "metadata": {
    "execution": {
     "iopub.execute_input": "2021-05-10T00:48:06.575666Z",
     "iopub.status.busy": "2021-05-10T00:48:06.574478Z",
     "iopub.status.idle": "2021-05-10T00:48:06.598602Z",
     "shell.execute_reply": "2021-05-10T00:48:06.599361Z"
    },
    "papermill": {
     "duration": 0.078847,
     "end_time": "2021-05-10T00:48:06.599612",
     "exception": false,
     "start_time": "2021-05-10T00:48:06.520765",
     "status": "completed"
    },
    "tags": []
   },
   "outputs": [
    {
     "data": {
      "text/html": [
       "<div>\n",
       "<style scoped>\n",
       "    .dataframe tbody tr th:only-of-type {\n",
       "        vertical-align: middle;\n",
       "    }\n",
       "\n",
       "    .dataframe tbody tr th {\n",
       "        vertical-align: top;\n",
       "    }\n",
       "\n",
       "    .dataframe thead th {\n",
       "        text-align: right;\n",
       "    }\n",
       "</style>\n",
       "<table border=\"1\" class=\"dataframe\">\n",
       "  <thead>\n",
       "    <tr style=\"text-align: right;\">\n",
       "      <th></th>\n",
       "      <th>Real</th>\n",
       "      <th>Predicción RF</th>\n",
       "    </tr>\n",
       "  </thead>\n",
       "  <tbody>\n",
       "    <tr>\n",
       "      <th>count</th>\n",
       "      <td>87.000000</td>\n",
       "      <td>87.000000</td>\n",
       "    </tr>\n",
       "    <tr>\n",
       "      <th>mean</th>\n",
       "      <td>293851.436782</td>\n",
       "      <td>292178.700000</td>\n",
       "    </tr>\n",
       "    <tr>\n",
       "      <th>std</th>\n",
       "      <td>239711.349284</td>\n",
       "      <td>239376.163211</td>\n",
       "    </tr>\n",
       "    <tr>\n",
       "      <th>min</th>\n",
       "      <td>0.000000</td>\n",
       "      <td>0.000000</td>\n",
       "    </tr>\n",
       "    <tr>\n",
       "      <th>25%</th>\n",
       "      <td>8051.000000</td>\n",
       "      <td>8448.450000</td>\n",
       "    </tr>\n",
       "    <tr>\n",
       "      <th>50%</th>\n",
       "      <td>300079.000000</td>\n",
       "      <td>298697.800000</td>\n",
       "    </tr>\n",
       "    <tr>\n",
       "      <th>75%</th>\n",
       "      <td>530816.500000</td>\n",
       "      <td>525952.450000</td>\n",
       "    </tr>\n",
       "    <tr>\n",
       "      <th>max</th>\n",
       "      <td>654463.000000</td>\n",
       "      <td>654220.000000</td>\n",
       "    </tr>\n",
       "  </tbody>\n",
       "</table>\n",
       "</div>"
      ],
      "text/plain": [
       "                Real  Predicción RF\n",
       "count      87.000000      87.000000\n",
       "mean   293851.436782  292178.700000\n",
       "std    239711.349284  239376.163211\n",
       "min         0.000000       0.000000\n",
       "25%      8051.000000    8448.450000\n",
       "50%    300079.000000  298697.800000\n",
       "75%    530816.500000  525952.450000\n",
       "max    654463.000000  654220.000000"
      ]
     },
     "execution_count": 28,
     "metadata": {},
     "output_type": "execute_result"
    }
   ],
   "source": [
    "xPe2 = peru['date'].values.reshape(-1,1)\n",
    "yPe2 = peru['people_fully_vaccinated'].values.reshape(-1,1)\n",
    "\n",
    "RFPer2 = RandomForestRegressor(n_estimators=10, random_state=0)\n",
    "RFPer2.fit(xPe2, yPe2.ravel())\n",
    "\n",
    "predRFPer2 = RFPer2.predict(xPe2)\n",
    "pd.DataFrame({'Real': yPe2.flatten(), 'Predicción RF': predRFPer2.flatten()}).describe()"
   ]
  },
  {
   "cell_type": "markdown",
   "id": "4a758b54",
   "metadata": {
    "papermill": {
     "duration": 0.041373,
     "end_time": "2021-05-10T00:48:06.679265",
     "exception": false,
     "start_time": "2021-05-10T00:48:06.637892",
     "status": "completed"
    },
    "tags": []
   },
   "source": [
    "### Portugal"
   ]
  },
  {
   "cell_type": "code",
   "execution_count": 29,
   "id": "98cb4088",
   "metadata": {
    "execution": {
     "iopub.execute_input": "2021-05-10T00:48:06.773698Z",
     "iopub.status.busy": "2021-05-10T00:48:06.773032Z",
     "iopub.status.idle": "2021-05-10T00:48:06.788877Z",
     "shell.execute_reply": "2021-05-10T00:48:06.789537Z"
    },
    "papermill": {
     "duration": 0.062782,
     "end_time": "2021-05-10T00:48:06.789769",
     "exception": false,
     "start_time": "2021-05-10T00:48:06.726987",
     "status": "completed"
    },
    "tags": []
   },
   "outputs": [
    {
     "data": {
      "text/html": [
       "<div>\n",
       "<style scoped>\n",
       "    .dataframe tbody tr th:only-of-type {\n",
       "        vertical-align: middle;\n",
       "    }\n",
       "\n",
       "    .dataframe tbody tr th {\n",
       "        vertical-align: top;\n",
       "    }\n",
       "\n",
       "    .dataframe thead th {\n",
       "        text-align: right;\n",
       "    }\n",
       "</style>\n",
       "<table border=\"1\" class=\"dataframe\">\n",
       "  <thead>\n",
       "    <tr style=\"text-align: right;\">\n",
       "      <th></th>\n",
       "      <th>location</th>\n",
       "      <th>date</th>\n",
       "      <th>vaccine</th>\n",
       "      <th>source_url</th>\n",
       "      <th>total_vaccinations</th>\n",
       "      <th>people_vaccinated</th>\n",
       "      <th>people_fully_vaccinated</th>\n",
       "    </tr>\n",
       "  </thead>\n",
       "  <tbody>\n",
       "    <tr>\n",
       "      <th>0</th>\n",
       "      <td>Portugal</td>\n",
       "      <td>-25</td>\n",
       "      <td>Pfizer/BioNTech</td>\n",
       "      <td>https://github.com/dssg-pt/covid19pt-data</td>\n",
       "      <td>4963</td>\n",
       "      <td>4963</td>\n",
       "      <td>0</td>\n",
       "    </tr>\n",
       "    <tr>\n",
       "      <th>1</th>\n",
       "      <td>Portugal</td>\n",
       "      <td>-24</td>\n",
       "      <td>Pfizer/BioNTech</td>\n",
       "      <td>https://github.com/dssg-pt/covid19pt-data</td>\n",
       "      <td>7754</td>\n",
       "      <td>7754</td>\n",
       "      <td>0</td>\n",
       "    </tr>\n",
       "    <tr>\n",
       "      <th>2</th>\n",
       "      <td>Portugal</td>\n",
       "      <td>-23</td>\n",
       "      <td>Pfizer/BioNTech</td>\n",
       "      <td>https://github.com/dssg-pt/covid19pt-data</td>\n",
       "      <td>20368</td>\n",
       "      <td>20368</td>\n",
       "      <td>0</td>\n",
       "    </tr>\n",
       "    <tr>\n",
       "      <th>3</th>\n",
       "      <td>Portugal</td>\n",
       "      <td>-22</td>\n",
       "      <td>Pfizer/BioNTech</td>\n",
       "      <td>https://github.com/dssg-pt/covid19pt-data</td>\n",
       "      <td>30543</td>\n",
       "      <td>30543</td>\n",
       "      <td>0</td>\n",
       "    </tr>\n",
       "    <tr>\n",
       "      <th>4</th>\n",
       "      <td>Portugal</td>\n",
       "      <td>-21</td>\n",
       "      <td>Pfizer/BioNTech</td>\n",
       "      <td>https://github.com/dssg-pt/covid19pt-data</td>\n",
       "      <td>32749</td>\n",
       "      <td>32749</td>\n",
       "      <td>0</td>\n",
       "    </tr>\n",
       "  </tbody>\n",
       "</table>\n",
       "</div>"
      ],
      "text/plain": [
       "   location  date          vaccine                                 source_url  \\\n",
       "0  Portugal   -25  Pfizer/BioNTech  https://github.com/dssg-pt/covid19pt-data   \n",
       "1  Portugal   -24  Pfizer/BioNTech  https://github.com/dssg-pt/covid19pt-data   \n",
       "2  Portugal   -23  Pfizer/BioNTech  https://github.com/dssg-pt/covid19pt-data   \n",
       "3  Portugal   -22  Pfizer/BioNTech  https://github.com/dssg-pt/covid19pt-data   \n",
       "4  Portugal   -21  Pfizer/BioNTech  https://github.com/dssg-pt/covid19pt-data   \n",
       "\n",
       "   total_vaccinations  people_vaccinated  people_fully_vaccinated  \n",
       "0                4963               4963                        0  \n",
       "1                7754               7754                        0  \n",
       "2               20368              20368                        0  \n",
       "3               30543              30543                        0  \n",
       "4               32749              32749                        0  "
      ]
     },
     "execution_count": 29,
     "metadata": {},
     "output_type": "execute_result"
    }
   ],
   "source": [
    "portugal = pd.read_csv('./Portugal.csv')\n",
    "portugal['date'] = pd.to_datetime(portugal['date'],format='%Y-%m-%d')\n",
    "\n",
    "# Expresar las fechas en numero de dias\n",
    "date = portugal['date']\n",
    "portugal['date'] = date.map(lambda x : (x - primeraFechaValida).days)\n",
    "\n",
    "portugal.head()"
   ]
  },
  {
   "cell_type": "markdown",
   "id": "f584a921",
   "metadata": {
    "papermill": {
     "duration": 0.040595,
     "end_time": "2021-05-10T00:48:06.869375",
     "exception": false,
     "start_time": "2021-05-10T00:48:06.828780",
     "status": "completed"
    },
    "tags": []
   },
   "source": [
    "#### Primera Dosis"
   ]
  },
  {
   "cell_type": "code",
   "execution_count": 30,
   "id": "7371cb25",
   "metadata": {
    "execution": {
     "iopub.execute_input": "2021-05-10T00:48:06.970355Z",
     "iopub.status.busy": "2021-05-10T00:48:06.967918Z",
     "iopub.status.idle": "2021-05-10T00:48:06.988618Z",
     "shell.execute_reply": "2021-05-10T00:48:06.989073Z"
    },
    "papermill": {
     "duration": 0.080724,
     "end_time": "2021-05-10T00:48:06.989293",
     "exception": false,
     "start_time": "2021-05-10T00:48:06.908569",
     "status": "completed"
    },
    "tags": []
   },
   "outputs": [
    {
     "data": {
      "text/html": [
       "<div>\n",
       "<style scoped>\n",
       "    .dataframe tbody tr th:only-of-type {\n",
       "        vertical-align: middle;\n",
       "    }\n",
       "\n",
       "    .dataframe tbody tr th {\n",
       "        vertical-align: top;\n",
       "    }\n",
       "\n",
       "    .dataframe thead th {\n",
       "        text-align: right;\n",
       "    }\n",
       "</style>\n",
       "<table border=\"1\" class=\"dataframe\">\n",
       "  <thead>\n",
       "    <tr style=\"text-align: right;\">\n",
       "      <th></th>\n",
       "      <th>Real</th>\n",
       "      <th>Predicción RF</th>\n",
       "    </tr>\n",
       "  </thead>\n",
       "  <tbody>\n",
       "    <tr>\n",
       "      <th>0</th>\n",
       "      <td>4963</td>\n",
       "      <td>5800.3</td>\n",
       "    </tr>\n",
       "    <tr>\n",
       "      <th>1</th>\n",
       "      <td>7754</td>\n",
       "      <td>7754.0</td>\n",
       "    </tr>\n",
       "    <tr>\n",
       "      <th>2</th>\n",
       "      <td>20368</td>\n",
       "      <td>19106.6</td>\n",
       "    </tr>\n",
       "    <tr>\n",
       "      <th>3</th>\n",
       "      <td>30543</td>\n",
       "      <td>26473.0</td>\n",
       "    </tr>\n",
       "    <tr>\n",
       "      <th>4</th>\n",
       "      <td>32749</td>\n",
       "      <td>31510.9</td>\n",
       "    </tr>\n",
       "  </tbody>\n",
       "</table>\n",
       "</div>"
      ],
      "text/plain": [
       "    Real  Predicción RF\n",
       "0   4963         5800.3\n",
       "1   7754         7754.0\n",
       "2  20368        19106.6\n",
       "3  30543        26473.0\n",
       "4  32749        31510.9"
      ]
     },
     "execution_count": 30,
     "metadata": {},
     "output_type": "execute_result"
    }
   ],
   "source": [
    "xPo1 = portugal['date'].values.reshape(-1,1)\n",
    "yPo1 = portugal['people_vaccinated'].values.reshape(-1,1)\n",
    "\n",
    "RFPor1 = RandomForestRegressor(n_estimators=10, random_state=0)\n",
    "RFPor1.fit(xPo1, yPo1.ravel())\n",
    "\n",
    "predRFPor1 = RFPor1.predict(xPo1)\n",
    "pd.DataFrame({'Real': yPo1.flatten(), 'Predicción RF': predRFPor1.flatten()}).head()"
   ]
  },
  {
   "cell_type": "markdown",
   "id": "0dc80995",
   "metadata": {
    "papermill": {
     "duration": 0.041017,
     "end_time": "2021-05-10T00:48:07.073636",
     "exception": false,
     "start_time": "2021-05-10T00:48:07.032619",
     "status": "completed"
    },
    "tags": []
   },
   "source": [
    "#### Segunda Dosis"
   ]
  },
  {
   "cell_type": "code",
   "execution_count": 31,
   "id": "6d26cee6",
   "metadata": {
    "execution": {
     "iopub.execute_input": "2021-05-10T00:48:07.163812Z",
     "iopub.status.busy": "2021-05-10T00:48:07.162870Z",
     "iopub.status.idle": "2021-05-10T00:48:07.188654Z",
     "shell.execute_reply": "2021-05-10T00:48:07.189175Z"
    },
    "papermill": {
     "duration": 0.076248,
     "end_time": "2021-05-10T00:48:07.189404",
     "exception": false,
     "start_time": "2021-05-10T00:48:07.113156",
     "status": "completed"
    },
    "tags": []
   },
   "outputs": [
    {
     "data": {
      "text/html": [
       "<div>\n",
       "<style scoped>\n",
       "    .dataframe tbody tr th:only-of-type {\n",
       "        vertical-align: middle;\n",
       "    }\n",
       "\n",
       "    .dataframe tbody tr th {\n",
       "        vertical-align: top;\n",
       "    }\n",
       "\n",
       "    .dataframe thead th {\n",
       "        text-align: right;\n",
       "    }\n",
       "</style>\n",
       "<table border=\"1\" class=\"dataframe\">\n",
       "  <thead>\n",
       "    <tr style=\"text-align: right;\">\n",
       "      <th></th>\n",
       "      <th>Real</th>\n",
       "      <th>Predicción RF</th>\n",
       "    </tr>\n",
       "  </thead>\n",
       "  <tbody>\n",
       "    <tr>\n",
       "      <th>count</th>\n",
       "      <td>1.330000e+02</td>\n",
       "      <td>1.330000e+02</td>\n",
       "    </tr>\n",
       "    <tr>\n",
       "      <th>mean</th>\n",
       "      <td>3.423009e+05</td>\n",
       "      <td>3.404952e+05</td>\n",
       "    </tr>\n",
       "    <tr>\n",
       "      <th>std</th>\n",
       "      <td>3.015751e+05</td>\n",
       "      <td>3.003043e+05</td>\n",
       "    </tr>\n",
       "    <tr>\n",
       "      <th>min</th>\n",
       "      <td>0.000000e+00</td>\n",
       "      <td>0.000000e+00</td>\n",
       "    </tr>\n",
       "    <tr>\n",
       "      <th>25%</th>\n",
       "      <td>3.055300e+04</td>\n",
       "      <td>3.404380e+04</td>\n",
       "    </tr>\n",
       "    <tr>\n",
       "      <th>50%</th>\n",
       "      <td>2.759480e+05</td>\n",
       "      <td>2.756465e+05</td>\n",
       "    </tr>\n",
       "    <tr>\n",
       "      <th>75%</th>\n",
       "      <td>5.790380e+05</td>\n",
       "      <td>5.793689e+05</td>\n",
       "    </tr>\n",
       "    <tr>\n",
       "      <th>max</th>\n",
       "      <td>1.091073e+06</td>\n",
       "      <td>1.076024e+06</td>\n",
       "    </tr>\n",
       "  </tbody>\n",
       "</table>\n",
       "</div>"
      ],
      "text/plain": [
       "               Real  Predicción RF\n",
       "count  1.330000e+02   1.330000e+02\n",
       "mean   3.423009e+05   3.404952e+05\n",
       "std    3.015751e+05   3.003043e+05\n",
       "min    0.000000e+00   0.000000e+00\n",
       "25%    3.055300e+04   3.404380e+04\n",
       "50%    2.759480e+05   2.756465e+05\n",
       "75%    5.790380e+05   5.793689e+05\n",
       "max    1.091073e+06   1.076024e+06"
      ]
     },
     "execution_count": 31,
     "metadata": {},
     "output_type": "execute_result"
    }
   ],
   "source": [
    "xPo2 = portugal['date'].values.reshape(-1,1)\n",
    "yPo2 = portugal['people_fully_vaccinated'].values.reshape(-1,1)\n",
    "\n",
    "RFPor2 = RandomForestRegressor(n_estimators=10, random_state=0)\n",
    "RFPor2.fit(xPo2, yPo2.ravel())\n",
    "\n",
    "predRFPor2 = RFPor2.predict(xPo2)\n",
    "pd.DataFrame({'Real': yPo2.flatten(), 'Predicción RF': predRFPor2.flatten()}).describe()"
   ]
  },
  {
   "cell_type": "markdown",
   "id": "714c0ee1",
   "metadata": {
    "papermill": {
     "duration": 0.038783,
     "end_time": "2021-05-10T00:48:07.264941",
     "exception": false,
     "start_time": "2021-05-10T00:48:07.226158",
     "status": "completed"
    },
    "tags": []
   },
   "source": [
    "## Comparación datos reales"
   ]
  },
  {
   "cell_type": "markdown",
   "id": "2dc2c2dd",
   "metadata": {
    "papermill": {
     "duration": 0.037845,
     "end_time": "2021-05-10T00:48:07.342714",
     "exception": false,
     "start_time": "2021-05-10T00:48:07.304869",
     "status": "completed"
    },
    "tags": []
   },
   "source": [
    "#### Primera Dosis"
   ]
  },
  {
   "cell_type": "code",
   "execution_count": 32,
   "id": "53ee142d",
   "metadata": {
    "execution": {
     "iopub.execute_input": "2021-05-10T00:48:07.466374Z",
     "iopub.status.busy": "2021-05-10T00:48:07.465674Z",
     "iopub.status.idle": "2021-05-10T00:48:07.621114Z",
     "shell.execute_reply": "2021-05-10T00:48:07.620626Z"
    },
    "papermill": {
     "duration": 0.239144,
     "end_time": "2021-05-10T00:48:07.621312",
     "exception": false,
     "start_time": "2021-05-10T00:48:07.382168",
     "status": "completed"
    },
    "tags": []
   },
   "outputs": [
    {
     "data": {
      "image/png": "[encoded data removed]",
      "text/plain": [
       "<Figure size 1080x504 with 1 Axes>"
      ]
     },
     "metadata": {
      "needs_background": "light"
     },
     "output_type": "display_data"
    }
   ],
   "source": [
    "plt.figure(figsize = (15,7))\n",
    "plt.plot(x1, y1, '-', label ='Ecuador')\n",
    "plt.plot(xPe1, yPe1, '-', label ='Peru', color='r')\n",
    "plt.plot(xPo1, yPo1, '-', label ='Portugal', color='g')\n",
    "plt.title('Real - 1ra Dosis - Comparación')\n",
    "plt.xlabel('Fecha en días')\n",
    "plt.ylabel('# Vacunados')\n",
    "plt.legend()\n",
    "plt.show()"
   ]
  },
  {
   "cell_type": "markdown",
   "id": "212e0490",
   "metadata": {
    "papermill": {
     "duration": 0.03981,
     "end_time": "2021-05-10T00:48:07.699205",
     "exception": false,
     "start_time": "2021-05-10T00:48:07.659395",
     "status": "completed"
    },
    "tags": []
   },
   "source": [
    "#### Segunda dosis"
   ]
  },
  {
   "cell_type": "code",
   "execution_count": 33,
   "id": "ace6386f",
   "metadata": {
    "execution": {
     "iopub.execute_input": "2021-05-10T00:48:07.825009Z",
     "iopub.status.busy": "2021-05-10T00:48:07.795742Z",
     "iopub.status.idle": "2021-05-10T00:48:07.983373Z",
     "shell.execute_reply": "2021-05-10T00:48:07.983848Z"
    },
    "papermill": {
     "duration": 0.245006,
     "end_time": "2021-05-10T00:48:07.984070",
     "exception": false,
     "start_time": "2021-05-10T00:48:07.739064",
     "status": "completed"
    },
    "tags": []
   },
   "outputs": [
    {
     "data": {
      "image/png": "[encoded data removed]",
      "text/plain": [
       "<Figure size 1080x504 with 1 Axes>"
      ]
     },
     "metadata": {
      "needs_background": "light"
     },
     "output_type": "display_data"
    }
   ],
   "source": [
    "plt.figure(figsize = (15,7))\n",
    "plt.plot(x2, y2, '-', label ='Ecuador')\n",
    "plt.plot(xPe2, yPe2, '-', label ='Peru', color='r')\n",
    "plt.plot(xPo2, yPo2, '-', label ='Portugal', color='g')\n",
    "plt.title('Real - 2da Dosis - Comparación')\n",
    "plt.xlabel('Fecha en días')\n",
    "plt.ylabel('# Vacunados')\n",
    "plt.legend()\n",
    "plt.show()"
   ]
  },
  {
   "cell_type": "markdown",
   "id": "92ad8d56",
   "metadata": {
    "papermill": {
     "duration": 0.044655,
     "end_time": "2021-05-10T00:48:08.070995",
     "exception": false,
     "start_time": "2021-05-10T00:48:08.026340",
     "status": "completed"
    },
    "tags": []
   },
   "source": [
    "## Comparación Modelos de Regresión"
   ]
  },
  {
   "cell_type": "code",
   "execution_count": 34,
   "id": "3584a5b1",
   "metadata": {
    "execution": {
     "iopub.execute_input": "2021-05-10T00:48:08.176749Z",
     "iopub.status.busy": "2021-05-10T00:48:08.175864Z",
     "iopub.status.idle": "2021-05-10T00:48:08.357624Z",
     "shell.execute_reply": "2021-05-10T00:48:08.358081Z"
    },
    "papermill": {
     "duration": 0.247381,
     "end_time": "2021-05-10T00:48:08.358299",
     "exception": false,
     "start_time": "2021-05-10T00:48:08.110918",
     "status": "completed"
    },
    "tags": []
   },
   "outputs": [
    {
     "data": {
      "image/png": "[encoded data removed]",
      "text/plain": [
       "<Figure size 1080x504 with 1 Axes>"
      ]
     },
     "metadata": {
      "needs_background": "light"
     },
     "output_type": "display_data"
    }
   ],
   "source": [
    "plt.figure(figsize = (15,7))\n",
    "plt.plot(x1, RF1.predict(x1),  '-', label = 'Ecuador')\n",
    "plt.plot(xPe1, RFPer1.predict(xPe1),  '-', label = 'Perú', color='r')\n",
    "plt.plot(xPo1, RFPor1.predict(xPo1),  '-', label = 'Portugal', color='g')\n",
    "plt.title('Random Forest Regression - 1ra Dosis - Comparación')\n",
    "plt.xlabel('Fecha en días')\n",
    "plt.ylabel('# Vacunados')\n",
    "plt.legend()\n",
    "plt.show()"
   ]
  },
  {
   "cell_type": "code",
   "execution_count": 35,
   "id": "6501788b",
   "metadata": {
    "execution": {
     "iopub.execute_input": "2021-05-10T00:48:08.471281Z",
     "iopub.status.busy": "2021-05-10T00:48:08.470563Z",
     "iopub.status.idle": "2021-05-10T00:48:08.651156Z",
     "shell.execute_reply": "2021-05-10T00:48:08.651888Z"
    },
    "papermill": {
     "duration": 0.251887,
     "end_time": "2021-05-10T00:48:08.652109",
     "exception": false,
     "start_time": "2021-05-10T00:48:08.400222",
     "status": "completed"
    },
    "tags": []
   },
   "outputs": [
    {
     "data": {
      "image/png": "[encoded data removed]",
      "text/plain": [
       "<Figure size 1080x504 with 1 Axes>"
      ]
     },
     "metadata": {
      "needs_background": "light"
     },
     "output_type": "display_data"
    }
   ],
   "source": [
    "plt.figure(figsize = (15,7))\n",
    "plt.plot(x2, RF2.predict(x2),  '-', label = 'Ecuador')\n",
    "plt.plot(xPe2, RFPer2.predict(xPe2),  '-', label = 'Perú', color='r')\n",
    "plt.plot(xPo2, RFPor2.predict(xPo2),  '-', label = 'Portugal', color='g')\n",
    "plt.title('Random Forest Regression - 2da Dosis - Comparación')\n",
    "plt.xlabel('Fecha en días')\n",
    "plt.ylabel('# Vacunados')\n",
    "plt.legend()\n",
    "plt.show()"
   ]
  },
  {
   "cell_type": "markdown",
   "id": "e782e3e5",
   "metadata": {
    "papermill": {
     "duration": 0.043099,
     "end_time": "2021-05-10T00:48:08.737749",
     "exception": false,
     "start_time": "2021-05-10T00:48:08.694650",
     "status": "completed"
    },
    "tags": []
   },
   "source": [
    "# Identificar cual es la fecha tentativa en la que todos los Ecuatorianos podrán ser vacunados con las dos dosis. "
   ]
  },
  {
   "cell_type": "code",
   "execution_count": 36,
   "id": "2c2dc406",
   "metadata": {
    "execution": {
     "iopub.execute_input": "2021-05-10T00:48:09.134525Z",
     "iopub.status.busy": "2021-05-10T00:48:09.032979Z",
     "iopub.status.idle": "2021-05-10T00:48:09.136932Z",
     "shell.execute_reply": "2021-05-10T00:48:09.137402Z"
    },
    "papermill": {
     "duration": 0.357848,
     "end_time": "2021-05-10T00:48:09.137627",
     "exception": false,
     "start_time": "2021-05-10T00:48:08.779779",
     "status": "completed"
    },
    "tags": []
   },
   "outputs": [
    {
     "name": "stdout",
     "output_type": "stream",
     "text": [
      "La poblacion ecuatoriana (17.37 millones), estará inmunizada en su totalidad (regresion lineal) el dia  2037-01-31 00:00:00\n"
     ]
    }
   ],
   "source": [
    "maximo = max(x2)+1\n",
    "last = regr.predict([maximo])\n",
    "while last <= 17370000:\n",
    "    maximo = maximo+1\n",
    "    last = regr.predict([maximo])\n",
    "\n",
    "ultimaVacuna = primeraFechaValida + datetime.timedelta(days=np.float64(maximo[0]))\n",
    "print('La poblacion ecuatoriana (17.37 millones), estará inmunizada en su totalidad (regresion lineal) el dia ',ultimaVacuna)"
   ]
  },
  {
   "cell_type": "markdown",
   "id": "c1072656",
   "metadata": {
    "papermill": {
     "duration": 0.043181,
     "end_time": "2021-05-10T00:48:09.222994",
     "exception": false,
     "start_time": "2021-05-10T00:48:09.179813",
     "status": "completed"
    },
    "tags": []
   },
   "source": [
    "Nota: no se pudo realizar una estimacion con la regresion random forest, ya que existen muy pocos datos, la regresion llega a un punto en que es lineal, por ese motivo no se realizo la prediccion con dicha regresión"
   ]
  }
 ],
 "metadata": {
  "celltoolbar": "Tags",
  "kernelspec": {
   "display_name": "Python 3",
   "language": "python",
   "name": "python3"
  },
  "language_info": {
   "codemirror_mode": {
    "name": "ipython",
    "version": 3
   },
   "file_extension": ".py",
   "mimetype": "text/x-python",
   "name": "python",
   "nbconvert_exporter": "python",
   "pygments_lexer": "ipython3",
   "version": "3.9.4"
  },
  "papermill": {
   "default_parameters": {},
   "duration": 11.441052,
   "end_time": "2021-05-10T00:48:09.786242",
   "environment_variables": {},
   "exception": null,
   "input_path": "./morales.ipynb",
   "output_path": "./resultado.ipynb",
   "parameters": {
    "fin": "2021-03-12",
    "inicio": "2021-02-01"
   },
   "start_time": "2021-05-10T00:47:58.345190",
   "version": "2.3.3"
  }
 },
 "nbformat": 4,
 "nbformat_minor": 5
}
