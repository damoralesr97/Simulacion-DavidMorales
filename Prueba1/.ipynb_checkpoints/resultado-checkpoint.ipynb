{
 "cells": [
  {
   "cell_type": "code",
   "execution_count": 1,
   "id": "7d9b3253",
   "metadata": {
    "execution": {
     "iopub.execute_input": "2021-05-09T23:37:58.425456Z",
     "iopub.status.busy": "2021-05-09T23:37:58.424798Z",
     "iopub.status.idle": "2021-05-09T23:37:59.936767Z",
     "shell.execute_reply": "2021-05-09T23:37:59.937485Z"
    },
    "papermill": {
     "duration": 1.549069,
     "end_time": "2021-05-09T23:37:59.937799",
     "exception": false,
     "start_time": "2021-05-09T23:37:58.388730",
     "status": "completed"
    },
    "tags": []
   },
   "outputs": [],
   "source": [
    "# Importar las librerias para el analasis\n",
    "import pandas as pd\n",
    "import numpy as np\n",
    "from datetime import datetime,timedelta\n",
    "from sklearn.metrics import mean_squared_error\n",
    "from scipy.optimize import curve_fit\n",
    "from scipy.optimize import fsolve\n",
    "from sklearn import linear_model\n",
    "from sklearn.ensemble import RandomForestRegressor\n",
    "from sklearn.model_selection import train_test_split \n",
    "import matplotlib.pyplot as plt"
   ]
  },
  {
   "cell_type": "code",
   "execution_count": 2,
   "id": "5342e50e",
   "metadata": {
    "execution": {
     "iopub.execute_input": "2021-05-09T23:37:59.992079Z",
     "iopub.status.busy": "2021-05-09T23:37:59.991361Z",
     "iopub.status.idle": "2021-05-09T23:37:59.993370Z",
     "shell.execute_reply": "2021-05-09T23:37:59.993828Z"
    },
    "papermill": {
     "duration": 0.031219,
     "end_time": "2021-05-09T23:37:59.994044",
     "exception": false,
     "start_time": "2021-05-09T23:37:59.962825",
     "status": "completed"
    },
    "tags": [
     "parameters"
    ]
   },
   "outputs": [],
   "source": [
    "inicio = ''\n",
    "fin = ''"
   ]
  },
  {
   "cell_type": "code",
   "execution_count": 3,
   "id": "0c3577aa",
   "metadata": {
    "execution": {
     "iopub.execute_input": "2021-05-09T23:38:00.060326Z",
     "iopub.status.busy": "2021-05-09T23:38:00.059682Z",
     "iopub.status.idle": "2021-05-09T23:38:00.061675Z",
     "shell.execute_reply": "2021-05-09T23:38:00.062095Z"
    },
    "papermill": {
     "duration": 0.034715,
     "end_time": "2021-05-09T23:38:00.062320",
     "exception": false,
     "start_time": "2021-05-09T23:38:00.027605",
     "status": "completed"
    },
    "tags": [
     "injected-parameters"
    ]
   },
   "outputs": [],
   "source": [
    "# Parameters\n",
    "inicio = \"2021-02-01\"\n",
    "fin = \"2021-03-12\"\n"
   ]
  },
  {
   "cell_type": "code",
   "execution_count": 4,
   "id": "78e418d0",
   "metadata": {
    "execution": {
     "iopub.execute_input": "2021-05-09T23:38:00.118101Z",
     "iopub.status.busy": "2021-05-09T23:38:00.116970Z",
     "iopub.status.idle": "2021-05-09T23:38:00.123484Z",
     "shell.execute_reply": "2021-05-09T23:38:00.123953Z"
    },
    "papermill": {
     "duration": 0.036384,
     "end_time": "2021-05-09T23:38:00.124180",
     "exception": false,
     "start_time": "2021-05-09T23:38:00.087796",
     "status": "completed"
    },
    "tags": []
   },
   "outputs": [],
   "source": [
    "vacunados = pd.read_csv('./datos_crudos/vacunas/vacunas.csv')"
   ]
  },
  {
   "cell_type": "code",
   "execution_count": 5,
   "id": "4c4b2c0a",
   "metadata": {
    "execution": {
     "iopub.execute_input": "2021-05-09T23:38:00.183171Z",
     "iopub.status.busy": "2021-05-09T23:38:00.182453Z",
     "iopub.status.idle": "2021-05-09T23:38:00.185025Z",
     "shell.execute_reply": "2021-05-09T23:38:00.185591Z"
    },
    "papermill": {
     "duration": 0.035344,
     "end_time": "2021-05-09T23:38:00.185843",
     "exception": false,
     "start_time": "2021-05-09T23:38:00.150499",
     "status": "completed"
    },
    "tags": []
   },
   "outputs": [],
   "source": [
    "vacunados['fecha'] = pd.to_datetime(vacunados['fecha'],format='%d/%m/%Y')\n",
    "vacunados = vacunados[(vacunados['fecha']>=inicio)&(vacunados['fecha']<=fin)]"
   ]
  },
  {
   "cell_type": "markdown",
   "id": "11118232",
   "metadata": {
    "papermill": {
     "duration": 0.02585,
     "end_time": "2021-05-09T23:38:00.236573",
     "exception": false,
     "start_time": "2021-05-09T23:38:00.210723",
     "status": "completed"
    },
    "tags": []
   },
   "source": [
    "Datos con fecha de corte al: 06/05/2021"
   ]
  },
  {
   "cell_type": "markdown",
   "id": "ed32cc9b",
   "metadata": {
    "papermill": {
     "duration": 0.026485,
     "end_time": "2021-05-09T23:38:00.290180",
     "exception": false,
     "start_time": "2021-05-09T23:38:00.263695",
     "status": "completed"
    },
    "tags": []
   },
   "source": [
    "## Personas vacunadas"
   ]
  },
  {
   "cell_type": "code",
   "execution_count": 6,
   "id": "9cac3897",
   "metadata": {
    "execution": {
     "iopub.execute_input": "2021-05-09T23:38:00.347643Z",
     "iopub.status.busy": "2021-05-09T23:38:00.347009Z",
     "iopub.status.idle": "2021-05-09T23:38:00.358332Z",
     "shell.execute_reply": "2021-05-09T23:38:00.358819Z"
    },
    "papermill": {
     "duration": 0.042356,
     "end_time": "2021-05-09T23:38:00.359054",
     "exception": false,
     "start_time": "2021-05-09T23:38:00.316698",
     "status": "completed"
    },
    "tags": []
   },
   "outputs": [
    {
     "data": {
      "text/html": [
       "<div>\n",
       "<style scoped>\n",
       "    .dataframe tbody tr th:only-of-type {\n",
       "        vertical-align: middle;\n",
       "    }\n",
       "\n",
       "    .dataframe tbody tr th {\n",
       "        vertical-align: top;\n",
       "    }\n",
       "\n",
       "    .dataframe thead th {\n",
       "        text-align: right;\n",
       "    }\n",
       "</style>\n",
       "<table border=\"1\" class=\"dataframe\">\n",
       "  <thead>\n",
       "    <tr style=\"text-align: right;\">\n",
       "      <th></th>\n",
       "      <th>fecha</th>\n",
       "      <th>dosis_total</th>\n",
       "      <th>primera_dosis</th>\n",
       "      <th>segunda_dosis</th>\n",
       "    </tr>\n",
       "  </thead>\n",
       "  <tbody>\n",
       "    <tr>\n",
       "      <th>3</th>\n",
       "      <td>2021-02-04</td>\n",
       "      <td>6228</td>\n",
       "      <td>6228</td>\n",
       "      <td>0</td>\n",
       "    </tr>\n",
       "    <tr>\n",
       "      <th>4</th>\n",
       "      <td>2021-02-17</td>\n",
       "      <td>8190</td>\n",
       "      <td>6228</td>\n",
       "      <td>1962</td>\n",
       "    </tr>\n",
       "    <tr>\n",
       "      <th>5</th>\n",
       "      <td>2021-02-24</td>\n",
       "      <td>24492</td>\n",
       "      <td>20784</td>\n",
       "      <td>3708</td>\n",
       "    </tr>\n",
       "    <tr>\n",
       "      <th>6</th>\n",
       "      <td>2021-03-01</td>\n",
       "      <td>42114</td>\n",
       "      <td>35886</td>\n",
       "      <td>6228</td>\n",
       "    </tr>\n",
       "    <tr>\n",
       "      <th>7</th>\n",
       "      <td>2021-03-04</td>\n",
       "      <td>59316</td>\n",
       "      <td>53088</td>\n",
       "      <td>6228</td>\n",
       "    </tr>\n",
       "  </tbody>\n",
       "</table>\n",
       "</div>"
      ],
      "text/plain": [
       "       fecha  dosis_total  primera_dosis  segunda_dosis\n",
       "3 2021-02-04         6228           6228              0\n",
       "4 2021-02-17         8190           6228           1962\n",
       "5 2021-02-24        24492          20784           3708\n",
       "6 2021-03-01        42114          35886           6228\n",
       "7 2021-03-04        59316          53088           6228"
      ]
     },
     "execution_count": 6,
     "metadata": {},
     "output_type": "execute_result"
    }
   ],
   "source": [
    "vacunados.head()"
   ]
  },
  {
   "cell_type": "code",
   "execution_count": 7,
   "id": "8293f258",
   "metadata": {
    "execution": {
     "iopub.execute_input": "2021-05-09T23:38:00.416644Z",
     "iopub.status.busy": "2021-05-09T23:38:00.415784Z",
     "iopub.status.idle": "2021-05-09T23:38:00.685425Z",
     "shell.execute_reply": "2021-05-09T23:38:00.686029Z"
    },
    "papermill": {
     "duration": 0.300333,
     "end_time": "2021-05-09T23:38:00.686256",
     "exception": false,
     "start_time": "2021-05-09T23:38:00.385923",
     "status": "completed"
    },
    "tags": []
   },
   "outputs": [
    {
     "data": {
      "text/plain": [
       "<AxesSubplot:xlabel='fecha'>"
      ]
     },
     "execution_count": 7,
     "metadata": {},
     "output_type": "execute_result"
    },
    {
     "data": {
      "image/png": "[encoded data removed]",
      "text/plain": [
       "<Figure size 432x288 with 1 Axes>"
      ]
     },
     "metadata": {
      "needs_background": "light"
     },
     "output_type": "display_data"
    }
   ],
   "source": [
    "vacunados.plot(x='fecha', rot=60, grid=True)"
   ]
  },
  {
   "cell_type": "markdown",
   "id": "cb2b92fa",
   "metadata": {
    "papermill": {
     "duration": 0.026597,
     "end_time": "2021-05-09T23:38:00.743790",
     "exception": false,
     "start_time": "2021-05-09T23:38:00.717193",
     "status": "completed"
    },
    "tags": []
   },
   "source": [
    "## Fabricantes"
   ]
  },
  {
   "cell_type": "code",
   "execution_count": 8,
   "id": "0d77aa43",
   "metadata": {
    "execution": {
     "iopub.execute_input": "2021-05-09T23:38:00.803650Z",
     "iopub.status.busy": "2021-05-09T23:38:00.802626Z",
     "iopub.status.idle": "2021-05-09T23:38:00.814082Z",
     "shell.execute_reply": "2021-05-09T23:38:00.814543Z"
    },
    "papermill": {
     "duration": 0.042789,
     "end_time": "2021-05-09T23:38:00.814766",
     "exception": false,
     "start_time": "2021-05-09T23:38:00.771977",
     "status": "completed"
    },
    "tags": []
   },
   "outputs": [
    {
     "data": {
      "text/html": [
       "<div>\n",
       "<style scoped>\n",
       "    .dataframe tbody tr th:only-of-type {\n",
       "        vertical-align: middle;\n",
       "    }\n",
       "\n",
       "    .dataframe tbody tr th {\n",
       "        vertical-align: top;\n",
       "    }\n",
       "\n",
       "    .dataframe thead th {\n",
       "        text-align: right;\n",
       "    }\n",
       "</style>\n",
       "<table border=\"1\" class=\"dataframe\">\n",
       "  <thead>\n",
       "    <tr style=\"text-align: right;\">\n",
       "      <th></th>\n",
       "      <th>vaccine</th>\n",
       "      <th>total</th>\n",
       "      <th>arrived_at</th>\n",
       "    </tr>\n",
       "  </thead>\n",
       "  <tbody>\n",
       "    <tr>\n",
       "      <th>1</th>\n",
       "      <td>Pfizer/BioNTech</td>\n",
       "      <td>16380</td>\n",
       "      <td>2021-02-17</td>\n",
       "    </tr>\n",
       "    <tr>\n",
       "      <th>2</th>\n",
       "      <td>Pfizer/BioNTech</td>\n",
       "      <td>17550</td>\n",
       "      <td>2021-02-24</td>\n",
       "    </tr>\n",
       "    <tr>\n",
       "      <th>3</th>\n",
       "      <td>Pfizer/BioNTech</td>\n",
       "      <td>31590</td>\n",
       "      <td>2021-03-03</td>\n",
       "    </tr>\n",
       "    <tr>\n",
       "      <th>4</th>\n",
       "      <td>Sinovac</td>\n",
       "      <td>20000</td>\n",
       "      <td>2021-03-06</td>\n",
       "    </tr>\n",
       "    <tr>\n",
       "      <th>5</th>\n",
       "      <td>Pfizer/BioNTech</td>\n",
       "      <td>73710</td>\n",
       "      <td>2021-03-10</td>\n",
       "    </tr>\n",
       "  </tbody>\n",
       "</table>\n",
       "</div>"
      ],
      "text/plain": [
       "           vaccine  total arrived_at\n",
       "1  Pfizer/BioNTech  16380 2021-02-17\n",
       "2  Pfizer/BioNTech  17550 2021-02-24\n",
       "3  Pfizer/BioNTech  31590 2021-03-03\n",
       "4          Sinovac  20000 2021-03-06\n",
       "5  Pfizer/BioNTech  73710 2021-03-10"
      ]
     },
     "execution_count": 8,
     "metadata": {},
     "output_type": "execute_result"
    }
   ],
   "source": [
    "# Datos vacunas de fabricantes por fecha de llegada\n",
    "fab = pd.read_csv('./datos_crudos/vacunas/fabricantes.csv')\n",
    "fab['arrived_at'] = pd.to_datetime(fab['arrived_at'],format='%d/%m/%Y')\n",
    "fab = fab[(fab['arrived_at']>=inicio)&(fab['arrived_at']<=fin)]\n",
    "fab.head()"
   ]
  },
  {
   "cell_type": "code",
   "execution_count": 9,
   "id": "fb1c6d43",
   "metadata": {
    "execution": {
     "iopub.execute_input": "2021-05-09T23:38:00.875702Z",
     "iopub.status.busy": "2021-05-09T23:38:00.874718Z",
     "iopub.status.idle": "2021-05-09T23:38:00.877378Z",
     "shell.execute_reply": "2021-05-09T23:38:00.877844Z"
    },
    "papermill": {
     "duration": 0.036646,
     "end_time": "2021-05-09T23:38:00.878070",
     "exception": false,
     "start_time": "2021-05-09T23:38:00.841424",
     "status": "completed"
    },
    "tags": []
   },
   "outputs": [],
   "source": [
    "fabAgr = fab.groupby(['vaccine'], as_index=False)['total'].sum()"
   ]
  },
  {
   "cell_type": "code",
   "execution_count": 10,
   "id": "2cd5c468",
   "metadata": {
    "execution": {
     "iopub.execute_input": "2021-05-09T23:38:00.970525Z",
     "iopub.status.busy": "2021-05-09T23:38:00.969868Z",
     "iopub.status.idle": "2021-05-09T23:38:01.081895Z",
     "shell.execute_reply": "2021-05-09T23:38:01.082397Z"
    },
    "papermill": {
     "duration": 0.176512,
     "end_time": "2021-05-09T23:38:01.082625",
     "exception": false,
     "start_time": "2021-05-09T23:38:00.906113",
     "status": "completed"
    },
    "tags": []
   },
   "outputs": [
    {
     "data": {
      "image/png": "[encoded data removed]",
      "text/plain": [
       "<Figure size 864x432 with 1 Axes>"
      ]
     },
     "metadata": {},
     "output_type": "display_data"
    }
   ],
   "source": [
    "# Pie chart: Fabricantes Total\n",
    "fig, ax = plt.subplots(figsize=(12, 6), subplot_kw=dict(aspect=\"equal\"))\n",
    "\n",
    "def func(pct, allvals):\n",
    "    absolute = int(round(pct/100.*np.sum(allvals)))\n",
    "    return \"{:.1f}%\\n({:d})\".format(pct, absolute)\n",
    "\n",
    "wedges, texts, autotexts = ax.pie(fabAgr['total'], autopct=lambda pct: func(pct, fabAgr['total']),\n",
    "                                  textprops=dict(color=\"w\"))\n",
    "\n",
    "ax.legend(wedges, fabAgr['vaccine'],\n",
    "          title=\"Fabricante\",\n",
    "          loc=\"center left\",\n",
    "          bbox_to_anchor=(1, 0, 0.5, 1))\n",
    "\n",
    "plt.setp(autotexts, size=8, weight=\"bold\")\n",
    "ax.set_title(\"Vacunas totales por fabricante\")\n",
    "plt.show()"
   ]
  },
  {
   "cell_type": "markdown",
   "id": "70f2105c",
   "metadata": {
    "papermill": {
     "duration": 0.02759,
     "end_time": "2021-05-09T23:38:01.138260",
     "exception": false,
     "start_time": "2021-05-09T23:38:01.110670",
     "status": "completed"
    },
    "tags": []
   },
   "source": [
    "## Vacunas: Mes de llegada y fabricante"
   ]
  },
  {
   "cell_type": "code",
   "execution_count": 11,
   "id": "128bc51d",
   "metadata": {
    "execution": {
     "iopub.execute_input": "2021-05-09T23:38:01.212732Z",
     "iopub.status.busy": "2021-05-09T23:38:01.205935Z",
     "iopub.status.idle": "2021-05-09T23:38:01.215845Z",
     "shell.execute_reply": "2021-05-09T23:38:01.216281Z"
    },
    "papermill": {
     "duration": 0.048733,
     "end_time": "2021-05-09T23:38:01.216477",
     "exception": false,
     "start_time": "2021-05-09T23:38:01.167744",
     "status": "completed"
    },
    "tags": []
   },
   "outputs": [
    {
     "data": {
      "text/html": [
       "<div>\n",
       "<style scoped>\n",
       "    .dataframe tbody tr th:only-of-type {\n",
       "        vertical-align: middle;\n",
       "    }\n",
       "\n",
       "    .dataframe tbody tr th {\n",
       "        vertical-align: top;\n",
       "    }\n",
       "\n",
       "    .dataframe thead th {\n",
       "        text-align: right;\n",
       "    }\n",
       "</style>\n",
       "<table border=\"1\" class=\"dataframe\">\n",
       "  <thead>\n",
       "    <tr style=\"text-align: right;\">\n",
       "      <th></th>\n",
       "      <th>vaccine</th>\n",
       "      <th>arrived_at</th>\n",
       "      <th>total</th>\n",
       "    </tr>\n",
       "  </thead>\n",
       "  <tbody>\n",
       "    <tr>\n",
       "      <th>0</th>\n",
       "      <td>Pfizer/BioNTech</td>\n",
       "      <td>2021-02</td>\n",
       "      <td>33930</td>\n",
       "    </tr>\n",
       "    <tr>\n",
       "      <th>1</th>\n",
       "      <td>Pfizer/BioNTech</td>\n",
       "      <td>2021-03</td>\n",
       "      <td>105300</td>\n",
       "    </tr>\n",
       "    <tr>\n",
       "      <th>2</th>\n",
       "      <td>Sinovac</td>\n",
       "      <td>2021-03</td>\n",
       "      <td>20000</td>\n",
       "    </tr>\n",
       "  </tbody>\n",
       "</table>\n",
       "</div>"
      ],
      "text/plain": [
       "           vaccine arrived_at   total\n",
       "0  Pfizer/BioNTech    2021-02   33930\n",
       "1  Pfizer/BioNTech    2021-03  105300\n",
       "2          Sinovac    2021-03   20000"
      ]
     },
     "execution_count": 11,
     "metadata": {},
     "output_type": "execute_result"
    }
   ],
   "source": [
    "fabAgrMonth = fab.copy()\n",
    "fabAgrMonth['arrived_at'] = fabAgrMonth['arrived_at'].astype(str).str.slice(0,7)\n",
    "fabAgrMonth = fabAgrMonth.groupby(['vaccine','arrived_at'], as_index=False)['total'].sum()\n",
    "fabAgrMonth.head()"
   ]
  },
  {
   "cell_type": "code",
   "execution_count": 12,
   "id": "9d1758d6",
   "metadata": {
    "execution": {
     "iopub.execute_input": "2021-05-09T23:38:01.314846Z",
     "iopub.status.busy": "2021-05-09T23:38:01.314174Z",
     "iopub.status.idle": "2021-05-09T23:38:01.483390Z",
     "shell.execute_reply": "2021-05-09T23:38:01.483998Z"
    },
    "papermill": {
     "duration": 0.237389,
     "end_time": "2021-05-09T23:38:01.484256",
     "exception": false,
     "start_time": "2021-05-09T23:38:01.246867",
     "status": "completed"
    },
    "tags": []
   },
   "outputs": [
    {
     "data": {
      "image/png": "[encoded data removed]",
      "text/plain": [
       "<Figure size 432x288 with 1 Axes>"
      ]
     },
     "metadata": {
      "needs_background": "light"
     },
     "output_type": "display_data"
    },
    {
     "data": {
      "image/png": "[encoded data removed]",
      "text/plain": [
       "<Figure size 432x288 with 1 Axes>"
      ]
     },
     "metadata": {
      "needs_background": "light"
     },
     "output_type": "display_data"
    }
   ],
   "source": [
    "for i in fabAgrMonth.groupby(['vaccine'], as_index=False).mean()['vaccine']:\n",
    "    fabGroupss = fabAgrMonth.loc[(fabAgrMonth['vaccine'] == i)]\n",
    "    plt.bar(np.arange(len(fabGroupss['arrived_at'])), fabGroupss['total'])\n",
    "    plt.xticks(np.arange(len(fabGroupss['arrived_at'])), fabGroupss['arrived_at'],rotation=60)\n",
    "    plt.title('Fabricante: ' + i)\n",
    "    plt.show()"
   ]
  },
  {
   "cell_type": "markdown",
   "id": "ac1fa301",
   "metadata": {
    "papermill": {
     "duration": 0.030128,
     "end_time": "2021-05-09T23:38:01.544583",
     "exception": false,
     "start_time": "2021-05-09T23:38:01.514455",
     "status": "completed"
    },
    "tags": []
   },
   "source": [
    "# Generar un modelo matemático de predicción basado en regresión, del procesos de vacunación en base al numero actual de vacunados (1 y 2 dosis) y a la llegada de nuevas vacunas."
   ]
  },
  {
   "cell_type": "code",
   "execution_count": 13,
   "id": "1e3f7b64",
   "metadata": {
    "execution": {
     "iopub.execute_input": "2021-05-09T23:38:01.612441Z",
     "iopub.status.busy": "2021-05-09T23:38:01.611711Z",
     "iopub.status.idle": "2021-05-09T23:38:01.624990Z",
     "shell.execute_reply": "2021-05-09T23:38:01.625448Z"
    },
    "papermill": {
     "duration": 0.050154,
     "end_time": "2021-05-09T23:38:01.625675",
     "exception": false,
     "start_time": "2021-05-09T23:38:01.575521",
     "status": "completed"
    },
    "tags": []
   },
   "outputs": [
    {
     "name": "stdout",
     "output_type": "stream",
     "text": [
      "Primera fecha valida en Ecuador  2021-01-21 00:00:00\n"
     ]
    },
    {
     "data": {
      "text/html": [
       "<div>\n",
       "<style scoped>\n",
       "    .dataframe tbody tr th:only-of-type {\n",
       "        vertical-align: middle;\n",
       "    }\n",
       "\n",
       "    .dataframe tbody tr th {\n",
       "        vertical-align: top;\n",
       "    }\n",
       "\n",
       "    .dataframe thead th {\n",
       "        text-align: right;\n",
       "    }\n",
       "</style>\n",
       "<table border=\"1\" class=\"dataframe\">\n",
       "  <thead>\n",
       "    <tr style=\"text-align: right;\">\n",
       "      <th></th>\n",
       "      <th>fecha</th>\n",
       "      <th>dosis_total</th>\n",
       "      <th>primera_dosis</th>\n",
       "      <th>segunda_dosis</th>\n",
       "    </tr>\n",
       "  </thead>\n",
       "  <tbody>\n",
       "    <tr>\n",
       "      <th>0</th>\n",
       "      <td>0</td>\n",
       "      <td>0</td>\n",
       "      <td>0</td>\n",
       "      <td>0</td>\n",
       "    </tr>\n",
       "    <tr>\n",
       "      <th>1</th>\n",
       "      <td>1</td>\n",
       "      <td>108</td>\n",
       "      <td>108</td>\n",
       "      <td>0</td>\n",
       "    </tr>\n",
       "    <tr>\n",
       "      <th>2</th>\n",
       "      <td>6</td>\n",
       "      <td>2982</td>\n",
       "      <td>2982</td>\n",
       "      <td>0</td>\n",
       "    </tr>\n",
       "    <tr>\n",
       "      <th>3</th>\n",
       "      <td>14</td>\n",
       "      <td>6228</td>\n",
       "      <td>6228</td>\n",
       "      <td>0</td>\n",
       "    </tr>\n",
       "    <tr>\n",
       "      <th>4</th>\n",
       "      <td>27</td>\n",
       "      <td>8190</td>\n",
       "      <td>6228</td>\n",
       "      <td>1962</td>\n",
       "    </tr>\n",
       "  </tbody>\n",
       "</table>\n",
       "</div>"
      ],
      "text/plain": [
       "   fecha  dosis_total  primera_dosis  segunda_dosis\n",
       "0      0            0              0              0\n",
       "1      1          108            108              0\n",
       "2      6         2982           2982              0\n",
       "3     14         6228           6228              0\n",
       "4     27         8190           6228           1962"
      ]
     },
     "execution_count": 13,
     "metadata": {},
     "output_type": "execute_result"
    }
   ],
   "source": [
    "totalVacunados = pd.read_csv('./datos_crudos/vacunas/vacunas.csv')\n",
    "totalVacunados['fecha'] = pd.to_datetime(totalVacunados['fecha'],format='%d/%m/%Y')\n",
    "primeraFechaValida = totalVacunados['fecha'].iloc[0]\n",
    "\n",
    "print('Primera fecha valida en Ecuador ', primeraFechaValida)\n",
    "\n",
    "# Expresar las fechas en numero de dias\n",
    "FMT = '%d/%m/%Y'\n",
    "date = totalVacunados['fecha']\n",
    "totalVacunados['fecha'] = date.map(lambda x : (x - primeraFechaValida).days)\n",
    "\n",
    "totalVacunados.head()"
   ]
  },
  {
   "cell_type": "markdown",
   "id": "1661d0cb",
   "metadata": {
    "papermill": {
     "duration": 0.031458,
     "end_time": "2021-05-09T23:38:01.689085",
     "exception": false,
     "start_time": "2021-05-09T23:38:01.657627",
     "status": "completed"
    },
    "tags": []
   },
   "source": [
    "### 1ra Dosis"
   ]
  },
  {
   "cell_type": "code",
   "execution_count": 14,
   "id": "48b23cc5",
   "metadata": {
    "execution": {
     "iopub.execute_input": "2021-05-09T23:38:01.761509Z",
     "iopub.status.busy": "2021-05-09T23:38:01.760721Z",
     "iopub.status.idle": "2021-05-09T23:38:01.762825Z",
     "shell.execute_reply": "2021-05-09T23:38:01.763284Z"
    },
    "papermill": {
     "duration": 0.038294,
     "end_time": "2021-05-09T23:38:01.763509",
     "exception": false,
     "start_time": "2021-05-09T23:38:01.725215",
     "status": "completed"
    },
    "tags": []
   },
   "outputs": [],
   "source": [
    "x1 = totalVacunados['fecha'].values.reshape(-1,1)\n",
    "y1 = totalVacunados['primera_dosis'].values.reshape(-1,1)\n",
    "X_train, X_test, y_train, y_test = train_test_split(x1, y1, test_size=0.2, random_state=0)"
   ]
  },
  {
   "cell_type": "markdown",
   "id": "ac8f9e08",
   "metadata": {
    "papermill": {
     "duration": 0.029958,
     "end_time": "2021-05-09T23:38:01.825062",
     "exception": false,
     "start_time": "2021-05-09T23:38:01.795104",
     "status": "completed"
    },
    "tags": []
   },
   "source": [
    "Regresion Lineal"
   ]
  },
  {
   "cell_type": "code",
   "execution_count": 15,
   "id": "0529570d",
   "metadata": {
    "execution": {
     "iopub.execute_input": "2021-05-09T23:38:01.892044Z",
     "iopub.status.busy": "2021-05-09T23:38:01.891390Z",
     "iopub.status.idle": "2021-05-09T23:38:01.895740Z",
     "shell.execute_reply": "2021-05-09T23:38:01.896235Z"
    },
    "papermill": {
     "duration": 0.041694,
     "end_time": "2021-05-09T23:38:01.896477",
     "exception": false,
     "start_time": "2021-05-09T23:38:01.854783",
     "status": "completed"
    },
    "tags": []
   },
   "outputs": [
    {
     "data": {
      "text/plain": [
       "LinearRegression()"
      ]
     },
     "execution_count": 15,
     "metadata": {},
     "output_type": "execute_result"
    }
   ],
   "source": [
    "# Creamos el objeto de Regresión Lineal\n",
    "regr = linear_model.LinearRegression()\n",
    " \n",
    "# Entrenamos nuestro modelo\n",
    "regr.fit(np.array(x1).reshape(-1, 1) ,y1)"
   ]
  },
  {
   "cell_type": "code",
   "execution_count": 16,
   "id": "68a6e883",
   "metadata": {
    "execution": {
     "iopub.execute_input": "2021-05-09T23:38:01.967452Z",
     "iopub.status.busy": "2021-05-09T23:38:01.966555Z",
     "iopub.status.idle": "2021-05-09T23:38:01.969668Z",
     "shell.execute_reply": "2021-05-09T23:38:01.970143Z"
    },
    "papermill": {
     "duration": 0.042264,
     "end_time": "2021-05-09T23:38:01.970365",
     "exception": false,
     "start_time": "2021-05-09T23:38:01.928101",
     "status": "completed"
    },
    "tags": []
   },
   "outputs": [
    {
     "data": {
      "text/html": [
       "<div>\n",
       "<style scoped>\n",
       "    .dataframe tbody tr th:only-of-type {\n",
       "        vertical-align: middle;\n",
       "    }\n",
       "\n",
       "    .dataframe tbody tr th {\n",
       "        vertical-align: top;\n",
       "    }\n",
       "\n",
       "    .dataframe thead th {\n",
       "        text-align: right;\n",
       "    }\n",
       "</style>\n",
       "<table border=\"1\" class=\"dataframe\">\n",
       "  <thead>\n",
       "    <tr style=\"text-align: right;\">\n",
       "      <th></th>\n",
       "      <th>Real</th>\n",
       "      <th>Predicción Lineal</th>\n",
       "    </tr>\n",
       "  </thead>\n",
       "  <tbody>\n",
       "    <tr>\n",
       "      <th>0</th>\n",
       "      <td>377199</td>\n",
       "      <td>469326.889307</td>\n",
       "    </tr>\n",
       "    <tr>\n",
       "      <th>1</th>\n",
       "      <td>6228</td>\n",
       "      <td>-27371.467857</td>\n",
       "    </tr>\n",
       "    <tr>\n",
       "      <th>2</th>\n",
       "      <td>338180</td>\n",
       "      <td>444071.040638</td>\n",
       "    </tr>\n",
       "    <tr>\n",
       "      <th>3</th>\n",
       "      <td>384093</td>\n",
       "      <td>477745.505530</td>\n",
       "    </tr>\n",
       "    <tr>\n",
       "      <th>4</th>\n",
       "      <td>421937</td>\n",
       "      <td>494582.737976</td>\n",
       "    </tr>\n",
       "  </tbody>\n",
       "</table>\n",
       "</div>"
      ],
      "text/plain": [
       "     Real  Predicción Lineal\n",
       "0  377199      469326.889307\n",
       "1    6228      -27371.467857\n",
       "2  338180      444071.040638\n",
       "3  384093      477745.505530\n",
       "4  421937      494582.737976"
      ]
     },
     "execution_count": 16,
     "metadata": {},
     "output_type": "execute_result"
    }
   ],
   "source": [
    "#Vamos a comprobar:\n",
    "predLi = regr.predict(X_test)\n",
    "pd.DataFrame({'Real': y_test.flatten(), 'Predicción Lineal': predLi.flatten()}).head()"
   ]
  },
  {
   "cell_type": "code",
   "execution_count": 17,
   "id": "5b11f741",
   "metadata": {
    "execution": {
     "iopub.execute_input": "2021-05-09T23:38:02.087115Z",
     "iopub.status.busy": "2021-05-09T23:38:02.086460Z",
     "iopub.status.idle": "2021-05-09T23:38:02.240181Z",
     "shell.execute_reply": "2021-05-09T23:38:02.240638Z"
    },
    "papermill": {
     "duration": 0.239348,
     "end_time": "2021-05-09T23:38:02.240862",
     "exception": false,
     "start_time": "2021-05-09T23:38:02.001514",
     "status": "completed"
    },
    "tags": []
   },
   "outputs": [
    {
     "data": {
      "image/png": "[encoded data removed]",
      "text/plain": [
       "<Figure size 1080x504 with 1 Axes>"
      ]
     },
     "metadata": {
      "needs_background": "light"
     },
     "output_type": "display_data"
    }
   ],
   "source": [
    "#Graficar\n",
    "plt.figure(figsize = (15,7))\n",
    "plt.plot(x1, y1, '-', label ='Real')\n",
    "plt.plot(x1, regr.predict(x1),  '-', label = 'Predicción', linewidth = 2, color='r')\n",
    "plt.title('Linear Regression - 1ra Dosis')\n",
    "plt.xlabel('Fecha en días')\n",
    "plt.ylabel('# Vacunados')\n",
    "plt.legend()\n",
    "plt.show()"
   ]
  },
  {
   "cell_type": "markdown",
   "id": "db837108",
   "metadata": {
    "papermill": {
     "duration": 0.031366,
     "end_time": "2021-05-09T23:38:02.304027",
     "exception": false,
     "start_time": "2021-05-09T23:38:02.272661",
     "status": "completed"
    },
    "tags": []
   },
   "source": [
    "Random Forest Regression"
   ]
  },
  {
   "cell_type": "code",
   "execution_count": 18,
   "id": "62d7185a",
   "metadata": {
    "execution": {
     "iopub.execute_input": "2021-05-09T23:38:02.380218Z",
     "iopub.status.busy": "2021-05-09T23:38:02.379536Z",
     "iopub.status.idle": "2021-05-09T23:38:02.397064Z",
     "shell.execute_reply": "2021-05-09T23:38:02.397555Z"
    },
    "papermill": {
     "duration": 0.062084,
     "end_time": "2021-05-09T23:38:02.397785",
     "exception": false,
     "start_time": "2021-05-09T23:38:02.335701",
     "status": "completed"
    },
    "tags": []
   },
   "outputs": [
    {
     "data": {
      "text/html": [
       "<div>\n",
       "<style scoped>\n",
       "    .dataframe tbody tr th:only-of-type {\n",
       "        vertical-align: middle;\n",
       "    }\n",
       "\n",
       "    .dataframe tbody tr th {\n",
       "        vertical-align: top;\n",
       "    }\n",
       "\n",
       "    .dataframe thead th {\n",
       "        text-align: right;\n",
       "    }\n",
       "</style>\n",
       "<table border=\"1\" class=\"dataframe\">\n",
       "  <thead>\n",
       "    <tr style=\"text-align: right;\">\n",
       "      <th></th>\n",
       "      <th>Real</th>\n",
       "      <th>Predicción RF</th>\n",
       "    </tr>\n",
       "  </thead>\n",
       "  <tbody>\n",
       "    <tr>\n",
       "      <th>0</th>\n",
       "      <td>377199</td>\n",
       "      <td>357220.3</td>\n",
       "    </tr>\n",
       "    <tr>\n",
       "      <th>1</th>\n",
       "      <td>6228</td>\n",
       "      <td>27149.4</td>\n",
       "    </tr>\n",
       "    <tr>\n",
       "      <th>2</th>\n",
       "      <td>338180</td>\n",
       "      <td>349300.8</td>\n",
       "    </tr>\n",
       "    <tr>\n",
       "      <th>3</th>\n",
       "      <td>384093</td>\n",
       "      <td>392300.6</td>\n",
       "    </tr>\n",
       "    <tr>\n",
       "      <th>4</th>\n",
       "      <td>421937</td>\n",
       "      <td>412977.4</td>\n",
       "    </tr>\n",
       "  </tbody>\n",
       "</table>\n",
       "</div>"
      ],
      "text/plain": [
       "     Real  Predicción RF\n",
       "0  377199       357220.3\n",
       "1    6228        27149.4\n",
       "2  338180       349300.8\n",
       "3  384093       392300.6\n",
       "4  421937       412977.4"
      ]
     },
     "execution_count": 18,
     "metadata": {},
     "output_type": "execute_result"
    }
   ],
   "source": [
    "RF1 = RandomForestRegressor(n_estimators=10, random_state=0)\n",
    "RF1.fit(X_train, y_train.ravel())\n",
    "\n",
    "predRF1 = RF1.predict(X_test)\n",
    "pd.DataFrame({'Real': y_test.flatten(), 'Predicción RF': predRF1.flatten()}).head()"
   ]
  },
  {
   "cell_type": "code",
   "execution_count": 19,
   "id": "9fcead3d",
   "metadata": {
    "execution": {
     "iopub.execute_input": "2021-05-09T23:38:02.507037Z",
     "iopub.status.busy": "2021-05-09T23:38:02.506372Z",
     "iopub.status.idle": "2021-05-09T23:38:02.657366Z",
     "shell.execute_reply": "2021-05-09T23:38:02.657856Z"
    },
    "papermill": {
     "duration": 0.228633,
     "end_time": "2021-05-09T23:38:02.658140",
     "exception": false,
     "start_time": "2021-05-09T23:38:02.429507",
     "status": "completed"
    },
    "tags": []
   },
   "outputs": [
    {
     "data": {
      "image/png": "[encoded data removed]",
      "text/plain": [
       "<Figure size 1080x504 with 1 Axes>"
      ]
     },
     "metadata": {
      "needs_background": "light"
     },
     "output_type": "display_data"
    }
   ],
   "source": [
    "plt.figure(figsize = (15,7))\n",
    "plt.plot(x1, y1, '-', label ='Real')\n",
    "plt.plot(x1, RF1.predict(x1),  '-', label = 'Predicción', linewidth = 2, color='r')\n",
    "plt.title('Random Forest Regression - 1ra Dosis')\n",
    "plt.xlabel('Fecha en días')\n",
    "plt.ylabel('# Vacunados')\n",
    "plt.legend()\n",
    "plt.show()"
   ]
  },
  {
   "cell_type": "markdown",
   "id": "24edf364",
   "metadata": {
    "papermill": {
     "duration": 0.033884,
     "end_time": "2021-05-09T23:38:02.727123",
     "exception": false,
     "start_time": "2021-05-09T23:38:02.693239",
     "status": "completed"
    },
    "tags": []
   },
   "source": [
    "### 2da Dosis"
   ]
  },
  {
   "cell_type": "code",
   "execution_count": 20,
   "id": "fadd59c9",
   "metadata": {
    "execution": {
     "iopub.execute_input": "2021-05-09T23:38:02.800681Z",
     "iopub.status.busy": "2021-05-09T23:38:02.800016Z",
     "iopub.status.idle": "2021-05-09T23:38:02.802461Z",
     "shell.execute_reply": "2021-05-09T23:38:02.802941Z"
    },
    "papermill": {
     "duration": 0.041266,
     "end_time": "2021-05-09T23:38:02.803165",
     "exception": false,
     "start_time": "2021-05-09T23:38:02.761899",
     "status": "completed"
    },
    "tags": []
   },
   "outputs": [],
   "source": [
    "x2 = totalVacunados['fecha'].values.reshape(-1,1)\n",
    "y2 = totalVacunados['segunda_dosis'].values.reshape(-1,1)\n",
    "X2_train, X2_test, y2_train, y2_test = train_test_split(x2, y2, test_size=0.2, random_state=0)"
   ]
  },
  {
   "cell_type": "markdown",
   "id": "705dad30",
   "metadata": {
    "papermill": {
     "duration": 0.032799,
     "end_time": "2021-05-09T23:38:02.868980",
     "exception": false,
     "start_time": "2021-05-09T23:38:02.836181",
     "status": "completed"
    },
    "tags": []
   },
   "source": [
    "Regresion Lineal"
   ]
  },
  {
   "cell_type": "code",
   "execution_count": 21,
   "id": "3a43cb17",
   "metadata": {
    "execution": {
     "iopub.execute_input": "2021-05-09T23:38:02.944002Z",
     "iopub.status.busy": "2021-05-09T23:38:02.943248Z",
     "iopub.status.idle": "2021-05-09T23:38:02.945898Z",
     "shell.execute_reply": "2021-05-09T23:38:02.946423Z"
    },
    "papermill": {
     "duration": 0.043561,
     "end_time": "2021-05-09T23:38:02.946651",
     "exception": false,
     "start_time": "2021-05-09T23:38:02.903090",
     "status": "completed"
    },
    "tags": []
   },
   "outputs": [
    {
     "data": {
      "text/plain": [
       "LinearRegression()"
      ]
     },
     "execution_count": 21,
     "metadata": {},
     "output_type": "execute_result"
    }
   ],
   "source": [
    "# Creamos el objeto de Regresión Lineal\n",
    "regr = linear_model.LinearRegression()\n",
    " \n",
    "# Entrenamos nuestro modelo\n",
    "regr.fit(np.array(x2).reshape(-1, 1) ,y2)"
   ]
  },
  {
   "cell_type": "code",
   "execution_count": 22,
   "id": "63fb772c",
   "metadata": {
    "execution": {
     "iopub.execute_input": "2021-05-09T23:38:03.030300Z",
     "iopub.status.busy": "2021-05-09T23:38:03.028964Z",
     "iopub.status.idle": "2021-05-09T23:38:03.032782Z",
     "shell.execute_reply": "2021-05-09T23:38:03.033307Z"
    },
    "papermill": {
     "duration": 0.053683,
     "end_time": "2021-05-09T23:38:03.033538",
     "exception": false,
     "start_time": "2021-05-09T23:38:02.979855",
     "status": "completed"
    },
    "tags": []
   },
   "outputs": [
    {
     "data": {
      "text/html": [
       "<div>\n",
       "<style scoped>\n",
       "    .dataframe tbody tr th:only-of-type {\n",
       "        vertical-align: middle;\n",
       "    }\n",
       "\n",
       "    .dataframe tbody tr th {\n",
       "        vertical-align: top;\n",
       "    }\n",
       "\n",
       "    .dataframe thead th {\n",
       "        text-align: right;\n",
       "    }\n",
       "</style>\n",
       "<table border=\"1\" class=\"dataframe\">\n",
       "  <thead>\n",
       "    <tr style=\"text-align: right;\">\n",
       "      <th></th>\n",
       "      <th>Real</th>\n",
       "      <th>Predicción Lineal</th>\n",
       "    </tr>\n",
       "  </thead>\n",
       "  <tbody>\n",
       "    <tr>\n",
       "      <th>0</th>\n",
       "      <td>167933</td>\n",
       "      <td>163274.872070</td>\n",
       "    </tr>\n",
       "    <tr>\n",
       "      <th>1</th>\n",
       "      <td>1962</td>\n",
       "      <td>-12739.479214</td>\n",
       "    </tr>\n",
       "    <tr>\n",
       "      <th>2</th>\n",
       "      <td>142782</td>\n",
       "      <td>154324.989801</td>\n",
       "    </tr>\n",
       "    <tr>\n",
       "      <th>3</th>\n",
       "      <td>170276</td>\n",
       "      <td>166258.166159</td>\n",
       "    </tr>\n",
       "    <tr>\n",
       "      <th>4</th>\n",
       "      <td>179292</td>\n",
       "      <td>172224.754338</td>\n",
       "    </tr>\n",
       "  </tbody>\n",
       "</table>\n",
       "</div>"
      ],
      "text/plain": [
       "     Real  Predicción Lineal\n",
       "0  167933      163274.872070\n",
       "1    1962      -12739.479214\n",
       "2  142782      154324.989801\n",
       "3  170276      166258.166159\n",
       "4  179292      172224.754338"
      ]
     },
     "execution_count": 22,
     "metadata": {},
     "output_type": "execute_result"
    }
   ],
   "source": [
    "#Vamos a comprobar:\n",
    "predLi = regr.predict(X2_test)\n",
    "pd.DataFrame({'Real': y2_test.flatten(), 'Predicción Lineal': predLi.flatten()}).head()"
   ]
  },
  {
   "cell_type": "code",
   "execution_count": 23,
   "id": "f5dc40a7",
   "metadata": {
    "execution": {
     "iopub.execute_input": "2021-05-09T23:38:03.211174Z",
     "iopub.status.busy": "2021-05-09T23:38:03.210052Z",
     "iopub.status.idle": "2021-05-09T23:38:03.361215Z",
     "shell.execute_reply": "2021-05-09T23:38:03.362046Z"
    },
    "papermill": {
     "duration": 0.293517,
     "end_time": "2021-05-09T23:38:03.362354",
     "exception": false,
     "start_time": "2021-05-09T23:38:03.068837",
     "status": "completed"
    },
    "tags": []
   },
   "outputs": [
    {
     "data": {
      "image/png": "[encoded data removed]",
      "text/plain": [
       "<Figure size 1080x504 with 1 Axes>"
      ]
     },
     "metadata": {
      "needs_background": "light"
     },
     "output_type": "display_data"
    }
   ],
   "source": [
    "#Graficar\n",
    "plt.figure(figsize = (15,7))\n",
    "plt.plot(x2, y2, '-', label ='Real')\n",
    "plt.plot(x2, regr.predict(x2),  '-', label = 'Predicción', linewidth = 2, color='r')\n",
    "plt.title('Linear Regression - 2da Dosis')\n",
    "plt.xlabel('Fecha en días')\n",
    "plt.ylabel('# Vacunados')\n",
    "plt.legend()\n",
    "plt.show()"
   ]
  },
  {
   "cell_type": "markdown",
   "id": "4d8801f8",
   "metadata": {
    "papermill": {
     "duration": 0.036488,
     "end_time": "2021-05-09T23:38:03.432725",
     "exception": false,
     "start_time": "2021-05-09T23:38:03.396237",
     "status": "completed"
    },
    "tags": []
   },
   "source": [
    "Random Forest Regression"
   ]
  },
  {
   "cell_type": "code",
   "execution_count": 24,
   "id": "69aae656",
   "metadata": {
    "execution": {
     "iopub.execute_input": "2021-05-09T23:38:03.513251Z",
     "iopub.status.busy": "2021-05-09T23:38:03.507416Z",
     "iopub.status.idle": "2021-05-09T23:38:03.530107Z",
     "shell.execute_reply": "2021-05-09T23:38:03.530613Z"
    },
    "papermill": {
     "duration": 0.062153,
     "end_time": "2021-05-09T23:38:03.530848",
     "exception": false,
     "start_time": "2021-05-09T23:38:03.468695",
     "status": "completed"
    },
    "tags": []
   },
   "outputs": [
    {
     "data": {
      "text/html": [
       "<div>\n",
       "<style scoped>\n",
       "    .dataframe tbody tr th:only-of-type {\n",
       "        vertical-align: middle;\n",
       "    }\n",
       "\n",
       "    .dataframe tbody tr th {\n",
       "        vertical-align: top;\n",
       "    }\n",
       "\n",
       "    .dataframe thead th {\n",
       "        text-align: right;\n",
       "    }\n",
       "</style>\n",
       "<table border=\"1\" class=\"dataframe\">\n",
       "  <thead>\n",
       "    <tr style=\"text-align: right;\">\n",
       "      <th></th>\n",
       "      <th>Real</th>\n",
       "      <th>Predicción RF</th>\n",
       "    </tr>\n",
       "  </thead>\n",
       "  <tbody>\n",
       "    <tr>\n",
       "      <th>0</th>\n",
       "      <td>167933</td>\n",
       "      <td>160384.8</td>\n",
       "    </tr>\n",
       "    <tr>\n",
       "      <th>1</th>\n",
       "      <td>1962</td>\n",
       "      <td>3974.4</td>\n",
       "    </tr>\n",
       "    <tr>\n",
       "      <th>2</th>\n",
       "      <td>142782</td>\n",
       "      <td>153794.8</td>\n",
       "    </tr>\n",
       "    <tr>\n",
       "      <th>3</th>\n",
       "      <td>170276</td>\n",
       "      <td>172698.4</td>\n",
       "    </tr>\n",
       "    <tr>\n",
       "      <th>4</th>\n",
       "      <td>179292</td>\n",
       "      <td>177931.8</td>\n",
       "    </tr>\n",
       "  </tbody>\n",
       "</table>\n",
       "</div>"
      ],
      "text/plain": [
       "     Real  Predicción RF\n",
       "0  167933       160384.8\n",
       "1    1962         3974.4\n",
       "2  142782       153794.8\n",
       "3  170276       172698.4\n",
       "4  179292       177931.8"
      ]
     },
     "execution_count": 24,
     "metadata": {},
     "output_type": "execute_result"
    }
   ],
   "source": [
    "RF2 = RandomForestRegressor(n_estimators=10, random_state=0)\n",
    "RF2.fit(X2_train, y2_train.ravel())\n",
    "\n",
    "predRF2 = RF2.predict(X2_test)\n",
    "pd.DataFrame({'Real': y2_test.flatten(), 'Predicción RF': predRF2.flatten()}).head()"
   ]
  },
  {
   "cell_type": "code",
   "execution_count": 25,
   "id": "35c63f44",
   "metadata": {
    "execution": {
     "iopub.execute_input": "2021-05-09T23:38:03.678569Z",
     "iopub.status.busy": "2021-05-09T23:38:03.656555Z",
     "iopub.status.idle": "2021-05-09T23:38:03.827404Z",
     "shell.execute_reply": "2021-05-09T23:38:03.827879Z"
    },
    "papermill": {
     "duration": 0.231737,
     "end_time": "2021-05-09T23:38:03.828111",
     "exception": false,
     "start_time": "2021-05-09T23:38:03.596374",
     "status": "completed"
    },
    "tags": []
   },
   "outputs": [
    {
     "data": {
      "image/png": "[encoded data removed]",
      "text/plain": [
       "<Figure size 1080x504 with 1 Axes>"
      ]
     },
     "metadata": {
      "needs_background": "light"
     },
     "output_type": "display_data"
    }
   ],
   "source": [
    "plt.figure(figsize = (15,7))\n",
    "plt.plot(x2, y2, '-', label ='Real')\n",
    "plt.plot(x2, RF2.predict(x2),  '-', label = 'Predicción', linewidth = 2, color='r')\n",
    "plt.title('Random Forest Regression - 2da Dosis')\n",
    "plt.xlabel('Fecha en días')\n",
    "plt.ylabel('# Vacunados')\n",
    "plt.legend()\n",
    "plt.show()"
   ]
  },
  {
   "cell_type": "markdown",
   "id": "9318e0de",
   "metadata": {
    "papermill": {
     "duration": 0.036387,
     "end_time": "2021-05-09T23:38:03.899541",
     "exception": false,
     "start_time": "2021-05-09T23:38:03.863154",
     "status": "completed"
    },
    "tags": []
   },
   "source": [
    "Podemos notar que el modelo de Random Forest Regression, es mas preciso por ese motivo las siguientes comparaciones las realizaremos con ese modelo."
   ]
  },
  {
   "cell_type": "markdown",
   "id": "c470076e",
   "metadata": {
    "papermill": {
     "duration": 0.035969,
     "end_time": "2021-05-09T23:38:03.972192",
     "exception": false,
     "start_time": "2021-05-09T23:38:03.936223",
     "status": "completed"
    },
    "tags": []
   },
   "source": [
    "# Desarrollar y generar un proceso de comparación con al menos dos países (1. Latinoamérica, 1. Europa)."
   ]
  },
  {
   "cell_type": "markdown",
   "id": "32cd3996",
   "metadata": {
    "papermill": {
     "duration": 0.041135,
     "end_time": "2021-05-09T23:38:04.050796",
     "exception": false,
     "start_time": "2021-05-09T23:38:04.009661",
     "status": "completed"
    },
    "tags": []
   },
   "source": [
    "### Perú"
   ]
  },
  {
   "cell_type": "code",
   "execution_count": 26,
   "id": "9ac4ff56",
   "metadata": {
    "execution": {
     "iopub.execute_input": "2021-05-09T23:38:04.129364Z",
     "iopub.status.busy": "2021-05-09T23:38:04.128657Z",
     "iopub.status.idle": "2021-05-09T23:38:04.143688Z",
     "shell.execute_reply": "2021-05-09T23:38:04.144162Z"
    },
    "papermill": {
     "duration": 0.056334,
     "end_time": "2021-05-09T23:38:04.144399",
     "exception": false,
     "start_time": "2021-05-09T23:38:04.088065",
     "status": "completed"
    },
    "scrolled": true,
    "tags": []
   },
   "outputs": [
    {
     "data": {
      "text/html": [
       "<div>\n",
       "<style scoped>\n",
       "    .dataframe tbody tr th:only-of-type {\n",
       "        vertical-align: middle;\n",
       "    }\n",
       "\n",
       "    .dataframe tbody tr th {\n",
       "        vertical-align: top;\n",
       "    }\n",
       "\n",
       "    .dataframe thead th {\n",
       "        text-align: right;\n",
       "    }\n",
       "</style>\n",
       "<table border=\"1\" class=\"dataframe\">\n",
       "  <thead>\n",
       "    <tr style=\"text-align: right;\">\n",
       "      <th></th>\n",
       "      <th>location</th>\n",
       "      <th>date</th>\n",
       "      <th>vaccine</th>\n",
       "      <th>source_url</th>\n",
       "      <th>total_vaccinations</th>\n",
       "      <th>people_vaccinated</th>\n",
       "      <th>people_fully_vaccinated</th>\n",
       "    </tr>\n",
       "  </thead>\n",
       "  <tbody>\n",
       "    <tr>\n",
       "      <th>0</th>\n",
       "      <td>Peru</td>\n",
       "      <td>19</td>\n",
       "      <td>Oxford/AstraZeneca, Pfizer/BioNTech, Sinopharm...</td>\n",
       "      <td>https://www.datosabiertos.gob.pe/dataset/vacun...</td>\n",
       "      <td>3842</td>\n",
       "      <td>3842</td>\n",
       "      <td>0</td>\n",
       "    </tr>\n",
       "    <tr>\n",
       "      <th>1</th>\n",
       "      <td>Peru</td>\n",
       "      <td>20</td>\n",
       "      <td>Oxford/AstraZeneca, Pfizer/BioNTech, Sinopharm...</td>\n",
       "      <td>https://www.datosabiertos.gob.pe/dataset/vacun...</td>\n",
       "      <td>20431</td>\n",
       "      <td>20431</td>\n",
       "      <td>0</td>\n",
       "    </tr>\n",
       "    <tr>\n",
       "      <th>2</th>\n",
       "      <td>Peru</td>\n",
       "      <td>21</td>\n",
       "      <td>Oxford/AstraZeneca, Pfizer/BioNTech, Sinopharm...</td>\n",
       "      <td>https://www.datosabiertos.gob.pe/dataset/vacun...</td>\n",
       "      <td>54281</td>\n",
       "      <td>54281</td>\n",
       "      <td>0</td>\n",
       "    </tr>\n",
       "    <tr>\n",
       "      <th>3</th>\n",
       "      <td>Peru</td>\n",
       "      <td>22</td>\n",
       "      <td>Oxford/AstraZeneca, Pfizer/BioNTech, Sinopharm...</td>\n",
       "      <td>https://www.datosabiertos.gob.pe/dataset/vacun...</td>\n",
       "      <td>86629</td>\n",
       "      <td>86629</td>\n",
       "      <td>0</td>\n",
       "    </tr>\n",
       "    <tr>\n",
       "      <th>4</th>\n",
       "      <td>Peru</td>\n",
       "      <td>23</td>\n",
       "      <td>Oxford/AstraZeneca, Pfizer/BioNTech, Sinopharm...</td>\n",
       "      <td>https://www.datosabiertos.gob.pe/dataset/vacun...</td>\n",
       "      <td>105532</td>\n",
       "      <td>105532</td>\n",
       "      <td>0</td>\n",
       "    </tr>\n",
       "  </tbody>\n",
       "</table>\n",
       "</div>"
      ],
      "text/plain": [
       "  location  date                                            vaccine  \\\n",
       "0     Peru    19  Oxford/AstraZeneca, Pfizer/BioNTech, Sinopharm...   \n",
       "1     Peru    20  Oxford/AstraZeneca, Pfizer/BioNTech, Sinopharm...   \n",
       "2     Peru    21  Oxford/AstraZeneca, Pfizer/BioNTech, Sinopharm...   \n",
       "3     Peru    22  Oxford/AstraZeneca, Pfizer/BioNTech, Sinopharm...   \n",
       "4     Peru    23  Oxford/AstraZeneca, Pfizer/BioNTech, Sinopharm...   \n",
       "\n",
       "                                          source_url  total_vaccinations  \\\n",
       "0  https://www.datosabiertos.gob.pe/dataset/vacun...                3842   \n",
       "1  https://www.datosabiertos.gob.pe/dataset/vacun...               20431   \n",
       "2  https://www.datosabiertos.gob.pe/dataset/vacun...               54281   \n",
       "3  https://www.datosabiertos.gob.pe/dataset/vacun...               86629   \n",
       "4  https://www.datosabiertos.gob.pe/dataset/vacun...              105532   \n",
       "\n",
       "   people_vaccinated  people_fully_vaccinated  \n",
       "0               3842                        0  \n",
       "1              20431                        0  \n",
       "2              54281                        0  \n",
       "3              86629                        0  \n",
       "4             105532                        0  "
      ]
     },
     "execution_count": 26,
     "metadata": {},
     "output_type": "execute_result"
    }
   ],
   "source": [
    "peru = pd.read_csv('./Peru.csv')\n",
    "peru['date'] = pd.to_datetime(peru['date'],format='%Y-%m-%d')\n",
    "\n",
    "# Expresar las fechas en numero de dias\n",
    "date = peru['date']\n",
    "peru['date'] = date.map(lambda x : (x - primeraFechaValida).days)\n",
    "\n",
    "peru.head()"
   ]
  },
  {
   "cell_type": "markdown",
   "id": "0798311b",
   "metadata": {
    "papermill": {
     "duration": 0.037744,
     "end_time": "2021-05-09T23:38:04.218367",
     "exception": false,
     "start_time": "2021-05-09T23:38:04.180623",
     "status": "completed"
    },
    "tags": []
   },
   "source": [
    "#### Primera Dosis"
   ]
  },
  {
   "cell_type": "code",
   "execution_count": 27,
   "id": "a0472095",
   "metadata": {
    "execution": {
     "iopub.execute_input": "2021-05-09T23:38:04.302889Z",
     "iopub.status.busy": "2021-05-09T23:38:04.298221Z",
     "iopub.status.idle": "2021-05-09T23:38:04.319371Z",
     "shell.execute_reply": "2021-05-09T23:38:04.319869Z"
    },
    "papermill": {
     "duration": 0.064563,
     "end_time": "2021-05-09T23:38:04.320116",
     "exception": false,
     "start_time": "2021-05-09T23:38:04.255553",
     "status": "completed"
    },
    "tags": []
   },
   "outputs": [
    {
     "data": {
      "text/html": [
       "<div>\n",
       "<style scoped>\n",
       "    .dataframe tbody tr th:only-of-type {\n",
       "        vertical-align: middle;\n",
       "    }\n",
       "\n",
       "    .dataframe tbody tr th {\n",
       "        vertical-align: top;\n",
       "    }\n",
       "\n",
       "    .dataframe thead th {\n",
       "        text-align: right;\n",
       "    }\n",
       "</style>\n",
       "<table border=\"1\" class=\"dataframe\">\n",
       "  <thead>\n",
       "    <tr style=\"text-align: right;\">\n",
       "      <th></th>\n",
       "      <th>Real</th>\n",
       "      <th>Predicción RF</th>\n",
       "    </tr>\n",
       "  </thead>\n",
       "  <tbody>\n",
       "    <tr>\n",
       "      <th>0</th>\n",
       "      <td>54281</td>\n",
       "      <td>27282.2</td>\n",
       "    </tr>\n",
       "    <tr>\n",
       "      <th>1</th>\n",
       "      <td>229091</td>\n",
       "      <td>206046.0</td>\n",
       "    </tr>\n",
       "    <tr>\n",
       "      <th>2</th>\n",
       "      <td>659112</td>\n",
       "      <td>657995.0</td>\n",
       "    </tr>\n",
       "    <tr>\n",
       "      <th>3</th>\n",
       "      <td>566070</td>\n",
       "      <td>568768.5</td>\n",
       "    </tr>\n",
       "    <tr>\n",
       "      <th>4</th>\n",
       "      <td>748799</td>\n",
       "      <td>734236.7</td>\n",
       "    </tr>\n",
       "  </tbody>\n",
       "</table>\n",
       "</div>"
      ],
      "text/plain": [
       "     Real  Predicción RF\n",
       "0   54281        27282.2\n",
       "1  229091       206046.0\n",
       "2  659112       657995.0\n",
       "3  566070       568768.5\n",
       "4  748799       734236.7"
      ]
     },
     "execution_count": 27,
     "metadata": {},
     "output_type": "execute_result"
    }
   ],
   "source": [
    "xPe1 = peru['date'].values.reshape(-1,1)\n",
    "yPe1 = peru['people_vaccinated'].values.reshape(-1,1)\n",
    "XPe1_train, XPe1_test, yPe1_train, yPe1_test = train_test_split(xPe1, yPe1, test_size=0.2, random_state=0)\n",
    "\n",
    "RFPer1 = RandomForestRegressor(n_estimators=10, random_state=0)\n",
    "RFPer1.fit(XPe1_train, yPe1_train.ravel())\n",
    "\n",
    "predRFPer1 = RFPer1.predict(XPe1_test)\n",
    "pd.DataFrame({'Real': yPe1_test.flatten(), 'Predicción RF': predRFPer1.flatten()}).head()"
   ]
  },
  {
   "cell_type": "markdown",
   "id": "5c85fa4b",
   "metadata": {
    "papermill": {
     "duration": 0.037416,
     "end_time": "2021-05-09T23:38:04.394472",
     "exception": false,
     "start_time": "2021-05-09T23:38:04.357056",
     "status": "completed"
    },
    "tags": []
   },
   "source": [
    "#### Segunda dosis"
   ]
  },
  {
   "cell_type": "code",
   "execution_count": 28,
   "id": "75ab4659",
   "metadata": {
    "execution": {
     "iopub.execute_input": "2021-05-09T23:38:04.475511Z",
     "iopub.status.busy": "2021-05-09T23:38:04.474880Z",
     "iopub.status.idle": "2021-05-09T23:38:04.495775Z",
     "shell.execute_reply": "2021-05-09T23:38:04.496365Z"
    },
    "papermill": {
     "duration": 0.063855,
     "end_time": "2021-05-09T23:38:04.496598",
     "exception": false,
     "start_time": "2021-05-09T23:38:04.432743",
     "status": "completed"
    },
    "tags": []
   },
   "outputs": [
    {
     "data": {
      "text/html": [
       "<div>\n",
       "<style scoped>\n",
       "    .dataframe tbody tr th:only-of-type {\n",
       "        vertical-align: middle;\n",
       "    }\n",
       "\n",
       "    .dataframe tbody tr th {\n",
       "        vertical-align: top;\n",
       "    }\n",
       "\n",
       "    .dataframe thead th {\n",
       "        text-align: right;\n",
       "    }\n",
       "</style>\n",
       "<table border=\"1\" class=\"dataframe\">\n",
       "  <thead>\n",
       "    <tr style=\"text-align: right;\">\n",
       "      <th></th>\n",
       "      <th>Real</th>\n",
       "      <th>Predicción RF</th>\n",
       "    </tr>\n",
       "  </thead>\n",
       "  <tbody>\n",
       "    <tr>\n",
       "      <th>0</th>\n",
       "      <td>0</td>\n",
       "      <td>0.0</td>\n",
       "    </tr>\n",
       "    <tr>\n",
       "      <th>1</th>\n",
       "      <td>0</td>\n",
       "      <td>0.0</td>\n",
       "    </tr>\n",
       "    <tr>\n",
       "      <th>2</th>\n",
       "      <td>375738</td>\n",
       "      <td>373012.0</td>\n",
       "    </tr>\n",
       "    <tr>\n",
       "      <th>3</th>\n",
       "      <td>284460</td>\n",
       "      <td>284687.0</td>\n",
       "    </tr>\n",
       "    <tr>\n",
       "      <th>4</th>\n",
       "      <td>561775</td>\n",
       "      <td>542528.2</td>\n",
       "    </tr>\n",
       "  </tbody>\n",
       "</table>\n",
       "</div>"
      ],
      "text/plain": [
       "     Real  Predicción RF\n",
       "0       0            0.0\n",
       "1       0            0.0\n",
       "2  375738       373012.0\n",
       "3  284460       284687.0\n",
       "4  561775       542528.2"
      ]
     },
     "execution_count": 28,
     "metadata": {},
     "output_type": "execute_result"
    }
   ],
   "source": [
    "xPe2 = peru['date'].values.reshape(-1,1)\n",
    "yPe2 = peru['people_fully_vaccinated'].values.reshape(-1,1)\n",
    "XPe2_train, XPe2_test, yPe2_train, yPe2_test = train_test_split(xPe2, yPe2, test_size=0.2, random_state=0)\n",
    "\n",
    "RFPer2 = RandomForestRegressor(n_estimators=10, random_state=0)\n",
    "RFPer2.fit(XPe2_train, yPe2_train.ravel())\n",
    "\n",
    "predRFPer2 = RFPer2.predict(XPe2_test)\n",
    "pd.DataFrame({'Real': yPe2_test.flatten(), 'Predicción RF': predRFPer2.flatten()}).head()"
   ]
  },
  {
   "cell_type": "markdown",
   "id": "2b9b1574",
   "metadata": {
    "papermill": {
     "duration": 0.038511,
     "end_time": "2021-05-09T23:38:04.572932",
     "exception": false,
     "start_time": "2021-05-09T23:38:04.534421",
     "status": "completed"
    },
    "tags": []
   },
   "source": [
    "### Portugal"
   ]
  },
  {
   "cell_type": "code",
   "execution_count": 29,
   "id": "9227757a",
   "metadata": {
    "execution": {
     "iopub.execute_input": "2021-05-09T23:38:04.653431Z",
     "iopub.status.busy": "2021-05-09T23:38:04.652518Z",
     "iopub.status.idle": "2021-05-09T23:38:04.667044Z",
     "shell.execute_reply": "2021-05-09T23:38:04.667581Z"
    },
    "papermill": {
     "duration": 0.056733,
     "end_time": "2021-05-09T23:38:04.667817",
     "exception": false,
     "start_time": "2021-05-09T23:38:04.611084",
     "status": "completed"
    },
    "tags": []
   },
   "outputs": [
    {
     "data": {
      "text/html": [
       "<div>\n",
       "<style scoped>\n",
       "    .dataframe tbody tr th:only-of-type {\n",
       "        vertical-align: middle;\n",
       "    }\n",
       "\n",
       "    .dataframe tbody tr th {\n",
       "        vertical-align: top;\n",
       "    }\n",
       "\n",
       "    .dataframe thead th {\n",
       "        text-align: right;\n",
       "    }\n",
       "</style>\n",
       "<table border=\"1\" class=\"dataframe\">\n",
       "  <thead>\n",
       "    <tr style=\"text-align: right;\">\n",
       "      <th></th>\n",
       "      <th>location</th>\n",
       "      <th>date</th>\n",
       "      <th>vaccine</th>\n",
       "      <th>source_url</th>\n",
       "      <th>total_vaccinations</th>\n",
       "      <th>people_vaccinated</th>\n",
       "      <th>people_fully_vaccinated</th>\n",
       "    </tr>\n",
       "  </thead>\n",
       "  <tbody>\n",
       "    <tr>\n",
       "      <th>0</th>\n",
       "      <td>Portugal</td>\n",
       "      <td>-25</td>\n",
       "      <td>Pfizer/BioNTech</td>\n",
       "      <td>https://github.com/dssg-pt/covid19pt-data</td>\n",
       "      <td>4963</td>\n",
       "      <td>4963</td>\n",
       "      <td>0</td>\n",
       "    </tr>\n",
       "    <tr>\n",
       "      <th>1</th>\n",
       "      <td>Portugal</td>\n",
       "      <td>-24</td>\n",
       "      <td>Pfizer/BioNTech</td>\n",
       "      <td>https://github.com/dssg-pt/covid19pt-data</td>\n",
       "      <td>7754</td>\n",
       "      <td>7754</td>\n",
       "      <td>0</td>\n",
       "    </tr>\n",
       "    <tr>\n",
       "      <th>2</th>\n",
       "      <td>Portugal</td>\n",
       "      <td>-23</td>\n",
       "      <td>Pfizer/BioNTech</td>\n",
       "      <td>https://github.com/dssg-pt/covid19pt-data</td>\n",
       "      <td>20368</td>\n",
       "      <td>20368</td>\n",
       "      <td>0</td>\n",
       "    </tr>\n",
       "    <tr>\n",
       "      <th>3</th>\n",
       "      <td>Portugal</td>\n",
       "      <td>-22</td>\n",
       "      <td>Pfizer/BioNTech</td>\n",
       "      <td>https://github.com/dssg-pt/covid19pt-data</td>\n",
       "      <td>30543</td>\n",
       "      <td>30543</td>\n",
       "      <td>0</td>\n",
       "    </tr>\n",
       "    <tr>\n",
       "      <th>4</th>\n",
       "      <td>Portugal</td>\n",
       "      <td>-21</td>\n",
       "      <td>Pfizer/BioNTech</td>\n",
       "      <td>https://github.com/dssg-pt/covid19pt-data</td>\n",
       "      <td>32749</td>\n",
       "      <td>32749</td>\n",
       "      <td>0</td>\n",
       "    </tr>\n",
       "  </tbody>\n",
       "</table>\n",
       "</div>"
      ],
      "text/plain": [
       "   location  date          vaccine                                 source_url  \\\n",
       "0  Portugal   -25  Pfizer/BioNTech  https://github.com/dssg-pt/covid19pt-data   \n",
       "1  Portugal   -24  Pfizer/BioNTech  https://github.com/dssg-pt/covid19pt-data   \n",
       "2  Portugal   -23  Pfizer/BioNTech  https://github.com/dssg-pt/covid19pt-data   \n",
       "3  Portugal   -22  Pfizer/BioNTech  https://github.com/dssg-pt/covid19pt-data   \n",
       "4  Portugal   -21  Pfizer/BioNTech  https://github.com/dssg-pt/covid19pt-data   \n",
       "\n",
       "   total_vaccinations  people_vaccinated  people_fully_vaccinated  \n",
       "0                4963               4963                        0  \n",
       "1                7754               7754                        0  \n",
       "2               20368              20368                        0  \n",
       "3               30543              30543                        0  \n",
       "4               32749              32749                        0  "
      ]
     },
     "execution_count": 29,
     "metadata": {},
     "output_type": "execute_result"
    }
   ],
   "source": [
    "portugal = pd.read_csv('./Portugal.csv')\n",
    "portugal['date'] = pd.to_datetime(portugal['date'],format='%Y-%m-%d')\n",
    "\n",
    "# Expresar las fechas en numero de dias\n",
    "date = portugal['date']\n",
    "portugal['date'] = date.map(lambda x : (x - primeraFechaValida).days)\n",
    "\n",
    "portugal.head()"
   ]
  },
  {
   "cell_type": "markdown",
   "id": "d9c2b661",
   "metadata": {
    "papermill": {
     "duration": 0.038848,
     "end_time": "2021-05-09T23:38:04.746653",
     "exception": false,
     "start_time": "2021-05-09T23:38:04.707805",
     "status": "completed"
    },
    "tags": []
   },
   "source": [
    "#### Primera Dosis"
   ]
  },
  {
   "cell_type": "code",
   "execution_count": 30,
   "id": "8376ba1c",
   "metadata": {
    "execution": {
     "iopub.execute_input": "2021-05-09T23:38:04.834966Z",
     "iopub.status.busy": "2021-05-09T23:38:04.830250Z",
     "iopub.status.idle": "2021-05-09T23:38:04.851932Z",
     "shell.execute_reply": "2021-05-09T23:38:04.852420Z"
    },
    "papermill": {
     "duration": 0.067127,
     "end_time": "2021-05-09T23:38:04.852644",
     "exception": false,
     "start_time": "2021-05-09T23:38:04.785517",
     "status": "completed"
    },
    "tags": []
   },
   "outputs": [
    {
     "data": {
      "text/html": [
       "<div>\n",
       "<style scoped>\n",
       "    .dataframe tbody tr th:only-of-type {\n",
       "        vertical-align: middle;\n",
       "    }\n",
       "\n",
       "    .dataframe tbody tr th {\n",
       "        vertical-align: top;\n",
       "    }\n",
       "\n",
       "    .dataframe thead th {\n",
       "        text-align: right;\n",
       "    }\n",
       "</style>\n",
       "<table border=\"1\" class=\"dataframe\">\n",
       "  <thead>\n",
       "    <tr style=\"text-align: right;\">\n",
       "      <th></th>\n",
       "      <th>Real</th>\n",
       "      <th>Predicción RF</th>\n",
       "    </tr>\n",
       "  </thead>\n",
       "  <tbody>\n",
       "    <tr>\n",
       "      <th>0</th>\n",
       "      <td>1244821</td>\n",
       "      <td>1217470.0</td>\n",
       "    </tr>\n",
       "    <tr>\n",
       "      <th>1</th>\n",
       "      <td>2692633</td>\n",
       "      <td>2653904.4</td>\n",
       "    </tr>\n",
       "    <tr>\n",
       "      <th>2</th>\n",
       "      <td>210734</td>\n",
       "      <td>201088.4</td>\n",
       "    </tr>\n",
       "    <tr>\n",
       "      <th>3</th>\n",
       "      <td>33670</td>\n",
       "      <td>39591.5</td>\n",
       "    </tr>\n",
       "    <tr>\n",
       "      <th>4</th>\n",
       "      <td>225146</td>\n",
       "      <td>225146.0</td>\n",
       "    </tr>\n",
       "  </tbody>\n",
       "</table>\n",
       "</div>"
      ],
      "text/plain": [
       "      Real  Predicción RF\n",
       "0  1244821      1217470.0\n",
       "1  2692633      2653904.4\n",
       "2   210734       201088.4\n",
       "3    33670        39591.5\n",
       "4   225146       225146.0"
      ]
     },
     "execution_count": 30,
     "metadata": {},
     "output_type": "execute_result"
    }
   ],
   "source": [
    "xPo1 = portugal['date'].values.reshape(-1,1)\n",
    "yPo1 = portugal['people_vaccinated'].values.reshape(-1,1)\n",
    "XPo1_train, XPo1_test, yPo1_train, yPo1_test = train_test_split(xPo1, yPo1, test_size=0.2, random_state=0)\n",
    "\n",
    "RFPor1 = RandomForestRegressor(n_estimators=10, random_state=0)\n",
    "RFPor1.fit(XPo1_train, yPo1_train.ravel())\n",
    "\n",
    "predRFPor1 = RFPor1.predict(XPo1_test)\n",
    "pd.DataFrame({'Real': yPo1_test.flatten(), 'Predicción RF': predRFPor1.flatten()}).head()"
   ]
  },
  {
   "cell_type": "markdown",
   "id": "c491bcfa",
   "metadata": {
    "papermill": {
     "duration": 0.039576,
     "end_time": "2021-05-09T23:38:04.931105",
     "exception": false,
     "start_time": "2021-05-09T23:38:04.891529",
     "status": "completed"
    },
    "tags": []
   },
   "source": [
    "#### Segunda Dosis"
   ]
  },
  {
   "cell_type": "code",
   "execution_count": 31,
   "id": "aa99b75c",
   "metadata": {
    "execution": {
     "iopub.execute_input": "2021-05-09T23:38:05.023005Z",
     "iopub.status.busy": "2021-05-09T23:38:05.017125Z",
     "iopub.status.idle": "2021-05-09T23:38:05.042227Z",
     "shell.execute_reply": "2021-05-09T23:38:05.042787Z"
    },
    "papermill": {
     "duration": 0.072485,
     "end_time": "2021-05-09T23:38:05.043032",
     "exception": false,
     "start_time": "2021-05-09T23:38:04.970547",
     "status": "completed"
    },
    "tags": []
   },
   "outputs": [
    {
     "data": {
      "text/html": [
       "<div>\n",
       "<style scoped>\n",
       "    .dataframe tbody tr th:only-of-type {\n",
       "        vertical-align: middle;\n",
       "    }\n",
       "\n",
       "    .dataframe tbody tr th {\n",
       "        vertical-align: top;\n",
       "    }\n",
       "\n",
       "    .dataframe thead th {\n",
       "        text-align: right;\n",
       "    }\n",
       "</style>\n",
       "<table border=\"1\" class=\"dataframe\">\n",
       "  <thead>\n",
       "    <tr style=\"text-align: right;\">\n",
       "      <th></th>\n",
       "      <th>Real</th>\n",
       "      <th>Predicción RF</th>\n",
       "    </tr>\n",
       "  </thead>\n",
       "  <tbody>\n",
       "    <tr>\n",
       "      <th>0</th>\n",
       "      <td>500793</td>\n",
       "      <td>497197.0</td>\n",
       "    </tr>\n",
       "    <tr>\n",
       "      <th>1</th>\n",
       "      <td>982958</td>\n",
       "      <td>949952.9</td>\n",
       "    </tr>\n",
       "    <tr>\n",
       "      <th>2</th>\n",
       "      <td>25996</td>\n",
       "      <td>26221.3</td>\n",
       "    </tr>\n",
       "    <tr>\n",
       "      <th>3</th>\n",
       "      <td>0</td>\n",
       "      <td>0.0</td>\n",
       "    </tr>\n",
       "    <tr>\n",
       "      <th>4</th>\n",
       "      <td>30553</td>\n",
       "      <td>30553.0</td>\n",
       "    </tr>\n",
       "  </tbody>\n",
       "</table>\n",
       "</div>"
      ],
      "text/plain": [
       "     Real  Predicción RF\n",
       "0  500793       497197.0\n",
       "1  982958       949952.9\n",
       "2   25996        26221.3\n",
       "3       0            0.0\n",
       "4   30553        30553.0"
      ]
     },
     "execution_count": 31,
     "metadata": {},
     "output_type": "execute_result"
    }
   ],
   "source": [
    "xPo2 = portugal['date'].values.reshape(-1,1)\n",
    "yPo2 = portugal['people_fully_vaccinated'].values.reshape(-1,1)\n",
    "XPo2_train, XPo2_test, yPo2_train, yPo2_test = train_test_split(xPo2, yPo2, test_size=0.2, random_state=0)\n",
    "\n",
    "RFPor2 = RandomForestRegressor(n_estimators=10, random_state=0)\n",
    "RFPor2.fit(XPo2_train, yPo2_train.ravel())\n",
    "\n",
    "predRFPor2 = RFPor2.predict(XPo2_test)\n",
    "pd.DataFrame({'Real': yPo2_test.flatten(), 'Predicción RF': predRFPor2.flatten()}).head()"
   ]
  },
  {
   "cell_type": "markdown",
   "id": "570f2680",
   "metadata": {
    "papermill": {
     "duration": 0.03919,
     "end_time": "2021-05-09T23:38:05.120374",
     "exception": false,
     "start_time": "2021-05-09T23:38:05.081184",
     "status": "completed"
    },
    "tags": []
   },
   "source": [
    "## Comparación datos reales"
   ]
  },
  {
   "cell_type": "markdown",
   "id": "0badc143",
   "metadata": {
    "papermill": {
     "duration": 0.037784,
     "end_time": "2021-05-09T23:38:05.196713",
     "exception": false,
     "start_time": "2021-05-09T23:38:05.158929",
     "status": "completed"
    },
    "tags": []
   },
   "source": [
    "#### Primera Dosis"
   ]
  },
  {
   "cell_type": "code",
   "execution_count": 32,
   "id": "441ed3a8",
   "metadata": {
    "execution": {
     "iopub.execute_input": "2021-05-09T23:38:05.321800Z",
     "iopub.status.busy": "2021-05-09T23:38:05.321120Z",
     "iopub.status.idle": "2021-05-09T23:38:05.476530Z",
     "shell.execute_reply": "2021-05-09T23:38:05.477103Z"
    },
    "papermill": {
     "duration": 0.242339,
     "end_time": "2021-05-09T23:38:05.477350",
     "exception": false,
     "start_time": "2021-05-09T23:38:05.235011",
     "status": "completed"
    },
    "tags": []
   },
   "outputs": [
    {
     "data": {
      "image/png": "[encoded data removed]",
      "text/plain": [
       "<Figure size 1080x504 with 1 Axes>"
      ]
     },
     "metadata": {
      "needs_background": "light"
     },
     "output_type": "display_data"
    }
   ],
   "source": [
    "plt.figure(figsize = (15,7))\n",
    "plt.plot(x1, y1, '-', label ='Ecuador')\n",
    "plt.plot(xPe1, yPe1, '-', label ='Peru', color='r')\n",
    "plt.plot(xPo1, yPo1, '-', label ='Portugal', color='g')\n",
    "plt.title('Real - 1ra Dosis - Comparación')\n",
    "plt.xlabel('Fecha en días')\n",
    "plt.ylabel('# Vacunados')\n",
    "plt.legend()\n",
    "plt.show()"
   ]
  },
  {
   "cell_type": "markdown",
   "id": "8639ae47",
   "metadata": {
    "papermill": {
     "duration": 0.040115,
     "end_time": "2021-05-09T23:38:05.556565",
     "exception": false,
     "start_time": "2021-05-09T23:38:05.516450",
     "status": "completed"
    },
    "tags": []
   },
   "source": [
    "#### Segunda dosis"
   ]
  },
  {
   "cell_type": "code",
   "execution_count": 33,
   "id": "2690f45a",
   "metadata": {
    "execution": {
     "iopub.execute_input": "2021-05-09T23:38:05.683881Z",
     "iopub.status.busy": "2021-05-09T23:38:05.683208Z",
     "iopub.status.idle": "2021-05-09T23:38:05.840679Z",
     "shell.execute_reply": "2021-05-09T23:38:05.841221Z"
    },
    "papermill": {
     "duration": 0.24563,
     "end_time": "2021-05-09T23:38:05.841571",
     "exception": false,
     "start_time": "2021-05-09T23:38:05.595941",
     "status": "completed"
    },
    "tags": []
   },
   "outputs": [
    {
     "data": {
      "image/png": "[encoded data removed]",
      "text/plain": [
       "<Figure size 1080x504 with 1 Axes>"
      ]
     },
     "metadata": {
      "needs_background": "light"
     },
     "output_type": "display_data"
    }
   ],
   "source": [
    "plt.figure(figsize = (15,7))\n",
    "plt.plot(x2, y2, '-', label ='Ecuador')\n",
    "plt.plot(xPe2, yPe2, '-', label ='Peru', color='r')\n",
    "plt.plot(xPo2, yPo2, '-', label ='Portugal', color='g')\n",
    "plt.title('Real - 2da Dosis - Comparación')\n",
    "plt.xlabel('Fecha en días')\n",
    "plt.ylabel('# Vacunados')\n",
    "plt.legend()\n",
    "plt.show()"
   ]
  },
  {
   "cell_type": "markdown",
   "id": "77338017",
   "metadata": {
    "papermill": {
     "duration": 0.041215,
     "end_time": "2021-05-09T23:38:05.922545",
     "exception": false,
     "start_time": "2021-05-09T23:38:05.881330",
     "status": "completed"
    },
    "tags": []
   },
   "source": [
    "## Comparación Modelos de Regresión"
   ]
  },
  {
   "cell_type": "code",
   "execution_count": 34,
   "id": "9c6d54e5",
   "metadata": {
    "execution": {
     "iopub.execute_input": "2021-05-09T23:38:06.062419Z",
     "iopub.status.busy": "2021-05-09T23:38:06.061788Z",
     "iopub.status.idle": "2021-05-09T23:38:06.219522Z",
     "shell.execute_reply": "2021-05-09T23:38:06.219030Z"
    },
    "papermill": {
     "duration": 0.25609,
     "end_time": "2021-05-09T23:38:06.219717",
     "exception": false,
     "start_time": "2021-05-09T23:38:05.963627",
     "status": "completed"
    },
    "tags": []
   },
   "outputs": [
    {
     "data": {
      "image/png": "[encoded data removed]",
      "text/plain": [
       "<Figure size 1080x504 with 1 Axes>"
      ]
     },
     "metadata": {
      "needs_background": "light"
     },
     "output_type": "display_data"
    }
   ],
   "source": [
    "plt.figure(figsize = (15,7))\n",
    "plt.plot(x1, RF1.predict(x1),  '-', label = 'Ecuador')\n",
    "plt.plot(xPe1, RFPer1.predict(xPe1),  '-', label = 'Perú', color='r')\n",
    "plt.plot(xPo1, RFPor1.predict(xPo1),  '-', label = 'Portugal', color='g')\n",
    "plt.title('Random Forest Regression - 1ra Dosis - Comparación')\n",
    "plt.xlabel('Fecha en días')\n",
    "plt.ylabel('# Vacunados')\n",
    "plt.legend()\n",
    "plt.show()"
   ]
  },
  {
   "cell_type": "code",
   "execution_count": 35,
   "id": "fc6e5d49",
   "metadata": {
    "execution": {
     "iopub.execute_input": "2021-05-09T23:38:06.357613Z",
     "iopub.status.busy": "2021-05-09T23:38:06.356898Z",
     "iopub.status.idle": "2021-05-09T23:38:06.519230Z",
     "shell.execute_reply": "2021-05-09T23:38:06.519756Z"
    },
    "papermill": {
     "duration": 0.258673,
     "end_time": "2021-05-09T23:38:06.519987",
     "exception": false,
     "start_time": "2021-05-09T23:38:06.261314",
     "status": "completed"
    },
    "tags": []
   },
   "outputs": [
    {
     "data": {
      "image/png": "[encoded data removed]",
      "text/plain": [
       "<Figure size 1080x504 with 1 Axes>"
      ]
     },
     "metadata": {
      "needs_background": "light"
     },
     "output_type": "display_data"
    }
   ],
   "source": [
    "plt.figure(figsize = (15,7))\n",
    "plt.plot(x2, RF2.predict(x2),  '-', label = 'Ecuador')\n",
    "plt.plot(xPe2, RFPer2.predict(xPe2),  '-', label = 'Perú', color='r')\n",
    "plt.plot(xPo2, RFPor2.predict(xPo2),  '-', label = 'Portugal', color='g')\n",
    "plt.title('Random Forest Regression - 2da Dosis - Comparación')\n",
    "plt.xlabel('Fecha en días')\n",
    "plt.ylabel('# Vacunados')\n",
    "plt.legend()\n",
    "plt.show()"
   ]
  },
  {
   "cell_type": "markdown",
   "id": "811bda7f",
   "metadata": {
    "papermill": {
     "duration": 0.044425,
     "end_time": "2021-05-09T23:38:06.606793",
     "exception": false,
     "start_time": "2021-05-09T23:38:06.562368",
     "status": "completed"
    },
    "tags": []
   },
   "source": [
    "# Identificar cual es la fecha tentativa en la que todos los Ecuatorianos podrán ser vacunados con las dos dosis. "
   ]
  },
  {
   "cell_type": "code",
   "execution_count": 36,
   "id": "4bfdf689",
   "metadata": {
    "execution": {
     "iopub.execute_input": "2021-05-09T23:38:06.699597Z",
     "iopub.status.busy": "2021-05-09T23:38:06.698839Z",
     "iopub.status.idle": "2021-05-09T23:38:06.701340Z",
     "shell.execute_reply": "2021-05-09T23:38:06.701796Z"
    },
    "papermill": {
     "duration": 0.052653,
     "end_time": "2021-05-09T23:38:06.702019",
     "exception": false,
     "start_time": "2021-05-09T23:38:06.649366",
     "status": "completed"
    },
    "tags": []
   },
   "outputs": [
    {
     "name": "stdout",
     "output_type": "stream",
     "text": [
      "[105]\n"
     ]
    }
   ],
   "source": [
    "maximo = max(x2)\n",
    "last = RF2.predict([maximo])\n",
    "while last >= 17370000000:\n",
    "    maximo = max(x2)\n",
    "    last = RF2.predict([maximo])\n",
    "    print(last)\n",
    "print(maximo)"
   ]
  },
  {
   "cell_type": "code",
   "execution_count": null,
   "id": "69a76c95",
   "metadata": {
    "papermill": {
     "duration": 0.044167,
     "end_time": "2021-05-09T23:38:06.789044",
     "exception": false,
     "start_time": "2021-05-09T23:38:06.744877",
     "status": "completed"
    },
    "tags": []
   },
   "outputs": [],
   "source": []
  },
  {
   "cell_type": "code",
   "execution_count": null,
   "id": "4255e0de",
   "metadata": {
    "papermill": {
     "duration": 0.042317,
     "end_time": "2021-05-09T23:38:06.874050",
     "exception": false,
     "start_time": "2021-05-09T23:38:06.831733",
     "status": "completed"
    },
    "tags": []
   },
   "outputs": [],
   "source": []
  }
 ],
 "metadata": {
  "celltoolbar": "Tags",
  "kernelspec": {
   "display_name": "Python 3",
   "language": "python",
   "name": "python3"
  },
  "language_info": {
   "codemirror_mode": {
    "name": "ipython",
    "version": 3
   },
   "file_extension": ".py",
   "mimetype": "text/x-python",
   "name": "python",
   "nbconvert_exporter": "python",
   "pygments_lexer": "ipython3",
   "version": "3.9.4"
  },
  "papermill": {
   "default_parameters": {},
   "duration": 10.121912,
   "end_time": "2021-05-09T23:38:07.441612",
   "environment_variables": {},
   "exception": null,
   "input_path": "./morales.ipynb",
   "output_path": "./resultado.ipynb",
   "parameters": {
    "fin": "2021-03-12",
    "inicio": "2021-02-01"
   },
   "start_time": "2021-05-09T23:37:57.319700",
   "version": "2.3.3"
  }
 },
 "nbformat": 4,
 "nbformat_minor": 5
}
